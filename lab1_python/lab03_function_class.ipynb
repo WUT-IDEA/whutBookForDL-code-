{
 "cells": [
  {
   "cell_type": "markdown",
   "metadata": {},
   "source": [
    "函数`function`/类`class`定义"
   ]
  },
  {
   "cell_type": "markdown",
   "metadata": {},
   "source": [
    "函数`function`"
   ]
  },
  {
   "cell_type": "code",
   "execution_count": 1,
   "metadata": {},
   "outputs": [
    {
     "name": "stdout",
     "output_type": "stream",
     "text": [
      "6\n"
     ]
    }
   ],
   "source": [
    "def double(x):\n",
    "    return 2*x\n",
    "\n",
    "print double(3)"
   ]
  },
  {
   "cell_type": "markdown",
   "metadata": {},
   "source": [
    "`lambda`定义函数,只能定义简单的函数"
   ]
  },
  {
   "cell_type": "code",
   "execution_count": 2,
   "metadata": {},
   "outputs": [
    {
     "name": "stdout",
     "output_type": "stream",
     "text": [
      "9\n"
     ]
    }
   ],
   "source": [
    "triple = lambda x: 3 * x\n",
    "print triple(3)"
   ]
  },
  {
   "cell_type": "markdown",
   "metadata": {},
   "source": [
    "默认参数，及调用"
   ]
  },
  {
   "cell_type": "code",
   "execution_count": 3,
   "metadata": {},
   "outputs": [
    {
     "name": "stdout",
     "output_type": "stream",
     "text": [
      "plus (2, 3) is 5\n",
      "plus (2, 3) is 5\n"
     ]
    }
   ],
   "source": [
    "def print_plus(x=1, y=1):\n",
    "    return 'plus (%s, %s) is %s' % (x, y, x+y)\n",
    "\n",
    "print print_plus(2, 3) # right\n",
    "print print_plus(x=2, y=3) # right\n",
    "# print print_plus(x=2, 3) # wrong"
   ]
  },
  {
   "cell_type": "markdown",
   "metadata": {},
   "source": [
    "不定参数"
   ]
  },
  {
   "cell_type": "code",
   "execution_count": 4,
   "metadata": {},
   "outputs": [
    {
     "name": "stdout",
     "output_type": "stream",
     "text": [
      "1\n",
      "<type 'tuple'> (2, 3)\n",
      "1\n",
      "<type 'dict'> {'c': 2, 'd': 3}\n"
     ]
    }
   ],
   "source": [
    "def foo1(a, *args):\n",
    "    print a\n",
    "    print type(args), args\n",
    "    \n",
    "def foo2(a, **kwargs):\n",
    "    print a\n",
    "    print type(kwargs), kwargs\n",
    "\n",
    "foo1(1,2,3)\n",
    "# foo2(1,2,3) # wrong\n",
    "foo2(1,c=2,d=3)"
   ]
  },
  {
   "cell_type": "markdown",
   "metadata": {},
   "source": [
    "通过`map`调用函数"
   ]
  },
  {
   "cell_type": "code",
   "execution_count": 5,
   "metadata": {},
   "outputs": [
    {
     "name": "stdout",
     "output_type": "stream",
     "text": [
      "[3, 3]\n"
     ]
    }
   ],
   "source": [
    "def plus(a, b):\n",
    "    return a+b\n",
    "\n",
    "print map(plus, [1,2], [2,1])"
   ]
  },
  {
   "cell_type": "markdown",
   "metadata": {},
   "source": [
    "类`class`"
   ]
  },
  {
   "cell_type": "code",
   "execution_count": 6,
   "metadata": {},
   "outputs": [
    {
     "ename": "AttributeError",
     "evalue": "Foo instance has no attribute '__a'",
     "traceback": [
      "\u001b[0;31m---------------------------------------------------------------------------\u001b[0m",
      "\u001b[0;31mAttributeError\u001b[0m                            Traceback (most recent call last)",
      "\u001b[0;32m<ipython-input-6-49ecef2c324c>\u001b[0m in \u001b[0;36m<module>\u001b[0;34m()\u001b[0m\n\u001b[1;32m     11\u001b[0m \u001b[0;34m\u001b[0m\u001b[0m\n\u001b[1;32m     12\u001b[0m \u001b[0mfoo\u001b[0m\u001b[0;34m=\u001b[0m\u001b[0mFoo\u001b[0m\u001b[0;34m(\u001b[0m\u001b[0;36m10\u001b[0m\u001b[0;34m)\u001b[0m\u001b[0;34m\u001b[0m\u001b[0m\n\u001b[0;32m---> 13\u001b[0;31m \u001b[0;32mprint\u001b[0m \u001b[0mfoo\u001b[0m\u001b[0;34m.\u001b[0m\u001b[0m__a\u001b[0m\u001b[0;34m\u001b[0m\u001b[0m\n\u001b[0m",
      "\u001b[0;31mAttributeError\u001b[0m: Foo instance has no attribute '__a'"
     ],
     "output_type": "error"
    }
   ],
   "source": [
    "class Foo():\n",
    "    def __init__(self, a):\n",
    "        self.__a = a # private 两个下划线\n",
    "        self.length = 10 # public\n",
    "\n",
    "    def __len__(self): # public\n",
    "        return self.length\n",
    "\n",
    "    def __len(self): # private\n",
    "        return self.__a\n",
    "\n",
    "foo=Foo(10)\n",
    "print foo.__a"
   ]
  }
 ],
 "metadata": {
  "kernelspec": {
   "display_name": "Python 2",
   "language": "python",
   "name": "python2"
  },
  "language_info": {
   "codemirror_mode": {
    "name": "ipython",
    "version": 2
   },
   "file_extension": ".py",
   "mimetype": "text/x-python",
   "name": "python",
   "nbconvert_exporter": "python",
   "pygments_lexer": "ipython2",
   "version": "2.7.12"
  }
 },
 "nbformat": 4,
 "nbformat_minor": 2
}
