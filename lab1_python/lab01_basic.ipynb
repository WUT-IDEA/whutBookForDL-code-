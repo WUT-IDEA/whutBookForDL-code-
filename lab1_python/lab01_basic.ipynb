{
 "cells": [
  {
   "cell_type": "markdown",
   "metadata": {},
   "source": [
    "python的输出为print字符<br>\n",
    "python2.x中以空格隔开；结尾若以逗号结束 ，表示不换行<br>\n",
    "python3.x中以括号隔开；结end=''结束 ，表示不换行<br>"
   ]
  },
  {
   "cell_type": "code",
   "execution_count": 1,
   "metadata": {},
   "outputs": [
    {
     "name": "stdout",
     "output_type": "stream",
     "text": [
      "hello world python\n"
     ]
    }
   ],
   "source": [
    "# python 2.x\n",
    "print 'hello world',\n",
    "print 'python'\n",
    "\n",
    "# python 3.x\n",
    "# print('hello world', end='')"
   ]
  },
  {
   "cell_type": "markdown",
   "metadata": {},
   "source": [
    "为了保证print代码在python2/3中通用，一般在文件开始输入。之后，print必须以括号隔<br>\n",
    "from __future__ import print_function"
   ]
  },
  {
   "cell_type": "markdown",
   "metadata": {},
   "source": [
    "python变量类型"
   ]
  },
  {
   "cell_type": "markdown",
   "metadata": {},
   "source": [
    "python变量的基础类型有：`int`，`float`，`double`，`string`, `bool`, `None`<br>\n",
    "python变量无需定义类型，自动调解精度<br>\n",
    "对于第三方库，一般还有：int8,float32,double64等不同精度的类型"
   ]
  },
  {
   "cell_type": "code",
   "execution_count": 2,
   "metadata": {},
   "outputs": [
    {
     "name": "stdout",
     "output_type": "stream",
     "text": [
      "1 2.0 python 2345283472657824357182493727190281778094971982783 True None\n"
     ]
    }
   ],
   "source": [
    "a, b, c = 1, 2.0, 'python'\n",
    "d = 2345283472657824357182493727190281778094971982783\n",
    "e = True # False\n",
    "f = None\n",
    "print a, b, c, d, e==1, f"
   ]
  },
  {
   "cell_type": "markdown",
   "metadata": {},
   "source": [
    "值得注意的是python的`string`可以用`\"`或者`'`表示；而且可以相互嵌套，在字符串中直接表示，不需要转译符号"
   ]
  },
  {
   "cell_type": "code",
   "execution_count": 3,
   "metadata": {},
   "outputs": [
    {
     "name": "stdout",
     "output_type": "stream",
     "text": [
      "hello world, 'python'\n",
      "hello world, \"python\"\n",
      "hello world, \"python\"\n"
     ]
    }
   ],
   "source": [
    "print \"hello world, 'python'\"\n",
    "print 'hello world, \"python\"'\n",
    "print \"hello world, \\\"python\\\"\""
   ]
  },
  {
   "cell_type": "markdown",
   "metadata": {},
   "source": [
    "数学基础运算: `+` `-` `*` `/` `//` `=` `%` `==` <br>\n",
    "数学特殊运算: `e` `&` `^` `**`\n",
    "逻辑运算：`and` `or` `nt`"
   ]
  },
  {
   "cell_type": "code",
   "execution_count": 4,
   "metadata": {},
   "outputs": [
    {
     "name": "stdout",
     "output_type": "stream",
     "text": [
      "2.0\n",
      "0.001\n",
      "0 1\n",
      "8\n"
     ]
    }
   ],
   "source": [
    "# 整除运算\n",
    "print 7.0//3\n",
    "\n",
    "print 1e-3\n",
    "\n",
    "# 二进制运算\n",
    "print 0^0, 1&1\n",
    "\n",
    "# 指数\n",
    "print 2**3"
   ]
  },
  {
   "cell_type": "code",
   "execution_count": null,
   "metadata": {},
   "outputs": [],
   "source": []
  }
 ],
 "metadata": {
  "kernelspec": {
   "display_name": "Python 2",
   "language": "python",
   "name": "python2"
  },
  "language_info": {
   "codemirror_mode": {
    "name": "ipython",
    "version": 2
   },
   "file_extension": ".py",
   "mimetype": "text/x-python",
   "name": "python",
   "nbconvert_exporter": "python",
   "pygments_lexer": "ipython2",
   "version": "2.7.12"
  }
 },
 "nbformat": 4,
 "nbformat_minor": 2
}
