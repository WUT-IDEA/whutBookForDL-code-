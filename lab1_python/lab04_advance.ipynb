{
 "cells": [
  {
   "cell_type": "markdown",
   "metadata": {},
   "source": [
    "高级数据类型`tuple`,`list`,`dictionary`,`set`<br>\n",
    "排序`sorted`<br>\n",
    "常用第三方库libray:`numpy`,`matplotlib`,`PIL`,读取文件(`codecs`,`pickle`)<br>"
   ]
  },
  {
   "cell_type": "markdown",
   "metadata": {},
   "source": [
    "`tuple`一但定义，不可修改"
   ]
  },
  {
   "cell_type": "code",
   "execution_count": 1,
   "metadata": {},
   "outputs": [
    {
     "name": "stdout",
     "output_type": "stream",
     "text": [
      "(1, '2')\n",
      "2 <type 'str'>\n",
      "1 2\n"
     ]
    }
   ],
   "source": [
    "# 元组 tuple\n",
    "a = (1, '2')\n",
    "print a\n",
    "print a[-1], type(a[-1])\n",
    "\n",
    "# 遍历\n",
    "for i in a:\n",
    "    print i,"
   ]
  },
  {
   "cell_type": "markdown",
   "metadata": {},
   "source": [
    "`list`可修改"
   ]
  },
  {
   "cell_type": "code",
   "execution_count": 2,
   "metadata": {},
   "outputs": [
    {
     "name": "stdout",
     "output_type": "stream",
     "text": [
      "[0, 1, 2, 3, 4, 5, 6, 7, 8, 9] [0, 1, 2, 3, 4, 5, 6, 7, 8, 9]\n",
      "[0, 1, 2, 3, 4, 5, 6, 7, 8, 9, '11']\n",
      "[0, 1, 2, 3, 4, 5, 6, 7, 8, 9]\n",
      "[1, 2, 3, 4, 5, 6, 7, 8, 9]\n",
      "0 1 2 3 4 5 6 7 8 9\n",
      "[2, 3, 4, 5, 6, 7]\n"
     ]
    }
   ],
   "source": [
    "a=list(xrange(10))\n",
    "b=[i for i in xrange(10)]\n",
    "print a,b\n",
    "\n",
    "# 添加\n",
    "a.append('11')\n",
    "print a\n",
    "\n",
    "# 删除\n",
    "a.pop() # 默认删除最后一位\n",
    "print a\n",
    "a.pop(0) # 删除第一位\n",
    "print a\n",
    "\n",
    "# 遍历\n",
    "for i in b:\n",
    "    print i,\n",
    "print\n",
    "    \n",
    "# 切片访问\n",
    "print b[2:-2]"
   ]
  },
  {
   "cell_type": "markdown",
   "metadata": {},
   "source": [
    "`dictionary`字典基于hash表实现"
   ]
  },
  {
   "cell_type": "code",
   "execution_count": 3,
   "metadata": {},
   "outputs": [
    {
     "name": "stdout",
     "output_type": "stream",
     "text": [
      "{}\n",
      "{'1': 1}\n",
      "{'1': 1, '0': 0, '3': 3, '2': 2, '5': 5, '4': 4, '7': 7, '6': 6, '9': 9, '8': 8}\n",
      "{'1': 1, '0': 0, '3': 3, '2': 2, '4': 4, '7': 7, '6': 6, '9': 9, '8': 8}\n",
      "1\n",
      "1 -> 1 0 -> 0 3 -> 3 2 -> 2 4 -> 4 7 -> 7 6 -> 6 9 -> 9 8 -> 8\n"
     ]
    }
   ],
   "source": [
    "a=dict() # 空字典\n",
    "print a\n",
    "\n",
    "a['1']=1 # 添加元素\n",
    "print a\n",
    "\n",
    "b={str(i):i for i in xrange(10)}\n",
    "print b\n",
    "\n",
    "# 删除\n",
    "del b['5']\n",
    "print b\n",
    "\n",
    "# 访问\n",
    "print b['1']\n",
    "\n",
    "# 遍历\n",
    "for key, value in b.items():\n",
    "    print key,'->',value,"
   ]
  },
  {
   "cell_type": "markdown",
   "metadata": {},
   "source": [
    "字典速度"
   ]
  },
  {
   "cell_type": "code",
   "execution_count": 4,
   "metadata": {},
   "outputs": [
    {
     "name": "stdout",
     "output_type": "stream",
     "text": [
      "build time cost 0.000494003295898\n",
      "visit time cost 0.0592591762543\n",
      "hash build time cost 0.000196933746338\n",
      "hash visit time cost 0.121084928513\n"
     ]
    }
   ],
   "source": [
    "import time\n",
    "\n",
    "# 建立时间对比\n",
    "start = time.time()\n",
    "b={str(i):i for i in xrange(10)}\n",
    "print 'build time cost', time.time()-start\n",
    "\n",
    "\n",
    "start = time.time()\n",
    "for i in xrange(1000):\n",
    "    for j in xrange(1000):\n",
    "        b['2']\n",
    "print 'visit time cost', time.time()-start\n",
    "\n",
    "start = time.time()\n",
    "b={hash(str(i)):i for i in xrange(10)}\n",
    "print 'hash build time cost', time.time()-start\n",
    "\n",
    "\n",
    "start = time.time()\n",
    "for i in xrange(1000):\n",
    "    for j in xrange(1000):\n",
    "        b[hash('2')]\n",
    "print 'hash visit time cost', time.time()-start"
   ]
  },
  {
   "cell_type": "markdown",
   "metadata": {},
   "source": [
    "`set`集合，自动求集合，并排好序"
   ]
  },
  {
   "cell_type": "code",
   "execution_count": 5,
   "metadata": {},
   "outputs": [
    {
     "name": "stdout",
     "output_type": "stream",
     "text": [
      "set([' ', 'e', 'd', 'h', 'l', 'o', 'r', 'w'])\n"
     ]
    }
   ],
   "source": [
    "string = 'hello world'\n",
    "print set(string)"
   ]
  },
  {
   "cell_type": "markdown",
   "metadata": {},
   "source": [
    "`sorted`排序"
   ]
  },
  {
   "cell_type": "code",
   "execution_count": 6,
   "metadata": {},
   "outputs": [
    {
     "name": "stdout",
     "output_type": "stream",
     "text": [
      "[1, 2, 3, 4, 5]\n",
      "[('Nevermore', 23), ('Furywind', 21), ('Facelss Void', 13)]\n",
      "[('Naga', 20, '003'), ('Furywind', 21, '001'), ('Nevermore', 23, '004'), ('Facelss Void', 23, '002')]\n"
     ]
    }
   ],
   "source": [
    "a = [3, 2, 4, 5, 1]\n",
    "print sorted(a)\n",
    "\n",
    "# 指定排序\n",
    "age = [('Nevermore', 23), ('Furywind', 21), ('Facelss Void', 13)]\n",
    "print sorted(age, key = lambda x:x[-1], reverse=True)\n",
    "\n",
    "# 多条件排序\n",
    "age_id = [('Nevermore', 23, '004'), ('Furywind', 21, '001'), ('Facelss Void', 23, '002'), ('Naga', 20, '003')]\n",
    "print sorted(age_id, key = lambda x:(-x[1], x[-1]), reverse=True)"
   ]
  },
  {
   "cell_type": "markdown",
   "metadata": {},
   "source": [
    "常用第三方库libray:`numpy`,`matplotlib`,`PIL`,`codecs`,`pickle`<br>\n",
    "通过`sudo pip install **`安装"
   ]
  },
  {
   "cell_type": "markdown",
   "metadata": {},
   "source": [
    "`numpy` - python科学计算基础矩阵库"
   ]
  },
  {
   "cell_type": "code",
   "execution_count": 7,
   "metadata": {},
   "outputs": [
    {
     "name": "stdout",
     "output_type": "stream",
     "text": [
      "[[ 1.  0.  0.]\n",
      " [ 0.  1.  0.]]\n",
      "(2, 3)\n",
      "[ 0.  1.  0.]\n",
      "[ 0.  1.  2.  3.  4.  5.  6.  7.  8.  9.]\n"
     ]
    }
   ],
   "source": [
    "import numpy as np\n",
    "\n",
    "# 类似的有zeros, ones等\n",
    "a = np.eye(2,3)\n",
    "print a\n",
    "print a.shape\n",
    "print a[1, :]\n",
    "\n",
    "print np.asarray(list(xrange(10)), dtype=np.float32)"
   ]
  },
  {
   "cell_type": "markdown",
   "metadata": {},
   "source": [
    "`matplotlib` - python绘图库"
   ]
  },
  {
   "cell_type": "code",
   "execution_count": 8,
   "metadata": {},
   "outputs": [
    {
     "data": {
      "image/png": "[encoded data removed]",
      "text/plain": [
       "<matplotlib.figure.Figure at 0x7ff963893b10>"
      ]
     },
     "metadata": {},
     "output_type": "display_data"
    }
   ],
   "source": [
    "import matplotlib.pyplot as plt\n",
    "\n",
    "x = np.linspace(1, 10, 50)\n",
    "y = x + 1\n",
    "\n",
    "# 设置图像大小\n",
    "plt.figure(figsize=(4, 3))\n",
    "plt.plot(x, y, color='red', linewidth=1.0, linestyle='--', label='y=x+1')\n",
    "plt.legend(loc='lower right')\n",
    "# 设置坐标轴范围\n",
    "plt.xlim((1, 11))\n",
    "plt.ylim((1, 11))\n",
    "plt.xlabel('x axis')\n",
    "plt.ylabel('x axis')\n",
    "# 设置坐标轴数字\n",
    "plt.xticks([])\n",
    "plt.yticks([])\n",
    "plt.show()\n",
    "# 保存eps图像，无背景色\n",
    "# plt.savefig('img.eps', transparent=True)"
   ]
  },
  {
   "cell_type": "markdown",
   "metadata": {},
   "source": [
    "`PIL` - python图像库"
   ]
  },
  {
   "cell_type": "code",
   "execution_count": 9,
   "metadata": {},
   "outputs": [
    {
     "data": {
      "image/png": "[encoded data removed]",
      "text/plain": [
       "<PIL.Image.Image image mode=L size=40x30 at 0x7FF97B739190>"
      ]
     },
     "execution_count": 9,
     "metadata": {},
     "output_type": "execute_result"
    }
   ],
   "source": [
    "from PIL import Image\n",
    "\n",
    "# 从图像中导入\n",
    "# Image.open('img.png')\n",
    "\n",
    "# 从举证导入图像\n",
    "img=np.ones(shape=(30,40))\n",
    "Image.fromarray(img, 'I').convert('L')"
   ]
  },
  {
   "cell_type": "markdown",
   "metadata": {},
   "source": [
    "`codecs` - 读/写文件"
   ]
  },
  {
   "cell_type": "markdown",
   "metadata": {},
   "source": [
    "传统读取文件<br>\n",
    "<br>\n",
    "需要手动释放文件<br>\n",
    "`txt_file = open('1.txt', mode='rb')\n",
    "text = txt_file.read()\n",
    "txt_file.close()`\n",
    "<br>\n",
    "无需手动释放文件<br>\n",
    "`with open('1.txt', mode='rb') as txt_buffer:\n",
    "    text = txt_buffer.read()`\n",
    "<br>\n",
    "一次读入内存空间<br>\n",
    "`txt_buffer.read()`<br>\n",
    "一次读所有行<br>\n",
    "`txt_buffer.readlines()`<br>\n",
    "一次读一行,这是最安全的读取方式<br>\n",
    "`txt_buffer.readline()`<br>\n"
   ]
  },
  {
   "cell_type": "markdown",
   "metadata": {},
   "source": [
    "这种`open`读取只能以`ASCII`的方式读取文件<br>\n",
    "所以需要`codecs`读取"
   ]
  },
  {
   "cell_type": "code",
   "execution_count": 10,
   "metadata": {},
   "outputs": [
    {
     "name": "stdout",
     "output_type": "stream",
     "text": [
      "n i   h a o ,   p y t h o n . \n",
      "n i   h a o ,   p y t h o n . \n"
     ]
    }
   ],
   "source": [
    "# ASCII\n",
    "# read\n",
    "with open('1.txt', mode='rb') as txt_buffer:\n",
    "    for line in txt_buffer.readline():\n",
    "        print line,\n",
    "\n",
    "line = 'ni hao, python.\\n'\n",
    "# write\n",
    "with open('1.txt', mode='wb') as txt_buffer:\n",
    "    txt_buffer.write(line)\n",
    "\n",
    "# add\n",
    "with open('1.txt', mode='a') as txt_buffer:\n",
    "    txt_buffer.write(line)\n",
    "\n",
    "import codecs\n",
    "# read\n",
    "with codecs.open('1.txt', mode='rb', encoding='UTF-8') as txt_buffer:\n",
    "    for line in txt_buffer.readline():\n",
    "        print line,\n",
    "\n",
    "line = 'ni hao, python.\\n'\n",
    "# write\n",
    "with codecs.open('1.txt', mode='wb', encoding='UTF-8') as txt_buffer:\n",
    "    txt_buffer.write(line)"
   ]
  },
  {
   "cell_type": "markdown",
   "metadata": {},
   "source": [
    "`pickle` - 保存序列化文件"
   ]
  },
  {
   "cell_type": "code",
   "execution_count": 11,
   "metadata": {},
   "outputs": [
    {
     "name": "stdout",
     "output_type": "stream",
     "text": [
      "[0, 1, 2, 3, 4, 5, 6, 7, 8, 9]\n",
      "[0, 1, 2, 3, 4, 5, 6, 7, 8, 9]\n"
     ]
    }
   ],
   "source": [
    "a=list(xrange(10))\n",
    "print a\n",
    "\n",
    "import pickle\n",
    "with open('1.pkl', mode='wb') as pkl_buffer:\n",
    "    pickle.dump(a, pkl_buffer)\n",
    "\n",
    "del a\n",
    "\n",
    "with open('1.pkl', mode='rb') as pkl_buffer:\n",
    "    b = pickle.load(pkl_buffer)\n",
    "    print b"
   ]
  }
 ],
 "metadata": {
  "kernelspec": {
   "display_name": "Python 2",
   "language": "python",
   "name": "python2"
  },
  "language_info": {
   "codemirror_mode": {
    "name": "ipython",
    "version": 2
   },
   "file_extension": ".py",
   "mimetype": "text/x-python",
   "name": "python",
   "nbconvert_exporter": "python",
   "pygments_lexer": "ipython2",
   "version": "2.7.12"
  }
 },
 "nbformat": 4,
 "nbformat_minor": 2
}
