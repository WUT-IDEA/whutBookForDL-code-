{
 "cells": [
  {
   "cell_type": "markdown",
   "metadata": {},
   "source": [
    "`if`语句"
   ]
  },
  {
   "cell_type": "markdown",
   "metadata": {},
   "source": [
    "基础`if`用法"
   ]
  },
  {
   "cell_type": "code",
   "execution_count": 5,
   "metadata": {},
   "outputs": [
    {
     "name": "stdout",
     "output_type": "stream",
     "text": [
      "True\n"
     ]
    }
   ],
   "source": [
    "if True:\n",
    "    print True\n",
    "else:\n",
    "    print False"
   ]
  },
  {
   "cell_type": "markdown",
   "metadata": {},
   "source": [
    "用`if`语句赋值"
   ]
  },
  {
   "cell_type": "code",
   "execution_count": 6,
   "metadata": {},
   "outputs": [
    {
     "name": "stdout",
     "output_type": "stream",
     "text": [
      "1\n"
     ]
    }
   ],
   "source": [
    "a = 1 if True else 0\n",
    "print a"
   ]
  },
  {
   "cell_type": "markdown",
   "metadata": {},
   "source": [
    "`if...elif...else`控制语句。<br>\n",
    "python中的`||`，`&&`用`and`，`or`代替"
   ]
  },
  {
   "cell_type": "code",
   "execution_count": 7,
   "metadata": {},
   "outputs": [
    {
     "name": "stdout",
     "output_type": "stream",
     "text": [
      "a=0 || b=0\n"
     ]
    }
   ],
   "source": [
    "a = 1\n",
    "b = 0\n",
    "if a>0 and b >0:\n",
    "    print 'a>0, b>0'\n",
    "elif a==0 or b==0:\n",
    "    print 'a=0 || b=0'\n",
    "else:\n",
    "    print 'other'"
   ]
  },
  {
   "cell_type": "markdown",
   "metadata": {},
   "source": [
    "`for`/`while`循环<br>\n",
    "`for`表示对集合中的每个元素进行变量<br>\n",
    "`range`/`xrange`表示生成0->n-1，共n个数值。`xrange`比`range`速度要快，python3.x中需要`from six import xrange`<br>\n",
    "python中没有`++`和`--`运算"
   ]
  },
  {
   "cell_type": "code",
   "execution_count": 11,
   "metadata": {},
   "outputs": [
    {
     "name": "stdout",
     "output_type": "stream",
     "text": [
      "for loop\n",
      "0 1 2\n",
      "while loop\n",
      "10 9 8 7 6 5 4 3 2 1 0\n"
     ]
    }
   ],
   "source": [
    "print 'for loop'\n",
    "for i in xrange(10):\n",
    "    if i < 3:\n",
    "        print i,\n",
    "    else:\n",
    "        break\n",
    "        # continue\n",
    "print \n",
    "\n",
    "print 'while loop'\n",
    "a = 10\n",
    "while a>=0:\n",
    "    print a,\n",
    "    a-=1"
   ]
  }
 ],
 "metadata": {
  "kernelspec": {
   "display_name": "Python 2",
   "language": "python",
   "name": "python2"
  },
  "language_info": {
   "codemirror_mode": {
    "name": "ipython",
    "version": 2
   },
   "file_extension": ".py",
   "mimetype": "text/x-python",
   "name": "python",
   "nbconvert_exporter": "python",
   "pygments_lexer": "ipython2",
   "version": "2.7.12"
  }
 },
 "nbformat": 4,
 "nbformat_minor": 2
}
