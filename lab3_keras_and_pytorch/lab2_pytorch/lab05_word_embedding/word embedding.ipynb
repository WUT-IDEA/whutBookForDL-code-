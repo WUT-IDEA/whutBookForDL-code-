{
 "cells": [
  {
   "cell_type": "markdown",
   "metadata": {},
   "source": [
    "# Pytorch使用Embedding层\n",
    "此书使用之前tensorflow教程中训练好的gensim模型，用户结合自身情况使用"
   ]
  },
  {
   "cell_type": "markdown",
   "metadata": {},
   "source": [
    "Pytorch word embedding训练实现：<br>   https://github.com/bamtercelboo/pytorch_word2vec/blob/master/word2vec.py\n"
   ]
  },
  {
   "cell_type": "markdown",
   "metadata": {},
   "source": [
    "Pytorch导入训练好的word embedding"
   ]
  },
  {
   "cell_type": "code",
   "execution_count": 1,
   "metadata": {},
   "outputs": [
    {
     "name": "stderr",
     "output_type": "stream",
     "text": [
      "/usr/local/lib/python3.5/dist-packages/h5py/__init__.py:36: FutureWarning: Conversion of the second argument of issubdtype from `float` to `np.floating` is deprecated. In future, it will be treated as `np.float64 == np.dtype(float).type`.\n",
      "  from ._conv import register_converters as _register_converters\n",
      "Using TensorFlow backend.\n"
     ]
    },
    {
     "name": "stdout",
     "output_type": "stream",
     "text": [
      "[[ 2.41059089 -5.51927614  3.74764085  1.30366039 -1.64450049  2.61859632\n",
      "  -2.77704644 -1.37271416 -1.7589196   0.82422775]\n",
      " [ 6.86335182  1.33035862  1.73910975  0.27735218 -0.28538892 -0.17378837\n",
      "  -7.10598087  0.72247446  1.57231748 -1.01711917]\n",
      " [ 1.34075868 -3.23909616  3.30166626  0.99042195  0.02437754  5.61165476\n",
      "  -2.85212517 -0.9763515  -2.08036757  2.70800734]\n",
      " [ 1.83362269 -5.63690138  3.66578293  1.75363398 -0.98059785  3.33684063\n",
      "  -2.4922204  -1.45831227 -1.53534102  0.64063424]\n",
      " [ 1.43617606 -5.53966761  3.85731053  2.8325603  -0.07618857  3.39432216\n",
      "  -2.63929248 -1.73143554 -1.87638187 -0.61770976]\n",
      " [ 3.38406587 -0.33416516  6.58938122  1.98220897 -4.39226103 -0.14040969\n",
      "   2.61482954 -5.58151579  3.7593286  -1.1867137 ]\n",
      " [ 1.03018129  0.23436923  7.27011728  3.36135554 -3.79686093  0.83886689\n",
      "   2.79096937 -4.7255497   4.0163517  -1.10945129]\n",
      " [ 6.96005535  0.48799345 -4.4505558   1.86931384 -7.57206964 -0.22840905\n",
      "   4.44346809  8.77457142 -3.10547376  0.57873034]]\n"
     ]
    },
    {
     "name": "stderr",
     "output_type": "stream",
     "text": [
      "/usr/local/lib/python3.5/dist-packages/ipykernel_launcher.py:24: DeprecationWarning: Call to deprecated `syn0` (Attribute will be removed in 4.0.0, use self.wv.vectors instead).\n"
     ]
    }
   ],
   "source": [
    "# -*- coding: utf-8 -*-\n",
    "\n",
    "from __future__ import absolute_import\n",
    "from __future__ import division\n",
    "from __future__ import print_function\n",
    "from six.moves import xrange\n",
    "\n",
    "import torch\n",
    "from torch import nn\n",
    "\n",
    "import gensim\n",
    "import numpy as np\n",
    "from keras.layers import Embedding\n",
    "\n",
    "emb_weights = gensim.models.Word2Vec.load('brown_skipgram.model')\n",
    "\n",
    "word_list = \"woman women man girl boy green blue did\".split()\n",
    "word2ind = {word: ind for ind, word in enumerate(word_list)}\n",
    "vocab_size = len(word_list)\n",
    "embedding_dim = emb_weights.wv.vector_size\n",
    "\n",
    "embedding_matrix = np.zeros(shape=(vocab_size, embedding_dim))\n",
    "for ind, word in enumerate(word_list):\n",
    "    embedding_matrix[ind, :] = emb_weights.wv.syn0[emb_weights.wv.vocab[word].index]\n",
    "\n",
    "print(embedding_matrix)"
   ]
  },
  {
   "cell_type": "markdown",
   "metadata": {},
   "source": [
    "## 方式1"
   ]
  },
  {
   "cell_type": "code",
   "execution_count": 2,
   "metadata": {},
   "outputs": [
    {
     "name": "stdout",
     "output_type": "stream",
     "text": [
      "Parameter containing:\n",
      "tensor([[ 2.4106, -5.5193,  3.7476,  1.3037, -1.6445,  2.6186, -2.7770,\n",
      "         -1.3727, -1.7589,  0.8242],\n",
      "        [ 6.8634,  1.3304,  1.7391,  0.2774, -0.2854, -0.1738, -7.1060,\n",
      "          0.7225,  1.5723, -1.0171],\n",
      "        [ 1.3408, -3.2391,  3.3017,  0.9904,  0.0244,  5.6117, -2.8521,\n",
      "         -0.9764, -2.0804,  2.7080],\n",
      "        [ 1.8336, -5.6369,  3.6658,  1.7536, -0.9806,  3.3368, -2.4922,\n",
      "         -1.4583, -1.5353,  0.6406],\n",
      "        [ 1.4362, -5.5397,  3.8573,  2.8326, -0.0762,  3.3943, -2.6393,\n",
      "         -1.7314, -1.8764, -0.6177],\n",
      "        [ 3.3841, -0.3342,  6.5894,  1.9822, -4.3923, -0.1404,  2.6148,\n",
      "         -5.5815,  3.7593, -1.1867],\n",
      "        [ 1.0302,  0.2344,  7.2701,  3.3614, -3.7969,  0.8389,  2.7910,\n",
      "         -4.7255,  4.0164, -1.1095],\n",
      "        [ 6.9601,  0.4880, -4.4506,  1.8693, -7.5721, -0.2284,  4.4435,\n",
      "          8.7746, -3.1055,  0.5787]])\n"
     ]
    }
   ],
   "source": [
    "embedding_layer = nn.Embedding(num_embeddings=vocab_size, embedding_dim=embedding_dim)\n",
    "embedding_layer.weight.data.copy_(torch.from_numpy(embedding_matrix))\n",
    "print(embedding_layer.weight)"
   ]
  },
  {
   "cell_type": "markdown",
   "metadata": {},
   "source": [
    "## 方式2"
   ]
  },
  {
   "cell_type": "code",
   "execution_count": 3,
   "metadata": {},
   "outputs": [
    {
     "name": "stdout",
     "output_type": "stream",
     "text": [
      "Parameter containing:\n",
      "tensor([[ 2.4106, -5.5193,  3.7476,  1.3037, -1.6445,  2.6186, -2.7770,\n",
      "         -1.3727, -1.7589,  0.8242],\n",
      "        [ 6.8634,  1.3304,  1.7391,  0.2774, -0.2854, -0.1738, -7.1060,\n",
      "          0.7225,  1.5723, -1.0171],\n",
      "        [ 1.3408, -3.2391,  3.3017,  0.9904,  0.0244,  5.6117, -2.8521,\n",
      "         -0.9764, -2.0804,  2.7080],\n",
      "        [ 1.8336, -5.6369,  3.6658,  1.7536, -0.9806,  3.3368, -2.4922,\n",
      "         -1.4583, -1.5353,  0.6406],\n",
      "        [ 1.4362, -5.5397,  3.8573,  2.8326, -0.0762,  3.3943, -2.6393,\n",
      "         -1.7314, -1.8764, -0.6177],\n",
      "        [ 3.3841, -0.3342,  6.5894,  1.9822, -4.3923, -0.1404,  2.6148,\n",
      "         -5.5815,  3.7593, -1.1867],\n",
      "        [ 1.0302,  0.2344,  7.2701,  3.3614, -3.7969,  0.8389,  2.7910,\n",
      "         -4.7255,  4.0164, -1.1095],\n",
      "        [ 6.9601,  0.4880, -4.4506,  1.8693, -7.5721, -0.2284,  4.4435,\n",
      "          8.7746, -3.1055,  0.5787]])\n"
     ]
    }
   ],
   "source": [
    "embedding_layer = nn.Embedding(num_embeddings=vocab_size, embedding_dim=embedding_dim)\n",
    "embedding_layer.weight = nn.Parameter(torch.Tensor(embedding_matrix))\n",
    "print(embedding_layer.weight)"
   ]
  }
 ],
 "metadata": {
  "kernelspec": {
   "display_name": "Python 3",
   "language": "python",
   "name": "python3"
  },
  "language_info": {
   "codemirror_mode": {
    "name": "ipython",
    "version": 3
   },
   "file_extension": ".py",
   "mimetype": "text/x-python",
   "name": "python",
   "nbconvert_exporter": "python",
   "pygments_lexer": "ipython3",
   "version": "3.5.2"
  }
 },
 "nbformat": 4,
 "nbformat_minor": 2
}
