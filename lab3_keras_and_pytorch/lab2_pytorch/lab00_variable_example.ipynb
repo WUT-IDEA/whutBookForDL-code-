{
 "cells": [
  {
   "cell_type": "markdown",
   "metadata": {},
   "source": [
    "## Begining in Pytorch\n",
    "\n",
    "Pytorch 0.4.0"
   ]
  },
  {
   "cell_type": "markdown",
   "metadata": {},
   "source": [
    "Pytorch是由Facebook 深度学习lab开发。前身为Torch，但是由于Torch使用的是lua语言，导致用户数量较少。因此Facebook后续推出基于Python的Pytorch版本。Pytorch和TensorFloat在设计上具有很多相似之处。但是Pytorch对用户而言更加友好，是一个非常火热的深度学习框架。<br>\n",
    "Pytorch的特殊数据类型有Tensor和Variable两种。<br>"
   ]
  },
  {
   "cell_type": "markdown",
   "metadata": {},
   "source": [
    "## Pytorch的Tensor类型"
   ]
  },
  {
   "cell_type": "code",
   "execution_count": 1,
   "metadata": {},
   "outputs": [],
   "source": [
    "# -*- coding: utf-8 -*-\n",
    "\n",
    "from __future__ import absolute_import\n",
    "from __future__ import division\n",
    "from __future__ import print_function\n",
    "from six.moves import xrange"
   ]
  },
  {
   "cell_type": "markdown",
   "metadata": {},
   "source": [
    "创建一个Tensor变量"
   ]
  },
  {
   "cell_type": "code",
   "execution_count": 2,
   "metadata": {},
   "outputs": [
    {
     "name": "stdout",
     "output_type": "stream",
     "text": [
      "tensor([[-1.3253e+07,  4.5678e-41],\n",
      "        [-1.3253e+07,  4.5678e-41],\n",
      "        [-2.6297e+04,  4.5678e-41]])\n"
     ]
    }
   ],
   "source": [
    "x = torch.Tensor(3, 2)\n",
    "print(x)\n"
   ]
  },
  {
   "cell_type": "markdown",
   "metadata": {},
   "source": [
    "创建一个随机Tensor变量"
   ]
  },
  {
   "cell_type": "code",
   "execution_count": 3,
   "metadata": {},
   "outputs": [
    {
     "name": "stdout",
     "output_type": "stream",
     "text": [
      "tensor([[ 0.1107,  0.7850],\n",
      "        [ 0.5947,  0.9395],\n",
      "        [ 0.8935,  0.0424]])\n"
     ]
    }
   ],
   "source": [
    "x = torch.rand(3, 2)\n",
    "print(x)\n"
   ]
  },
  {
   "cell_type": "markdown",
   "metadata": {},
   "source": [
    "创建一个全1/全0/对角 Tensor变量"
   ]
  },
  {
   "cell_type": "code",
   "execution_count": 4,
   "metadata": {},
   "outputs": [
    {
     "name": "stdout",
     "output_type": "stream",
     "text": [
      "tensor([[ 1.,  1.],\n",
      "        [ 1.,  1.],\n",
      "        [ 1.,  1.]])\n",
      "tensor([[ 0.,  0.],\n",
      "        [ 0.,  0.],\n",
      "        [ 0.,  0.]])\n",
      "tensor([[ 1.,  0.,  0.],\n",
      "        [ 0.,  1.,  0.],\n",
      "        [ 0.,  0.,  1.]])\n"
     ]
    }
   ],
   "source": [
    "x = torch.ones(3, 2)\n",
    "print(x)\n",
    "x = torch.zeros(3, 2)\n",
    "print(x)\n",
    "x = torch.eye(3, 3)\n",
    "print(x)\n"
   ]
  },
  {
   "cell_type": "markdown",
   "metadata": {},
   "source": [
    "加(减) 乘(除) 矩阵乘法 运算"
   ]
  },
  {
   "cell_type": "code",
   "execution_count": 5,
   "metadata": {},
   "outputs": [
    {
     "name": "stdout",
     "output_type": "stream",
     "text": [
      "tensor([[ 1,  1],\n",
      "        [ 1,  1],\n",
      "        [ 1,  1]], dtype=torch.uint8)\n",
      "tensor([[ 1,  1],\n",
      "        [ 1,  1],\n",
      "        [ 1,  1]], dtype=torch.uint8)\n",
      "tensor([[ 1.,  1.,  1.],\n",
      "        [ 1.,  1.,  1.],\n",
      "        [ 0.,  0.,  0.]])\n"
     ]
    }
   ],
   "source": [
    "# 加\n",
    "x = torch.eye(3, 2)\n",
    "y = torch.ones(3, 2)\n",
    "print(x + y == x.add(y))\n",
    "print(x / y == x.mul(y))\n",
    "y = torch.ones(2, 3)\n",
    "print(x.mm(y))\n"
   ]
  },
  {
   "cell_type": "markdown",
   "metadata": {},
   "source": [
    "x.add\\_(y) = x+y and x+=y <br>\n",
    "类似的有： add\\_ mul\\_ abs\\_等"
   ]
  },
  {
   "cell_type": "code",
   "execution_count": 6,
   "metadata": {},
   "outputs": [
    {
     "name": "stdout",
     "output_type": "stream",
     "text": [
      "tensor([[ 1.,  0.],\n",
      "        [ 0.,  1.],\n",
      "        [ 0.,  0.]])\n",
      "tensor([[ 2.,  1.],\n",
      "        [ 1.,  2.],\n",
      "        [ 1.,  1.]])\n"
     ]
    }
   ],
   "source": [
    "x = torch.eye(3, 2)\n",
    "y = torch.ones(3, 2)\n",
    "print(x)\n",
    "x.add_(y)\n",
    "print(x)\n"
   ]
  },
  {
   "cell_type": "markdown",
   "metadata": {},
   "source": [
    "reshape"
   ]
  },
  {
   "cell_type": "code",
   "execution_count": 7,
   "metadata": {},
   "outputs": [
    {
     "name": "stdout",
     "output_type": "stream",
     "text": [
      "torch.Size([3, 2])\n",
      "torch.Size([1, 6])\n"
     ]
    }
   ],
   "source": [
    "print(x.size())\n",
    "x = x.view(1, -1)\n",
    "print(x.size())\n"
   ]
  },
  {
   "cell_type": "markdown",
   "metadata": {},
   "source": [
    "Torch Tensor与Numpy Array相互转换"
   ]
  },
  {
   "cell_type": "code",
   "execution_count": 8,
   "metadata": {},
   "outputs": [
    {
     "name": "stdout",
     "output_type": "stream",
     "text": [
      "tensor([[ 1.,  0.],\n",
      "        [ 0.,  1.],\n",
      "        [ 0.,  0.]], dtype=torch.float64)\n",
      "[[1. 0.]\n",
      " [0. 1.]\n",
      " [0. 0.]]\n"
     ]
    }
   ],
   "source": [
    "import numpy as np\n",
    "\n",
    "x = np.eye(3, 2)\n",
    "\n",
    "# numpy -> tensor\n",
    "y = torch.from_numpy(x)\n",
    "print(y)\n",
    "\n",
    "# tensor -> numpy\n",
    "y = y.numpy()\n",
    "print(y)\n"
   ]
  },
  {
   "cell_type": "markdown",
   "metadata": {},
   "source": [
    "Tensor变量在GPU，CPU的转换"
   ]
  },
  {
   "cell_type": "code",
   "execution_count": 9,
   "metadata": {},
   "outputs": [
    {
     "name": "stdout",
     "output_type": "stream",
     "text": [
      "True\n",
      "tensor([[ 2.,  1.],\n",
      "        [ 1.,  2.],\n",
      "        [ 1.,  1.]], device='cuda:0')\n",
      "tensor([[ 1.,  0.],\n",
      "        [ 0.,  1.],\n",
      "        [ 0.,  0.]])\n"
     ]
    }
   ],
   "source": [
    "# 判断电脑是否支持GPU运算\n",
    "print(torch.cuda.is_available())\n",
    "\n",
    "# 将Tensor送人用GPU中\n",
    "x = torch.eye(3, 2).cuda()\n",
    "y = torch.ones(3, 2).cuda()\n",
    "print(x + y)\n",
    "\n",
    "# 将cuda.Tensor返回到CPU中\n",
    "print(x.cpu())\n"
   ]
  },
  {
   "cell_type": "markdown",
   "metadata": {},
   "source": [
    "## Pytorch的Variable变量"
   ]
  },
  {
   "cell_type": "code",
   "execution_count": 10,
   "metadata": {},
   "outputs": [
    {
     "name": "stdout",
     "output_type": "stream",
     "text": [
      "tensor([[ 1.,  1.],\n",
      "        [ 1.,  1.]])\n"
     ]
    }
   ],
   "source": [
    "from torch.autograd import Variable\n",
    "\n",
    "# 创建一个Variable变量\n",
    "# requires_grad=True表明：该变量是可导的，也就是说它可以作神经网络中的参数，用于自学习\n",
    "x = Variable(torch.ones(2,2), requires_grad=True)\n",
    "print(x)"
   ]
  },
  {
   "cell_type": "markdown",
   "metadata": {},
   "source": [
    "定义多个函数<br>\n",
    "y1\\ =\\ 2\\*x\\*x\n",
    "y2\\ =\\ mean(y1)\n",
    "，并求导"
   ]
  },
  {
   "cell_type": "code",
   "execution_count": 11,
   "metadata": {},
   "outputs": [
    {
     "name": "stdout",
     "output_type": "stream",
     "text": [
      "tensor([[ 2.,  2.],\n",
      "        [ 2.,  2.]])\n",
      "tensor([[ 1.,  1.],\n",
      "        [ 1.,  1.]])\n"
     ]
    }
   ],
   "source": [
    "y1=2*x**2\n",
    "print(y1)\n",
    "\n",
    "y2=y1.mean()\n",
    "\n",
    "# 注意：最后一个输出必须为一个标量\n",
    "y2.backward() # 标记求导结果为y2\n",
    "print(x.grad) # 以x的值求导y2"
   ]
  }
 ],
 "metadata": {
  "kernelspec": {
   "display_name": "Python 3",
   "language": "python",
   "name": "python3"
  },
  "language_info": {
   "codemirror_mode": {
    "name": "ipython",
    "version": 3
   },
   "file_extension": ".py",
   "mimetype": "text/x-python",
   "name": "python",
   "nbconvert_exporter": "python",
   "pygments_lexer": "ipython3",
   "version": "3.5.2"
  }
 },
 "nbformat": 4,
 "nbformat_minor": 1
}
