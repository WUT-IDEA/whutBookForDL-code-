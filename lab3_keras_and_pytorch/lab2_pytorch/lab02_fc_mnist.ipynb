{
 "cells": [
  {
   "cell_type": "markdown",
   "metadata": {},
   "source": [
    "# Pytorch 全相连网络(Full Connected Network)"
   ]
  },
  {
   "cell_type": "code",
   "execution_count": 1,
   "metadata": {},
   "outputs": [],
   "source": [
    "# -*- coding: utf-8 -*-\n",
    "\n",
    "from __future__ import absolute_import\n",
    "from __future__ import division\n",
    "from __future__ import print_function\n",
    "from six.moves import xrange"
   ]
  },
  {
   "cell_type": "markdown",
   "metadata": {},
   "source": [
    "导入MNIST数据集"
   ]
  },
  {
   "cell_type": "code",
   "execution_count": 2,
   "metadata": {},
   "outputs": [
    {
     "name": "stdout",
     "output_type": "stream",
     "text": [
      "CUDA available? True\n"
     ]
    }
   ],
   "source": [
    "import torch\n",
    "import torch.nn as nn\n",
    "from torch.autograd import Variable\n",
    "import torch.utils.data as Data\n",
    "import torch.nn.functional as F\n",
    "import torchvision\n",
    "\n",
    "# hyper-parameter\n",
    "training_epoch=100\n",
    "num_classes = 10\n",
    "learning_rate=1e-3\n",
    "batch_size=1000\n",
    "\n",
    "# 查看Pytorch是否支持GPU\n",
    "GPU_FLAG = torch.cuda.is_available()\n",
    "print('CUDA available?', GPU_FLAG)\n",
    "\n",
    "# Mnist digits dataset\n",
    "train_data = torchvision.datasets.MNIST(\n",
    "    root='data/',\n",
    "    train=True,\n",
    "    transform=torchvision.transforms.ToTensor(),\n",
    "    download=True,\n",
    ")\n",
    "\n",
    "test_data = torchvision.datasets.MNIST(\n",
    "    root='data/',\n",
    "    train=False,\n",
    "    transform=torchvision.transforms.ToTensor(),\n",
    "    download=True,\n",
    ")\n",
    "\n",
    "train_loader = Data.DataLoader(dataset=train_data, batch_size=batch_size, shuffle=True)\n",
    "test_loader = Data.DataLoader(dataset=train_data, batch_size=batch_size, shuffle=True)"
   ]
  },
  {
   "cell_type": "markdown",
   "metadata": {},
   "source": [
    "## 正则化实现(regularization)\n",
    "\n",
    "### L1正则化\n",
    "`nn.L1Loss()`\n",
    "\n",
    "### L2正则化\n",
    "`torch.optim.Adam(weight_decay=1e-8)`\n"
   ]
  },
  {
   "cell_type": "markdown",
   "metadata": {},
   "source": [
    "## Batch Norm\n",
    "``\n",
    "nn.BatchNorm1d(input_tensor)\n",
    "nn.BatchNorm2d(input_tensor)\n",
    "nn.BatchNorm3d(input_tensor)\n",
    "``"
   ]
  },
  {
   "cell_type": "markdown",
   "metadata": {},
   "source": [
    "创建网络"
   ]
  },
  {
   "cell_type": "code",
   "execution_count": 3,
   "metadata": {
    "scrolled": true
   },
   "outputs": [
    {
     "name": "stdout",
     "output_type": "stream",
     "text": [
      "Net(\n",
      "  (fc1): Linear(in_features=784, out_features=256, bias=True)\n",
      "  (fc2): Linear(in_features=256, out_features=10, bias=True)\n",
      ")\n"
     ]
    }
   ],
   "source": [
    "class Net(nn.Module):\n",
    "    def __init__(self):\n",
    "        super(Net, self).__init__()\n",
    "\n",
    "        self.fc1 = nn.Linear(28 * 28, 256)\n",
    "        self.fc2 = nn.Linear(256, num_classes)\n",
    "\n",
    "    def forward(self, x):\n",
    "        out = F.relu(self.fc1(x))\n",
    "        out = F.softmax(self.fc2(out))\n",
    "        return out\n",
    "\n",
    "net=Net()\n",
    "\n",
    "# 将模型的参数送到GPU中\n",
    "if GPU_FLAG==True:\n",
    "    net.cuda()\n",
    "print(net) # 输出模型结构\n",
    "\n",
    "criterion = nn.CrossEntropyLoss() # 定义loss函数\n",
    "optimizer = torch.optim.Adam(net.parameters(), lr=learning_rate)"
   ]
  },
  {
   "cell_type": "markdown",
   "metadata": {},
   "source": [
    "检验 estimaton"
   ]
  },
  {
   "cell_type": "code",
   "execution_count": 4,
   "metadata": {},
   "outputs": [],
   "source": [
    "def evaluate():\n",
    "    correct = 0\n",
    "    total = 0\n",
    "    for images, labels in test_loader:\n",
    "        if GPU_FLAG:\n",
    "            images = Variable(images.view(-1, 28 * 28)).cuda()\n",
    "            labels = labels.cuda()\n",
    "        else:\n",
    "            images = Variable(images.view(-1, 28 * 28))\n",
    "        outputs = net(images)\n",
    "        _, predicted = torch.max(outputs.data, 1)\n",
    "        total += labels.size(0)\n",
    "        correct += (predicted == labels).sum()\n",
    "\n",
    "    return float(correct) / total"
   ]
  },
  {
   "cell_type": "markdown",
   "metadata": {},
   "source": [
    "training"
   ]
  },
  {
   "cell_type": "code",
   "execution_count": 5,
   "metadata": {},
   "outputs": [
    {
     "name": "stdout",
     "output_type": "stream",
     "text": [
      "Epoch 10 / 100, training loss: 0.09600746631622314, test accuracy: 0.9760833333333333\n",
      "Epoch 20 / 100, training loss: 0.04198797419667244, test accuracy: 0.9907666666666667\n",
      "Epoch 30 / 100, training loss: 0.02025996521115303, test accuracy: 0.9967\n",
      "Epoch 40 / 100, training loss: 0.010129672475159168, test accuracy: 0.99945\n",
      "Epoch 50 / 100, training loss: 0.0055337222293019295, test accuracy: 0.9997333333333334\n",
      "Epoch 60 / 100, training loss: 0.002830269280821085, test accuracy: 0.9999666666666667\n",
      "Epoch 70 / 100, training loss: 0.0016713348450139165, test accuracy: 1.0\n",
      "Epoch 80 / 100, training loss: 0.0010266865137964487, test accuracy: 1.0\n",
      "Epoch 90 / 100, training loss: 0.0006690657464787364, test accuracy: 1.0\n",
      "Epoch 100 / 100, training loss: 0.00043571399874053895, test accuracy: 1.0\n"
     ]
    }
   ],
   "source": [
    "for i in xrange(1, 1 + training_epoch):\n",
    "    cost = 0.0\n",
    "    for _, (images, labels) in enumerate(train_loader):\n",
    "        if GPU_FLAG:\n",
    "            x = Variable(images).view(-1, 28 ** 2).cuda()\n",
    "            y = Variable(labels).cuda()\n",
    "        else:\n",
    "            x = Variable(images).view(-1, 28 ** 2)\n",
    "            y = Variable(labels)\n",
    "\n",
    "        optimizer.zero_grad()\n",
    "        y_ = net(x)\n",
    "        loss = criterion(y_, y)\n",
    "        loss.backward()\n",
    "        optimizer.step()\n",
    "\n",
    "        cost += loss\n",
    "    cost /= len(train_loader)\n",
    "    if i % 10 == 0:\n",
    "        print('Epoch %s / %s, training loss: %s, test accuracy: %s' %\n",
    "              (i, training_epoch, float(cost), evaluate()))\n"
   ]
  }
 ],
 "metadata": {
  "kernelspec": {
   "display_name": "Python 3",
   "language": "python",
   "name": "python3"
  },
  "language_info": {
   "codemirror_mode": {
    "name": "ipython",
    "version": 3
   },
   "file_extension": ".py",
   "mimetype": "text/x-python",
   "name": "python",
   "nbconvert_exporter": "python",
   "pygments_lexer": "ipython3",
   "version": "3.5.2"
  }
 },
 "nbformat": 4,
 "nbformat_minor": 1
}
