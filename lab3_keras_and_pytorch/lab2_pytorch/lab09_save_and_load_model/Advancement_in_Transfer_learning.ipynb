{
 "cells": [
  {
   "cell_type": "markdown",
   "metadata": {},
   "source": [
    "Pytorch迁移学习高阶教程\n",
    "====\n",
    "本节介绍迁移学习中重要的两个finetuning方案：\n",
    "----\n",
    "1.freeze parameteres <br>\n",
    "2.load some of parameters"
   ]
  },
  {
   "cell_type": "markdown",
   "metadata": {},
   "source": [
    "<h1>1.freeze parameteres"
   ]
  },
  {
   "cell_type": "markdown",
   "metadata": {},
   "source": [
    "详细参考http://pytorch.org/tutorials/beginner/transfer_learning_tutorial.html#convnet-as-fixed-feature-extractor<br>\n",
    "\n",
    "假设model使我们的整体模型<br>\n",
    "``for param in model.parameters():\n",
    "    param.requires_grad = False``\n",
    "<br>requires_grad是指不进行求导--关闭参数求导变化"
   ]
  },
  {
   "cell_type": "markdown",
   "metadata": {},
   "source": [
    "<h1>2.load some of parameters"
   ]
  },
  {
   "cell_type": "markdown",
   "metadata": {},
   "source": [
    "这是本节的重点，我们将举一个例子帮助我们理解。<br>\n",
    "（考虑到freeze parameters在pytorch官方教程中以有，我们跳过那个阶段）<br>\n",
    "首先看怎么导入全部参数"
   ]
  },
  {
   "cell_type": "markdown",
   "metadata": {},
   "source": [
    "BiRNN+FC完成MNIST识别，如若看不懂代码可以直接跳过这部分，看之后的导入参数<br>\n",
    "该代码自动检测GPU可否运行"
   ]
  },
  {
   "cell_type": "code",
   "execution_count": 1,
   "metadata": {},
   "outputs": [
    {
     "name": "stdout",
     "output_type": "stream",
     "text": [
      "Downloading http://yann.lecun.com/exdb/mnist/train-images-idx3-ubyte.gz\n",
      "Downloading http://yann.lecun.com/exdb/mnist/train-labels-idx1-ubyte.gz\n",
      "Downloading http://yann.lecun.com/exdb/mnist/t10k-images-idx3-ubyte.gz\n",
      "Downloading http://yann.lecun.com/exdb/mnist/t10k-labels-idx1-ubyte.gz\n",
      "Processing...\n",
      "Done!\n",
      "Epoch [1/2], Step [100/600], Loss: 0.5616\n",
      "Epoch [1/2], Step [200/600], Loss: 0.3109\n",
      "Epoch [1/2], Step [300/600], Loss: 0.1398\n",
      "Epoch [1/2], Step [400/600], Loss: 0.0776\n",
      "Epoch [1/2], Step [500/600], Loss: 0.0810\n",
      "Epoch [1/2], Step [600/600], Loss: 0.0532\n",
      "Epoch [2/2], Step [100/600], Loss: 0.2020\n",
      "Epoch [2/2], Step [200/600], Loss: 0.1019\n",
      "Epoch [2/2], Step [300/600], Loss: 0.0305\n",
      "Epoch [2/2], Step [400/600], Loss: 0.0510\n",
      "Epoch [2/2], Step [500/600], Loss: 0.0842\n",
      "Epoch [2/2], Step [600/600], Loss: 0.1936\n",
      "Test Accuracy of the model on the 10000 test images: 97 %\n"
     ]
    }
   ],
   "source": [
    "import torch\n",
    "import torch.nn as nn\n",
    "import torchvision.datasets as dsets\n",
    "import torchvision.transforms as transforms\n",
    "from torch.autograd import Variable\n",
    "\n",
    "# Hyper Parameters\n",
    "sequence_length = 28\n",
    "input_size = 28\n",
    "hidden_size = 128\n",
    "num_layers = 2\n",
    "num_classes = 10\n",
    "batch_size = 100\n",
    "num_epochs = 2\n",
    "learning_rate = 0.003\n",
    "\n",
    "# MNIST Dataset\n",
    "train_dataset = dsets.MNIST(root='../data/',\n",
    "                            train=True,\n",
    "                            transform=transforms.ToTensor(),\n",
    "                            download=True)\n",
    "\n",
    "test_dataset = dsets.MNIST(root='../data/',\n",
    "                           train=False,\n",
    "                           transform=transforms.ToTensor())\n",
    "\n",
    "# Data Loader (Input Pipeline)\n",
    "train_loader = torch.utils.data.DataLoader(dataset=train_dataset,\n",
    "                                           batch_size=batch_size,\n",
    "                                           shuffle=True)\n",
    "\n",
    "test_loader = torch.utils.data.DataLoader(dataset=test_dataset,\n",
    "                                          batch_size=batch_size,\n",
    "                                          shuffle=False)\n",
    "\n",
    "GPU_FLAG = torch.cuda.is_available()\n",
    "\n",
    "\n",
    "# BiRNN Model (Many-to-One)\n",
    "class BiRNN(nn.Module):\n",
    "    def __init__(self, input_size, hidden_size, num_layers, num_classes):\n",
    "        super(BiRNN, self).__init__()\n",
    "        self.hidden_size = hidden_size\n",
    "        self.num_layers = num_layers\n",
    "        self.lstm = nn.LSTM(input_size, hidden_size, num_layers,\n",
    "                            batch_first=True, bidirectional=True)\n",
    "        self.fc = nn.Linear(hidden_size * 2, num_classes)  # 2 for bidirection\n",
    "\n",
    "    def forward(self, x):\n",
    "        # Set initial states\n",
    "        if GPU_FLAG:\n",
    "            h0 = Variable(torch.zeros(self.num_layers * 2, x.size(0), self.hidden_size)).cuda()  # 2 for bidirection\n",
    "            c0 = Variable(torch.zeros(self.num_layers * 2, x.size(0), self.hidden_size)).cuda()\n",
    "        else:\n",
    "            h0 = Variable(torch.zeros(self.num_layers * 2, x.size(0), self.hidden_size))  # 2 for bidirection\n",
    "            c0 = Variable(torch.zeros(self.num_layers * 2, x.size(0), self.hidden_size))\n",
    "\n",
    "        # Forward propagate RNN\n",
    "        out, _ = self.lstm(x, (h0, c0))\n",
    "\n",
    "        # Decode hidden state of last time step\n",
    "        out = self.fc(out[:, -1, :])\n",
    "        return out\n",
    "\n",
    "\n",
    "rnn = BiRNN(input_size, hidden_size, num_layers, num_classes)\n",
    "if GPU_FLAG:\n",
    "    rnn.cuda()\n",
    "else:\n",
    "    pass\n",
    "\n",
    "# Loss and Optimizer\n",
    "criterion = nn.CrossEntropyLoss()\n",
    "optimizer = torch.optim.Adam(rnn.parameters(), lr=learning_rate)\n",
    "\n",
    "# Train the Model\n",
    "for epoch in range(num_epochs):\n",
    "    for i, (images, labels) in enumerate(train_loader):\n",
    "        if GPU_FLAG:\n",
    "            images = Variable(images.view(-1, sequence_length, input_size)).cuda()\n",
    "            labels = Variable(labels).cuda()\n",
    "        else:\n",
    "            images = Variable(images.view(-1, sequence_length, input_size))\n",
    "            labels = Variable(labels)\n",
    "\n",
    "        # Forward + Backward + Optimize\n",
    "        optimizer.zero_grad()\n",
    "        outputs = rnn(images)\n",
    "        loss = criterion(outputs, labels)\n",
    "        loss.backward()\n",
    "        optimizer.step()\n",
    "\n",
    "        if (i + 1) % 100 == 0:\n",
    "            print ('Epoch [%d/%d], Step [%d/%d], Loss: %.4f'\n",
    "                   % (epoch + 1, num_epochs, i + 1, len(train_dataset) // batch_size, loss.data[0]))\n",
    "\n",
    "# Test the Model\n",
    "correct = 0\n",
    "total = 0\n",
    "for images, labels in test_loader:\n",
    "    images = Variable(images.view(-1, sequence_length, input_size)).cuda()\n",
    "    outputs = rnn(images)\n",
    "    _, predicted = torch.max(outputs.data, 1)\n",
    "    total += labels.size(0)\n",
    "    correct += (predicted.cpu() == labels).sum()\n",
    "\n",
    "print('Test Accuracy of the model on the 10000 test images: %d %%' % (100 * correct / total))\n",
    "\n",
    "# Save the Model\n",
    "torch.save(rnn.state_dict(), 'rnn.pkl')"
   ]
  },
  {
   "cell_type": "markdown",
   "metadata": {},
   "source": [
    "至此在本地文件夹中存在一个rnn.pkl文件，里面保存着我们的模型参数<br>\n",
    "保存模型参数：``torch.save(rnn.state_dict(), 'rnn.pkl')``<br>\n",
    "导入模型参数：``rnn.load_state_dict(torch.load('rnn.pkl'))``<br>\n",
    "更详细过程参考：https://www.aiboy.pub/2017/06/05/How_To_Save_And_Restore_Model/"
   ]
  },
  {
   "cell_type": "markdown",
   "metadata": {},
   "source": [
    "pytorch中的模型文件是按照网络的变量名字依次导入，是一个序列字典<br>\n",
    "若是模型的网络层与pkl文件的不完全一致，会出现错误"
   ]
  },
  {
   "cell_type": "code",
   "execution_count": 3,
   "metadata": {},
   "outputs": [],
   "source": [
    "# BiRNN Model (Many-to-One)\n",
    "class BiRNN(nn.Module):\n",
    "    def __init__(self, input_size, hidden_size, num_layers, num_classes):\n",
    "        super(BiRNN, self).__init__()\n",
    "        self.hidden_size = hidden_size\n",
    "        self.num_layers = num_layers\n",
    "        self.lstm = nn.LSTM(input_size, hidden_size, num_layers,\n",
    "                            batch_first=True, bidirectional=True)\n",
    "        self.fc1 = nn.Linear(hidden_size * 2, num_classes)  # 2 for bidirection\n",
    "\n",
    "    def forward(self, x):\n",
    "        # Set initial states\n",
    "        if GPU_FLAG:\n",
    "            h0 = Variable(torch.zeros(self.num_layers * 2, x.size(0), self.hidden_size)).cuda()  # 2 for bidirection\n",
    "            c0 = Variable(torch.zeros(self.num_layers * 2, x.size(0), self.hidden_size)).cuda()\n",
    "        else:\n",
    "            h0 = Variable(torch.zeros(self.num_layers * 2, x.size(0), self.hidden_size))  # 2 for bidirection\n",
    "            c0 = Variable(torch.zeros(self.num_layers * 2, x.size(0), self.hidden_size))\n",
    "\n",
    "        # Forward propagate RNN\n",
    "        out, _ = self.lstm(x, (h0, c0))\n",
    "\n",
    "        # Decode hidden state of last time step\n",
    "        out = self.fc(out[:, -1, :])\n",
    "        return out\n",
    "\n",
    "\n",
    "rnn = BiRNN(input_size, hidden_size, num_layers, num_classes)\n",
    "torch.save(rnn.state_dict(), 'rnn.pkl')"
   ]
  },
  {
   "cell_type": "markdown",
   "metadata": {},
   "source": [
    "例如这段代码中的最后一层网络fc变为fc1，不再是fc了。出现错误"
   ]
  },
  {
   "cell_type": "markdown",
   "metadata": {},
   "source": [
    "``rnn.load_state_dict(torch.load('rnn.pkl'))``\n",
    "<br>等价于\n",
    "``\n",
    "state_dict = torch.load('rnn.pkl')\n",
    "for name, param in state_dict.items():\n",
    "    before = rnn.state_dict()[name]\n",
    "    rnn.state_dict()[name].copy_(param)\n",
    "``\n",
    "<br>\n",
    "按照这种方式就可以随意导入局部参数\n"
   ]
  },
  {
   "cell_type": "code",
   "execution_count": null,
   "metadata": {},
   "outputs": [],
   "source": []
  }
 ],
 "metadata": {
  "kernelspec": {
   "display_name": "Python 3",
   "language": "python",
   "name": "python3"
  },
  "language_info": {
   "codemirror_mode": {
    "name": "ipython",
    "version": 3
   },
   "file_extension": ".py",
   "mimetype": "text/x-python",
   "name": "python",
   "nbconvert_exporter": "python",
   "pygments_lexer": "ipython3",
   "version": "3.5.2"
  }
 },
 "nbformat": 4,
 "nbformat_minor": 1
}
