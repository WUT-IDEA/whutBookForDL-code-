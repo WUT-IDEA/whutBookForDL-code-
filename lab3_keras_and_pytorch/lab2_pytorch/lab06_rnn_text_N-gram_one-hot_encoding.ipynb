{
 "cells": [
  {
   "cell_type": "code",
   "execution_count": 1,
   "metadata": {},
   "outputs": [],
   "source": [
    "%matplotlib inline"
   ]
  },
  {
   "cell_type": "markdown",
   "metadata": {},
   "source": [
    "递归神经网络 - Recurrent Neural Network\n",
    "====\n"
   ]
  },
  {
   "cell_type": "markdown",
   "metadata": {},
   "source": [
    "本节主要参考：\n",
    "http://pytorch.org/tutorials/beginner/nlp/word_embeddings_tutorial.html#sphx-glr-beginner-nlp-word-embeddings-tutorial-py"
   ]
  },
  {
   "cell_type": "code",
   "execution_count": 2,
   "metadata": {},
   "outputs": [],
   "source": [
    "# -*- coding: utf-8 -*-\n",
    "\n",
    "from __future__ import absolute_import\n",
    "from __future__ import division\n",
    "from __future__ import print_function\n",
    "from six.moves import xrange"
   ]
  },
  {
   "cell_type": "code",
   "execution_count": 3,
   "metadata": {
    "scrolled": true
   },
   "outputs": [
    {
     "data": {
      "text/plain": [
       "<torch._C.Generator at 0x7fa804ac6110>"
      ]
     },
     "execution_count": 3,
     "metadata": {},
     "output_type": "execute_result"
    }
   ],
   "source": [
    "import torch\n",
    "import torch.nn as nn\n",
    "from torch.autograd import Variable\n",
    "import torch.nn.functional as F\n",
    "\n",
    "torch.manual_seed(1)"
   ]
  },
  {
   "cell_type": "markdown",
   "metadata": {},
   "source": [
    "1.N-Gram Language Modeling <br>\n",
    "probability{ x_(i-N),x_(i-N+1),x_(i-N+2),...,x_(i-1) -> x_(i) }"
   ]
  },
  {
   "cell_type": "code",
   "execution_count": 4,
   "metadata": {},
   "outputs": [],
   "source": [
    "test_sentence = \"\"\"\n",
    "Deep learning (also known as deep structured learning or hierarchical learning)\n",
    "is part of a broader family of machine learning methods based on learning data\n",
    "representations, as opposed to task-specific algorithms. Learning can be supervised,\n",
    "semi-supervised or unsupervised. Deep learning models are loosely related to information\n",
    "processing and communication patterns in a biological nervous system, such as neural\n",
    "coding that attempts to define a relationship between various stimuli and associated\n",
    "neuronal responses in the brain. Deep learning architectures such as deep neural\n",
    "networks, deep belief networks and recurrent neural networks have been applied to\n",
    "fields including computer vision, speech recognition, natural language processing,\n",
    "audio recognition, social network filtering, machine translation, bioinformatics\n",
    "and drug design,[5] where they have produced results comparable to and in some\n",
    "cases superior[6] to human experts.\n",
    "\"\"\"\n",
    "# from wikipedia https://en.wikipedia.org/wiki/Deep_learning\n",
    "\n",
    "vocab = set(test_sentence)\n",
    "word2ind = {word: i for i, word in enumerate(vocab)}\n",
    "ind2word = {i: word for i, word in enumerate(vocab)}\n",
    "\n",
    "x_length = 2\n",
    "num_classes = len(vocab)"
   ]
  },
  {
   "cell_type": "markdown",
   "metadata": {},
   "source": [
    "请严格按照如下方式进行one-hot编码"
   ]
  },
  {
   "cell_type": "code",
   "execution_count": 5,
   "metadata": {},
   "outputs": [],
   "source": [
    "# one_hot_encoding\n",
    "def one_hot(x, num_classes=num_classes):\n",
    "    x_one_hot = torch.LongTensor(x).view(-1, 1)\n",
    "    x_one_hot = torch.zeros(x_one_hot.size(0), num_classes).scatter_(1, x_one_hot, 1)\n",
    "    return x_one_hot\n",
    "\n",
    "data_num = len(test_sentence) - x_length\n",
    "x = [[word2ind[ch] for ch in test_sentence[i:i + x_length]]\n",
    "          for i in xrange(data_num)]\n",
    "x = one_hot(x)\n",
    "x = x.view([-1, x_length, num_classes])\n",
    "y = torch.LongTensor([[word2ind[test_sentence[i]]] for i in xrange(x_length, len(test_sentence))])"
   ]
  },
  {
   "cell_type": "code",
   "execution_count": 6,
   "metadata": {},
   "outputs": [
    {
     "name": "stdout",
     "output_type": "stream",
     "text": [
      "CUDA available? True\n",
      "LSTM(\n",
      "  (LSTM): LSTM(36, 60, num_layers=2, batch_first=True)\n",
      "  (fc): Linear(in_features=120, out_features=36, bias=True)\n",
      ")\n"
     ]
    }
   ],
   "source": [
    "# hyper-parameter\n",
    "training_epoch = 10000\n",
    "learning_rate = 1e-2\n",
    "input_size = len(vocab)\n",
    "hidden_size = 60\n",
    "num_layers = 2\n",
    "\n",
    "\n",
    "# basic RNN/GRU\n",
    "class RNN(nn.Module):\n",
    "    def __init__(self, input_size, hidden_size, num_layers, num_classes):\n",
    "        super(RNN, self).__init__()\n",
    "\n",
    "        self.input_size = input_size\n",
    "        self.hidden_size = hidden_size\n",
    "        self.num_layers = num_layers\n",
    "        self.num_class = num_classes\n",
    "\n",
    "        self.RNN = nn.RNN(input_size=input_size, hidden_size=hidden_size,\n",
    "                          num_layers=num_layers, batch_first=True)\n",
    "        # self.GRU = nn.GRU(input_size=input_size, hidden_size=hidden_size,\n",
    "        #                   num_layers=num_layers, batch_first=True)\n",
    "        # '*2' for 2 sequences -> 1 sequences\n",
    "        self.fc = nn.Linear(hidden_size * 2, num_classes)\n",
    "\n",
    "    def forward(self, x):\n",
    "        out, _ = self.RNN(x)\n",
    "        # out, _ = self.GRU(x, self.__state)\n",
    "        out = out.contiguous().view(out.size(0), -1)\n",
    "        out = self.fc(out)\n",
    "        return out\n",
    "\n",
    "\n",
    "# LSTM\n",
    "class LSTM(nn.Module):\n",
    "    def __init__(self, input_size, hidden_size, num_layers, num_classes):\n",
    "        super(LSTM, self).__init__()\n",
    "\n",
    "        self.input_size = input_size\n",
    "        self.hidden_size = hidden_size\n",
    "        self.num_layers = num_layers\n",
    "        self.num_class = num_classes\n",
    "\n",
    "        self.LSTM = nn.LSTM(input_size=input_size, hidden_size=hidden_size,\n",
    "                            num_layers=num_layers, batch_first=True)\n",
    "        # '*2' for 2 sequences -> 1 sequences\n",
    "        self.fc = nn.Linear(hidden_size * 2, num_classes)\n",
    "\n",
    "    def forward(self, x):\n",
    "        out, _ = self.LSTM(x)\n",
    "        out = out.contiguous().view(out.size(0), -1)\n",
    "        out = self.fc(out)\n",
    "        return out\n",
    "\n",
    "\n",
    "# BiLSTM\n",
    "class BiLSTM(nn.Module):\n",
    "    def __init__(self, input_size, hidden_size, num_layers, num_classes):\n",
    "        super(BiLSTM, self).__init__()\n",
    "\n",
    "        self.input_size = input_size\n",
    "        self.hidden_size = hidden_size\n",
    "        self.num_layers = num_layers\n",
    "        self.num_class = num_classes\n",
    "\n",
    "        self.BiLSTM = nn.LSTM(input_size=input_size, hidden_size=hidden_size,\n",
    "                              num_layers=num_layers, batch_first=True, bidirectional=True)\n",
    "        # '*2' for 2 sequences -> 1 sequences\n",
    "        # '*2' for bidirectional RNN\n",
    "        self.fc = nn.Linear(hidden_size * 2 * 2, num_classes)\n",
    "\n",
    "    def forward(self, x):\n",
    "        out, _ = self.BiLSTM(x)\n",
    "        out = out.contiguous().view(out.size(0), -1)\n",
    "        out = F.softmax(self.fc(out))\n",
    "        return out\n",
    "\n",
    "\n",
    "# 查看Pytorch是否支持GPU\n",
    "GPU_FLAG = torch.cuda.is_available()\n",
    "print('CUDA available?', GPU_FLAG)\n",
    "\n",
    "model = LSTM(input_size=input_size, hidden_size=hidden_size,\n",
    "             num_layers=num_layers, num_classes=num_classes)\n",
    "\n",
    "if GPU_FLAG:\n",
    "    model.cuda()\n",
    "else:\n",
    "    pass\n",
    "print(model)\n",
    "\n",
    "# Loss and Optimizer\n",
    "criterion = nn.CrossEntropyLoss()\n",
    "optimizer = torch.optim.Adagrad(model.parameters(), lr=learning_rate)"
   ]
  },
  {
   "cell_type": "code",
   "execution_count": 7,
   "metadata": {},
   "outputs": [
    {
     "name": "stdout",
     "output_type": "stream",
     "text": [
      "Epoch 1000 / 10000, training cost: 1.1118665933609009\n",
      "Epoch 2000 / 10000, training cost: 0.9681572914123535\n",
      "Epoch 3000 / 10000, training cost: 0.9464099407196045\n",
      "Epoch 4000 / 10000, training cost: 0.938765823841095\n",
      "Epoch 5000 / 10000, training cost: 0.9350782632827759\n",
      "Epoch 6000 / 10000, training cost: 0.9329175353050232\n",
      "Epoch 7000 / 10000, training cost: 0.9315014481544495\n",
      "Epoch 8000 / 10000, training cost: 0.9305206537246704\n",
      "Epoch 9000 / 10000, training cost: 0.9297926425933838\n",
      "Epoch 10000 / 10000, training cost: 0.9292267560958862\n"
     ]
    }
   ],
   "source": [
    "if GPU_FLAG:\n",
    "    x = Variable(x).cuda()\n",
    "    y = Variable(y).cuda()\n",
    "else:\n",
    "    x = Variable(x)\n",
    "    y = Variable(y)\n",
    "\n",
    "for epoch in xrange(1, 1 + training_epoch):\n",
    "    optimizer.zero_grad()\n",
    "    y_ = model(x)\n",
    "    loss = criterion(y_, y.view(-1))\n",
    "    loss.backward()\n",
    "    optimizer.step()\n",
    "\n",
    "    if epoch % 1000 == 0:\n",
    "        print('Epoch %s / %s, training cost: %s' % (epoch, training_epoch, float(loss)))\n"
   ]
  },
  {
   "cell_type": "code",
   "execution_count": 8,
   "metadata": {},
   "outputs": [],
   "source": [
    "# generating text\n",
    "model.eval()\n",
    "context_idxs = [word2ind['D'], word2ind['e']]\n",
    "logue = context_idxs\n",
    "for i in xrange(data_num):\n",
    "    if GPU_FLAG:\n",
    "        context_var = Variable(one_hot([context_idxs]).view([-1, x_length, num_classes])).cuda()\n",
    "        context_idxs = model(context_var).topk(1)[1].cpu().numpy()[0, 0]\n",
    "    else:\n",
    "        context_var = Variable(one_hot([context_idxs]).view([-1, x_length, num_classes]))\n",
    "        context_idxs = model(context_var).topk(1)[1].numpy()[0, 0]\n",
    "    logue.append(context_idxs)\n",
    "    context_idxs = logue[-2:]\n",
    "\n",
    "pred_sentence = ''.join([ind2word[i] for i in logue])"
   ]
  },
  {
   "cell_type": "code",
   "execution_count": 9,
   "metadata": {},
   "outputs": [
    {
     "name": "stdout",
     "output_type": "stream",
     "text": [
      "Distance between these two sentences is 698\n",
      "\u001b[1;31;40m \n",
      "Deep learning (also known as deep structured learning or hierarchical learning)\n",
      "is part of a broader family of machine learning methods based on learning data\n",
      "representations, as opposed to task-specific algorithms. Learning can be supervised,\n",
      "semi-supervised or unsupervised. Deep learning models are loosely related to information\n",
      "processing and communication patterns in a biological nervous system, such as neural\n",
      "coding that attempts to define a relationship between various stimuli and associated\n",
      "neuronal responses in the brain. Deep learning architectures such as deep neural\n",
      "networks, deep belief networks and recurrent neural networks have been applied to\n",
      "fields including computer vision, speech recognition, natural language processing,\n",
      "audio recognition, social network filtering, machine translation, bioinformatics\n",
      "and drug design,[5] where they have produced results comparable to and in some\n",
      "cases superior[6] to human experts.\n",
      " \u001b[0m\n",
      "Deep learning as supervised to ing as supervised to ing as supervised to ing as supervised to ing as supervised to ing as supervised to ing as supervised to ing as supervised to ing as supervised to ing as supervised to ing as supervised to ing as supervised to ing as supervised to ing as supervised to ing as supervised to ing as supervised to ing as supervised to ing as supervised to ing as supervised to ing as supervised to ing as supervised to ing as supervised to ing as supervised to ing as supervised to ing as supervised to ing as supervised to ing as supervised to ing as supervised to ing as supervised to ing as supervised to ing as supervised to ing as supervised to ing as supervised to ing as supervised to ing as supervised to ing as supervised to ing as supervised to ing as supervised to ing as supervised to ing as supervised to ing as supervised to ing as supervised to ing as supervised to ing as supervised to ing as super\n"
     ]
    }
   ],
   "source": [
    "import editdistance\n",
    "\n",
    "print('Distance between these two sentences is %s' % (editdistance.eval(test_sentence, pred_sentence)))\n",
    "print(\"\\033[1;31;40m %s \\033[0m\" % (test_sentence))\n",
    "print(pred_sentence)"
   ]
  }
 ],
 "metadata": {
  "kernelspec": {
   "display_name": "Python 3",
   "language": "python",
   "name": "python3"
  },
  "language_info": {
   "codemirror_mode": {
    "name": "ipython",
    "version": 3
   },
   "file_extension": ".py",
   "mimetype": "text/x-python",
   "name": "python",
   "nbconvert_exporter": "python",
   "pygments_lexer": "ipython3",
   "version": "3.5.2"
  }
 },
 "nbformat": 4,
 "nbformat_minor": 1
}
