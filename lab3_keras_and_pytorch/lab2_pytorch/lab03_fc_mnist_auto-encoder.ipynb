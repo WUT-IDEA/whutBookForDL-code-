{
 "cells": [
  {
   "cell_type": "code",
   "execution_count": 1,
   "metadata": {},
   "outputs": [],
   "source": [
    "%matplotlib inline"
   ]
  },
  {
   "cell_type": "markdown",
   "metadata": {},
   "source": [
    "# Pytorch 自动编码器(auto-encoder)"
   ]
  },
  {
   "cell_type": "code",
   "execution_count": 2,
   "metadata": {},
   "outputs": [],
   "source": [
    "# -*- coding: utf-8 -*-\n",
    "\n",
    "from __future__ import absolute_import\n",
    "from __future__ import division\n",
    "from __future__ import print_function\n",
    "from six.moves import xrange"
   ]
  },
  {
   "cell_type": "code",
   "execution_count": 3,
   "metadata": {},
   "outputs": [
    {
     "data": {
      "text/plain": [
       "<torch._C.Generator at 0x7fc55c259330>"
      ]
     },
     "execution_count": 3,
     "metadata": {},
     "output_type": "execute_result"
    }
   ],
   "source": [
    "import torch\n",
    "import torch.nn as nn\n",
    "from torch.autograd import Variable\n",
    "\n",
    "torch.manual_seed(1)  # 网络参数初始化方案为1，可以保证模型效果重现"
   ]
  },
  {
   "cell_type": "code",
   "execution_count": 4,
   "metadata": {},
   "outputs": [],
   "source": [
    "GPU_FLAG = torch.cuda.is_available()\n",
    "print('CUDA available?', GPU_FLAG)\n",
    "\n",
    "# hyper-parameter\n",
    "training_epoch = 100\n",
    "learning_rate = 1e-3\n",
    "batch_size = 100"
   ]
  },
  {
   "cell_type": "markdown",
   "metadata": {},
   "source": [
    "MNIST数据迭代器"
   ]
  },
  {
   "cell_type": "code",
   "execution_count": 5,
   "metadata": {},
   "outputs": [],
   "source": [
    "import torch.utils.data as Data\n",
    "import torchvision\n",
    "\n",
    "# Mnist digits dataset\n",
    "train_data = torchvision.datasets.MNIST(\n",
    "    root='data/',\n",
    "    train=True,\n",
    "    transform=torchvision.transforms.ToTensor(),\n",
    "    download=True,\n",
    ")\n",
    "\n",
    "train_loader = Data.DataLoader(dataset=train_data, batch_size=batch_size, shuffle=True)"
   ]
  },
  {
   "cell_type": "markdown",
   "metadata": {},
   "source": [
    "建立模型"
   ]
  },
  {
   "cell_type": "code",
   "execution_count": 6,
   "metadata": {},
   "outputs": [
    {
     "name": "stdout",
     "output_type": "stream",
     "text": [
      "AutoEncoder (\n",
      "  (encoder): Sequential (\n",
      "    (0): Linear (784 -> 256)\n",
      "    (1): ReLU ()\n",
      "    (2): Dropout (p = 0.2)\n",
      "    (3): Linear (256 -> 128)\n",
      "    (4): ReLU ()\n",
      "    (5): Dropout (p = 0.2)\n",
      "    (6): Linear (128 -> 5)\n",
      "    (7): ReLU ()\n",
      "  )\n",
      "  (decoder): Sequential (\n",
      "    (0): Linear (5 -> 128)\n",
      "    (1): ReLU ()\n",
      "    (2): Dropout (p = 0.2)\n",
      "    (3): Linear (128 -> 256)\n",
      "    (4): ReLU ()\n",
      "    (5): Dropout (p = 0.2)\n",
      "    (6): Linear (256 -> 784)\n",
      "    (7): Sigmoid ()\n",
      "  )\n",
      ")\n"
     ]
    }
   ],
   "source": [
    "class AutoEncoder(nn.Module):\n",
    "    def __init__(self):\n",
    "        super(AutoEncoder, self).__init__()\n",
    "\n",
    "        self.encoder = nn.Sequential(\n",
    "            nn.Linear(28 * 28, 256),\n",
    "            nn.ReLU(),\n",
    "            nn.Dropout(0.2),\n",
    "            nn.Linear(256, 128),\n",
    "            nn.ReLU(),\n",
    "            nn.Dropout(0.2),\n",
    "            nn.Linear(128, 5),  # compress to 3 features which can be visualized in plt\n",
    "            nn.ReLU(),\n",
    "        )\n",
    "        self.decoder = nn.Sequential(\n",
    "            nn.Linear(5, 128),\n",
    "            nn.ReLU(),\n",
    "            nn.Dropout(0.2),\n",
    "            nn.Linear(128, 256),\n",
    "            nn.ReLU(),\n",
    "            nn.Dropout(0.2),\n",
    "            nn.Linear(256, 28 * 28),\n",
    "            nn.Sigmoid(),  # compress to a range (0, 1)\n",
    "        )\n",
    "\n",
    "    def forward(self, x):\n",
    "        encoded = self.encoder(x)\n",
    "        decoded = self.decoder(encoded)\n",
    "        return encoded, decoded\n",
    "\n",
    "\n",
    "autoencoder = AutoEncoder()\n",
    "if GPU_FLAG:\n",
    "    autoencoder.cuda()\n",
    "else:\n",
    "    pass\n",
    "print(autoencoder)\n",
    "optimizer = torch.optim.Adam(autoencoder.parameters(), lr=learning_rate)\n",
    "loss_func = nn.MSELoss()"
   ]
  },
  {
   "cell_type": "markdown",
   "metadata": {},
   "source": [
    "原始图片展示"
   ]
  },
  {
   "cell_type": "code",
   "execution_count": 7,
   "metadata": {},
   "outputs": [
    {
     "data": {
      "text/plain": [
       "<matplotlib.image.AxesImage at 0x7fc51ffa13d0>"
      ]
     },
     "execution_count": 7,
     "metadata": {},
     "output_type": "execute_result"
    },
    {
     "data": {
      "image/png": "[encoded data removed]",
      "text/plain": [
       "<matplotlib.figure.Figure at 0x7fc55bec4250>"
      ]
     },
     "metadata": {},
     "output_type": "display_data"
    }
   ],
   "source": [
    "import numpy as np\n",
    "import matplotlib.pylab as plt\n",
    "\n",
    "\n",
    "# plot original\n",
    "original_image = train_data[0][0].numpy()[0]\n",
    "plt.imshow(original_image*255)"
   ]
  },
  {
   "cell_type": "markdown",
   "metadata": {},
   "source": [
    "训练以及每一次展示"
   ]
  },
  {
   "cell_type": "code",
   "execution_count": 8,
   "metadata": {},
   "outputs": [
    {
     "name": "stdout",
     "output_type": "stream",
     "text": [
      "Episode 10 / 100, loss = 3.34139774181\n",
      "Episode 20 / 100, loss = 3.11072496635\n",
      "Episode 30 / 100, loss = 2.95660509852\n",
      "Episode 40 / 100, loss = 2.90484190484\n",
      "Episode 50 / 100, loss = 2.87384791269\n",
      "Episode 60 / 100, loss = 2.85828112314\n",
      "Episode 70 / 100, loss = 2.84362520371\n",
      "Episode 80 / 100, loss = 2.8342296596\n",
      "Episode 90 / 100, loss = 2.82688003158\n",
      "Episode 100 / 100, loss = 2.81318902038\n"
     ]
    },
    {
     "data": {
      "text/plain": [
       "<matplotlib.image.AxesImage at 0x7fc4de0a7190>"
      ]
     },
     "execution_count": 8,
     "metadata": {},
     "output_type": "execute_result"
    },
    {
     "data": {
      "image/png": "[encoded data removed]",
      "text/plain": [
       "<matplotlib.figure.Figure at 0x7fc520006410>"
      ]
     },
     "metadata": {},
     "output_type": "display_data"
    }
   ],
   "source": [
    "# visualization\n",
    "img = original_image\n",
    "blank = np.ones(shape=(28, 1))\n",
    "img = np.concatenate((img, blank), axis=-1)\n",
    "\n",
    "for epoch in xrange(1, 1 + training_epoch):\n",
    "    cost = 0.0\n",
    "    batch_episode=len(train_loader)//batch_size\n",
    "    for _, (images, _) in enumerate(train_loader):\n",
    "        if GPU_FLAG:\n",
    "            batch_x = Variable(images.view(-1, 28 ** 2)).cuda()\n",
    "        else:\n",
    "            batch_x = Variable(images.view(-1, 28 ** 2))\n",
    "\n",
    "        encoded, decoded = autoencoder(batch_x)\n",
    "\n",
    "        loss = loss_func(decoded, batch_x)\n",
    "        optimizer.zero_grad()\n",
    "        loss.backward()\n",
    "        optimizer.step()\n",
    "\n",
    "        cost += loss.data[0]\n",
    "    if epoch % 10 == 0:\n",
    "        print('Episode %s / %s, loss = %s' % (epoch, training_epoch, float(cost) / len(train_data)))\n",
    "        # plot model output\n",
    "        if GPU_FLAG:\n",
    "            image = Variable(torch.FloatTensor(original_image).view(1, -1)).cuda()\n",
    "            _, decoded = autoencoder(image)\n",
    "            image = decoded.view(28, 28).cpu().data.numpy()\n",
    "        else:\n",
    "            image = Variable(torch.FloatTensor(original_image).view(1, -1))\n",
    "            _, decoded = autoencoder(image)\n",
    "            image = decoded.view(28, 28).data.numpy()\n",
    "        img = np.concatenate((img, blank, np.reshape(a=image, newshape=(28, 28))), axis=-1)\n",
    "plt.imshow(img * 255)"
   ]
  },
  {
   "cell_type": "code",
   "execution_count": 9,
   "metadata": {},
   "outputs": [
    {
     "data": {
      "image/png": "[encoded data removed]",
      "text/plain": [
       "<PIL.Image.Image image mode=L size=319x28 at 0x7FC51FFF0390>"
      ]
     },
     "execution_count": 9,
     "metadata": {},
     "output_type": "execute_result"
    }
   ],
   "source": [
    "from PIL import Image\n",
    "\n",
    "Image.fromarray(img * 255).convert('L')"
   ]
  }
 ],
 "metadata": {
  "kernelspec": {
   "display_name": "Python 3",
   "language": "python",
   "name": "python3"
  },
  "language_info": {
   "codemirror_mode": {
    "name": "ipython",
    "version": 3
   },
   "file_extension": ".py",
   "mimetype": "text/x-python",
   "name": "python",
   "nbconvert_exporter": "python",
   "pygments_lexer": "ipython3",
   "version": "3.5.2"
  }
 },
 "nbformat": 4,
 "nbformat_minor": 1
}
