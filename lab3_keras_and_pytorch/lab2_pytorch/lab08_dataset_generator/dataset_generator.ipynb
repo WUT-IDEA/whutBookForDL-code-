{
 "cells": [
  {
   "cell_type": "markdown",
   "metadata": {},
   "source": [
    "数据迭代器 - Data Generator\n",
    "====\n"
   ]
  },
  {
   "cell_type": "markdown",
   "metadata": {},
   "source": [
    "数据迭代器主要是解决内存/显存空间不足的问题，但会使得程序的运行时间变慢。<br>\n",
    "总体上来说，程序的运行时间取决于运算器能力，迭代器只是一种折中方式。<br>\n",
    "数据迭代器并不能保证内存/显存空间就一直会稳定在一个水平，会非常缓慢的上升。（这是由程序运行造成的，不适用迭代器也会造成此现象。建议留出一定的空间）"
   ]
  },
  {
   "cell_type": "code",
   "execution_count": 1,
   "metadata": {},
   "outputs": [],
   "source": [
    "# -*- coding: utf-8 -*-\n",
    "\n",
    "from __future__ import absolute_import\n",
    "from __future__ import division\n",
    "from __future__ import print_function\n",
    "from six.moves import xrange\n",
    "\n",
    "\n",
    "import torch\n",
    "import torch.utils.data as data\n",
    "from torch.utils.data import Dataset\n",
    "import numpy as np\n",
    "import os"
   ]
  },
  {
   "cell_type": "markdown",
   "metadata": {},
   "source": [
    "首先利用numpy生成假数据"
   ]
  },
  {
   "cell_type": "code",
   "execution_count": 2,
   "metadata": {},
   "outputs": [],
   "source": [
    "def fake_data_generator(num=4):\n",
    "    # define make direction func\n",
    "    def mkdir(name=None):\n",
    "        if os.path.exists(name):\n",
    "            pass\n",
    "        else:\n",
    "            os.mkdir(name)\n",
    "\n",
    "    # generate images\n",
    "    mkdir(name='images')\n",
    "    for i in xrange(num):\n",
    "        new_array = np.zeros(shape=(10, 10), dtype=np.float32) * num\n",
    "        np.save(file='images/%s.npy' % i, arr=new_array)\n",
    "    # generate text\n",
    "    mkdir(name='text')\n",
    "    for i in xrange(num):\n",
    "        new_text = str(i)\n",
    "        with open('text/%s.txt' % i, mode='w') as text_buffer:\n",
    "            text_buffer.write(new_text)\n",
    "\n",
    "\n",
    "fake_data_generator()"
   ]
  },
  {
   "cell_type": "markdown",
   "metadata": {},
   "source": [
    "创建一个数据迭代器类，继承于torch.utils.data.Dataset"
   ]
  },
  {
   "cell_type": "code",
   "execution_count": 3,
   "metadata": {},
   "outputs": [],
   "source": [
    "# this function is to extract files from the path\n",
    "def getSubfiles(path):\n",
    "    return sorted([os.path.join(path, subdir) for subdir in os.listdir(path)])\n",
    "\n",
    "\n",
    "class DataGenerator(Dataset):\n",
    "    def __init__(self, img_dir, text_dir, func=getSubfiles):\n",
    "        self.img_list = func(img_dir)\n",
    "        self.text_list = func(text_dir)\n",
    "\n",
    "        assert len(self.img_list) == len(self.text_list)\n",
    "        self.length = len(self.img_list)\n",
    "\n",
    "    def __getitem__(self, index):\n",
    "        '''\n",
    "        this function can only return a pair of data\n",
    "        :param index:\n",
    "        :return: (image, text)\n",
    "        '''\n",
    "        # read an image\n",
    "        img = np.load(self.img_list[index])\n",
    "        # read a txt\n",
    "        with open(self.text_list[index], 'r') as text_buffer:\n",
    "            text = text_buffer.read()\n",
    "        return (img, text)\n",
    "\n",
    "    def __len__(self):\n",
    "        # return self.length\n",
    "        return len(self.img_list)"
   ]
  },
  {
   "cell_type": "markdown",
   "metadata": {},
   "source": [
    "DataGenerator的__getitem__函数，一次只能生成一组(img, text)数据。需要利用额外的collate_fn将多组(img, text)变成(img), (text)。"
   ]
  },
  {
   "cell_type": "code",
   "execution_count": 4,
   "metadata": {},
   "outputs": [],
   "source": [
    "def collate_fn(batch_data):\n",
    "#     batch_data.sort(key=lambda x: int(x[-1]), reverse=True)\n",
    "    img, labels = zip(*batch_data)\n",
    "    return img, labels"
   ]
  },
  {
   "cell_type": "code",
   "execution_count": 5,
   "metadata": {},
   "outputs": [],
   "source": [
    "dataset = DataGenerator(img_dir='images', text_dir='text')\n",
    "batch_size = 2\n",
    "\n",
    "data_loader = torch.utils.data.DataLoader(\n",
    "    dataset=dataset,\n",
    "    batch_size=batch_size,\n",
    "    shuffle=True,\n",
    "    collate_fn=collate_fn)"
   ]
  },
  {
   "cell_type": "markdown",
   "metadata": {},
   "source": [
    "对迭代器进行一次遍历，该过程中的数据不会重复。<br>\n",
    "可以无限循环下去"
   ]
  },
  {
   "cell_type": "code",
   "execution_count": 6,
   "metadata": {},
   "outputs": [
    {
     "name": "stdout",
     "output_type": "stream",
     "text": [
      "((array([[0., 0., 0., 0., 0., 0., 0., 0., 0., 0.],\n",
      "       [0., 0., 0., 0., 0., 0., 0., 0., 0., 0.],\n",
      "       [0., 0., 0., 0., 0., 0., 0., 0., 0., 0.],\n",
      "       [0., 0., 0., 0., 0., 0., 0., 0., 0., 0.],\n",
      "       [0., 0., 0., 0., 0., 0., 0., 0., 0., 0.],\n",
      "       [0., 0., 0., 0., 0., 0., 0., 0., 0., 0.],\n",
      "       [0., 0., 0., 0., 0., 0., 0., 0., 0., 0.],\n",
      "       [0., 0., 0., 0., 0., 0., 0., 0., 0., 0.],\n",
      "       [0., 0., 0., 0., 0., 0., 0., 0., 0., 0.],\n",
      "       [0., 0., 0., 0., 0., 0., 0., 0., 0., 0.]], dtype=float32), array([[0., 0., 0., 0., 0., 0., 0., 0., 0., 0.],\n",
      "       [0., 0., 0., 0., 0., 0., 0., 0., 0., 0.],\n",
      "       [0., 0., 0., 0., 0., 0., 0., 0., 0., 0.],\n",
      "       [0., 0., 0., 0., 0., 0., 0., 0., 0., 0.],\n",
      "       [0., 0., 0., 0., 0., 0., 0., 0., 0., 0.],\n",
      "       [0., 0., 0., 0., 0., 0., 0., 0., 0., 0.],\n",
      "       [0., 0., 0., 0., 0., 0., 0., 0., 0., 0.],\n",
      "       [0., 0., 0., 0., 0., 0., 0., 0., 0., 0.],\n",
      "       [0., 0., 0., 0., 0., 0., 0., 0., 0., 0.],\n",
      "       [0., 0., 0., 0., 0., 0., 0., 0., 0., 0.]], dtype=float32)), ('2', '0'))\n",
      "((array([[0., 0., 0., 0., 0., 0., 0., 0., 0., 0.],\n",
      "       [0., 0., 0., 0., 0., 0., 0., 0., 0., 0.],\n",
      "       [0., 0., 0., 0., 0., 0., 0., 0., 0., 0.],\n",
      "       [0., 0., 0., 0., 0., 0., 0., 0., 0., 0.],\n",
      "       [0., 0., 0., 0., 0., 0., 0., 0., 0., 0.],\n",
      "       [0., 0., 0., 0., 0., 0., 0., 0., 0., 0.],\n",
      "       [0., 0., 0., 0., 0., 0., 0., 0., 0., 0.],\n",
      "       [0., 0., 0., 0., 0., 0., 0., 0., 0., 0.],\n",
      "       [0., 0., 0., 0., 0., 0., 0., 0., 0., 0.],\n",
      "       [0., 0., 0., 0., 0., 0., 0., 0., 0., 0.]], dtype=float32), array([[0., 0., 0., 0., 0., 0., 0., 0., 0., 0.],\n",
      "       [0., 0., 0., 0., 0., 0., 0., 0., 0., 0.],\n",
      "       [0., 0., 0., 0., 0., 0., 0., 0., 0., 0.],\n",
      "       [0., 0., 0., 0., 0., 0., 0., 0., 0., 0.],\n",
      "       [0., 0., 0., 0., 0., 0., 0., 0., 0., 0.],\n",
      "       [0., 0., 0., 0., 0., 0., 0., 0., 0., 0.],\n",
      "       [0., 0., 0., 0., 0., 0., 0., 0., 0., 0.],\n",
      "       [0., 0., 0., 0., 0., 0., 0., 0., 0., 0.],\n",
      "       [0., 0., 0., 0., 0., 0., 0., 0., 0., 0.],\n",
      "       [0., 0., 0., 0., 0., 0., 0., 0., 0., 0.]], dtype=float32)), ('2', '3'))\n"
     ]
    }
   ],
   "source": [
    "for _ in xrange(len(data_loader)):\n",
    "    print(data_loader.__iter__().__next__())"
   ]
  }
 ],
 "metadata": {
  "kernelspec": {
   "display_name": "Python 3",
   "language": "python",
   "name": "python3"
  },
  "language_info": {
   "codemirror_mode": {
    "name": "ipython",
    "version": 3
   },
   "file_extension": ".py",
   "mimetype": "text/x-python",
   "name": "python",
   "nbconvert_exporter": "python",
   "pygments_lexer": "ipython3",
   "version": "3.5.2"
  }
 },
 "nbformat": 4,
 "nbformat_minor": 2
}
