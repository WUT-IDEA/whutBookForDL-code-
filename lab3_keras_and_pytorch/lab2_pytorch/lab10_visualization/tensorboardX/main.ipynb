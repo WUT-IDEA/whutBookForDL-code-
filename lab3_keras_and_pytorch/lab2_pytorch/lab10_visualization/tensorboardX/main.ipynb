{
 "cells": [
  {
   "cell_type": "markdown",
   "metadata": {},
   "source": [
    "# TensorBoardX in Pytorch\n",
    "\n",
    "tensorboardX官方文档（附有繁体中文翻译）:http://tensorboardx.readthedocs.io/en/latest/<br>\n",
    "\n",
    "tensorboardX地址：https://github.com/lanpa/tensorboardX<br>\n",
    "\n"
   ]
  },
  {
   "cell_type": "markdown",
   "metadata": {},
   "source": [
    "按顺序运行：\n",
    "demo.py\n",
    "在终端中运行：\"tensorboard --logdir runs\""
   ]
  },
  {
   "cell_type": "markdown",
   "metadata": {},
   "source": [
    "结果展示\n",
    "![avatar](scalars.png)"
   ]
  }
 ],
 "metadata": {
  "kernelspec": {
   "display_name": "Python 3",
   "language": "python",
   "name": "python3"
  },
  "language_info": {
   "codemirror_mode": {
    "name": "ipython",
    "version": 3
   },
   "file_extension": ".py",
   "mimetype": "text/x-python",
   "name": "python",
   "nbconvert_exporter": "python",
   "pygments_lexer": "ipython3",
   "version": "3.5.2"
  }
 },
 "nbformat": 4,
 "nbformat_minor": 2
}
