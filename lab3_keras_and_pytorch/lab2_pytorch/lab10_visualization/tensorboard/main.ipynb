{
 "cells": [
  {
   "cell_type": "markdown",
   "metadata": {},
   "source": [
    "# TensorBoard in Pytorch\n",
    "Pytorch不直接支持tensorflow，需要手动将运行的文件信息吸入tensorflow.summary中。<br>\n",
    "本例代码参加：https://github.com/yunjey/pytorch-tutorial/tree/master/tutorials/04-utils/tensorboard\n",
    "<br>\n",
    "按顺序运行：<br>\n",
    "loggerr.py<br>\n",
    "tensorboard_pytorch.py<br>\n",
    "在终端中运行：\"tensorboard --logdir history\"或直\"tensorboard --logdir=history\""
   ]
  },
  {
   "cell_type": "markdown",
   "metadata": {},
   "source": [
    "结果展示\n",
    "![avatar](scalars.png)"
   ]
  }
 ],
 "metadata": {
  "kernelspec": {
   "display_name": "Python 3",
   "language": "python",
   "name": "python3"
  },
  "language_info": {
   "codemirror_mode": {
    "name": "ipython",
    "version": 3
   },
   "file_extension": ".py",
   "mimetype": "text/x-python",
   "name": "python",
   "nbconvert_exporter": "python",
   "pygments_lexer": "ipython3",
   "version": "3.5.2"
  }
 },
 "nbformat": 4,
 "nbformat_minor": 2
}
