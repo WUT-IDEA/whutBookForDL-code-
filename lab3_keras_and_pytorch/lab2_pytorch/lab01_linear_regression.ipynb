{
 "cells": [
  {
   "cell_type": "code",
   "execution_count": 1,
   "metadata": {},
   "outputs": [],
   "source": [
    "%matplotlib inline"
   ]
  },
  {
   "cell_type": "markdown",
   "metadata": {},
   "source": [
    "# Pytorch 线性回归\n",
    "Pytorch可以选择使用GPU/CPU完成运算过程，本例中为使用CPU运算"
   ]
  },
  {
   "cell_type": "code",
   "execution_count": 2,
   "metadata": {},
   "outputs": [],
   "source": [
    "# -*- coding: utf-8 -*-\n",
    "\n",
    "from __future__ import absolute_import\n",
    "from __future__ import division\n",
    "from __future__ import print_function\n",
    "from six.moves import xrange"
   ]
  },
  {
   "cell_type": "code",
   "execution_count": 3,
   "metadata": {},
   "outputs": [],
   "source": [
    "# 生成数据\n",
    "import numpy as np\n",
    "\n",
    "x_data = np.linspace(start=-1, stop=1, num=50)\n",
    "\n",
    "# x表示输入，y表示输出，y_表示y(hat)预测值\n",
    "# 噪声～正态分布，服从均值为0，方差为0.2\n",
    "y_data = 2 * x_data + 0.1\n",
    "y_data_noise = y_data + np.random.normal(loc=0, scale=0.2, size=x_data.shape)\n"
   ]
  },
  {
   "cell_type": "code",
   "execution_count": 4,
   "metadata": {},
   "outputs": [
    {
     "data": {
      "image/png": "[encoded data removed]",
      "text/plain": [
       "<Figure size 432x288 with 1 Axes>"
      ]
     },
     "metadata": {},
     "output_type": "display_data"
    }
   ],
   "source": [
    "import matplotlib.pyplot as plt\n",
    "\n",
    "plt.plot(x_data, y_data, 'b-.')\n",
    "plt.plot(x_data, y_data_noise, 'ro')\n",
    "plt.show()"
   ]
  },
  {
   "cell_type": "code",
   "execution_count": 5,
   "metadata": {},
   "outputs": [
    {
     "name": "stdout",
     "output_type": "stream",
     "text": [
      "Epoch 1000 / 10000: loss = 0.5276861190795898, y = 0.83229965 * x + 0.14901976\n",
      "Epoch 2000 / 10000: loss = 0.16950233280658722, y = 1.4105645 * x + 0.06141399\n",
      "Epoch 3000 / 10000: loss = 0.08246859908103943, y = 1.6994169 * x + 0.0495815\n",
      "Epoch 4000 / 10000: loss = 0.060795292258262634, y = 1.8437016 * x + 0.04798335\n",
      "Epoch 5000 / 10000: loss = 0.05538814514875412, y = 1.9157751 * x + 0.047767486\n",
      "Epoch 6000 / 10000: loss = 0.05403903126716614, y = 1.9517761 * x + 0.04773832\n",
      "Epoch 7000 / 10000: loss = 0.05370238795876503, y = 1.9697595 * x + 0.047734674\n",
      "Epoch 8000 / 10000: loss = 0.0536184124648571, y = 1.9787422 * x + 0.047734674\n",
      "Epoch 9000 / 10000: loss = 0.05359746515750885, y = 1.9832292 * x + 0.047734674\n",
      "Epoch 10000 / 10000: loss = 0.053592223674058914, y = 1.9854697 * x + 0.047734674\n"
     ]
    }
   ],
   "source": [
    "# hyperparameter\n",
    "training_episode = 10000\n",
    "learning_rate = 0.001\n",
    "\n",
    "import torch\n",
    "from torch.autograd import Variable\n",
    "import torch.nn as nn\n",
    "\n",
    "model = nn.Linear(1, 1)\n",
    "\n",
    "# Loss and Optimizer\n",
    "criterion = nn.MSELoss()\n",
    "optimizer = torch.optim.SGD(model.parameters(), lr=learning_rate)\n",
    "\n",
    "# training\n",
    "for i in xrange(1, 1+training_episode):\n",
    "    x = Variable(torch.Tensor(x_data[..., None]))\n",
    "    y = Variable(torch.Tensor(y_data_noise[..., None]))\n",
    "    \n",
    "    optimizer.zero_grad() # Pytorch中的梯度是累加的，需要手动清空\n",
    "    y_ = model(x) # forward\n",
    "    loss = criterion(y_, y) # 计算loss/cost\n",
    "    loss.backward() # back-propagation\n",
    "    optimizer.step() # 更新权重\n",
    "\n",
    "    if i % 1000 == 0:\n",
    "        a, b = model.state_dict().values()\n",
    "        torchTensor2scalar = lambda x: x.numpy()\n",
    "        a, b, loss = torchTensor2scalar(a)[0, 0], torchTensor2scalar(b)[0], float(loss.data.numpy())\n",
    "        print('Epoch %s / %s: loss = %s, y = %s * x + %s' % (\n",
    "            i , training_episode, loss, a, b))"
   ]
  },
  {
   "cell_type": "code",
   "execution_count": 6,
   "metadata": {},
   "outputs": [
    {
     "data": {
      "image/png": "[encoded data removed]",
      "text/plain": [
       "<Figure size 432x288 with 1 Axes>"
      ]
     },
     "metadata": {},
     "output_type": "display_data"
    }
   ],
   "source": [
    "plt.plot(x_data, y_data, 'b-.', label='real')\n",
    "plt.plot(x_data, a * x_data + b, 'r--', label='predict')\n",
    "plt.plot(x_data, y_data_noise, 'ro')\n",
    "\n",
    "plt.legend()\n",
    "plt.show()"
   ]
  }
 ],
 "metadata": {
  "kernelspec": {
   "display_name": "Python 3",
   "language": "python",
   "name": "python3"
  },
  "language_info": {
   "codemirror_mode": {
    "name": "ipython",
    "version": 3
   },
   "file_extension": ".py",
   "mimetype": "text/x-python",
   "name": "python",
   "nbconvert_exporter": "python",
   "pygments_lexer": "ipython3",
   "version": "3.5.2"
  }
 },
 "nbformat": 4,
 "nbformat_minor": 1
}
