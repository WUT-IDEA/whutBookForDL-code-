{
 "cells": [
  {
   "cell_type": "markdown",
   "metadata": {},
   "source": [
    "卷积神经网络 - Convolutional Neural Network\n",
    "====\n"
   ]
  },
  {
   "cell_type": "code",
   "execution_count": 1,
   "metadata": {},
   "outputs": [],
   "source": [
    "# -*- coding: utf-8 -*-\n",
    "\n",
    "from __future__ import absolute_import\n",
    "from __future__ import division\n",
    "from __future__ import print_function\n",
    "from six.moves import xrange"
   ]
  },
  {
   "cell_type": "code",
   "execution_count": 2,
   "metadata": {},
   "outputs": [
    {
     "data": {
      "text/plain": [
       "<torch._C.Generator at 0x7f33100813d0>"
      ]
     },
     "execution_count": 2,
     "metadata": {},
     "output_type": "execute_result"
    }
   ],
   "source": [
    "import torch\n",
    "import torch.nn as nn\n",
    "from torch.autograd import Variable\n",
    "import torch.nn.functional as F\n",
    "\n",
    "torch.manual_seed(1)  # reproducible"
   ]
  },
  {
   "cell_type": "code",
   "execution_count": 3,
   "metadata": {},
   "outputs": [],
   "source": [
    "GPU_FLAG = torch.cuda.is_available()\n",
    "\n",
    "# Hyper Parameters\n",
    "EPISODES = 10\n",
    "BATCH_SIZE = 1000"
   ]
  },
  {
   "cell_type": "markdown",
   "metadata": {},
   "source": [
    "数据迭代器"
   ]
  },
  {
   "cell_type": "code",
   "execution_count": 4,
   "metadata": {},
   "outputs": [],
   "source": [
    "import torch.utils.data as Data\n",
    "import torchvision\n",
    "\n",
    "# Mnist digits dataset\n",
    "train_data = torchvision.datasets.MNIST(\n",
    "    root='data/',\n",
    "    train=True,\n",
    "    transform=torchvision.transforms.ToTensor(),\n",
    "    download=True,\n",
    ")\n",
    "test_data = torchvision.datasets.MNIST(\n",
    "    root='data/',\n",
    "    train=False,\n",
    "    transform=torchvision.transforms.ToTensor(),\n",
    "    download=True,\n",
    ")\n",
    "\n",
    "train_loader = Data.DataLoader(dataset=train_data, batch_size=BATCH_SIZE, shuffle=True)\n",
    "test_loader = Data.DataLoader(dataset=test_data, batch_size=BATCH_SIZE, shuffle=True)"
   ]
  },
  {
   "cell_type": "markdown",
   "metadata": {},
   "source": [
    "建立网络"
   ]
  },
  {
   "cell_type": "markdown",
   "metadata": {},
   "source": [
    "## 参数初始化\n",
    "### 方式1\n",
    "xavier_uniform - 只能初始化weights，不能bias（维度不够，至少2维）<br>\n",
    "``\n",
    "if len(para.size()) >= 2:\n",
    "    torch.nn.init.xavier_uniform(para)\n",
    "else:\n",
    "    pass\n",
    "``\n",
    "\n",
    "### 方式2\n",
    "constant - 所有参数全部为0<br>\n",
    "``\n",
    "torch.nn.init.constant(para, val=0)\n",
    "``\n",
    "\n",
    "### 方式3\n",
    "normal - 均值为0，方差为1的正态分布<br>\n",
    "``torch.nn.init.normal(para)``"
   ]
  },
  {
   "cell_type": "code",
   "execution_count": 5,
   "metadata": {},
   "outputs": [
    {
     "name": "stderr",
     "output_type": "stream",
     "text": [
      "/usr/local/lib/python3.5/dist-packages/ipykernel_launcher.py:28: UserWarning: nn.init.xavier_uniform is now deprecated in favor of nn.init.xavier_uniform_.\n"
     ]
    },
    {
     "name": "stdout",
     "output_type": "stream",
     "text": [
      "ConvNet(\n",
      "  (conv1): Conv2d(1, 16, kernel_size=(5, 5), stride=(1, 1))\n",
      "  (conv2): Conv2d(16, 32, kernel_size=(5, 5), stride=(1, 1))\n",
      "  (fc1): Linear(in_features=512, out_features=256, bias=True)\n",
      "  (fc2): Linear(in_features=256, out_features=64, bias=True)\n",
      "  (fc3): Linear(in_features=64, out_features=10, bias=True)\n",
      "  (criterion): CrossEntropyLoss()\n",
      ")\n"
     ]
    }
   ],
   "source": [
    "class ConvNet(nn.Module):\n",
    "    def __init__(self):\n",
    "        super(ConvNet, self).__init__()\n",
    "\n",
    "        self.conv1 = nn.Conv2d(in_channels=1,\n",
    "                               out_channels=16,\n",
    "                               kernel_size=5)\n",
    "        self.conv2 = nn.Conv2d(in_channels=16,\n",
    "                               out_channels=32,\n",
    "                               kernel_size=5)\n",
    "        self.fc1 = nn.Linear(512, 256)\n",
    "        self.fc2 = nn.Linear(256, 64)\n",
    "        self.fc3 = nn.Linear(64, 10)\n",
    "\n",
    "        # initialize\n",
    "        self.init_parameters()\n",
    "\n",
    "        # loss & optimizer\n",
    "        self.criterion = nn.CrossEntropyLoss()\n",
    "        self.optimizer = torch.optim.Adam(self.parameters(), lr=1e-3)\n",
    "\n",
    "    def init_parameters(self):\n",
    "        # initialize\n",
    "        for para in self.parameters():\n",
    "            # xavier_uniform - 只能初始化weights，不能bias（维度不够，至少2维）\n",
    "            if len(para.size()) >= 2:\n",
    "                torch.nn.init.xavier_uniform(para)\n",
    "            else:\n",
    "                pass\n",
    "\n",
    "    def forward(self, x):\n",
    "        out = F.max_pool2d(F.relu(self.conv1(x)), (2, 2))\n",
    "        out = F.max_pool2d(F.relu(self.conv2(out)), (2, 2))\n",
    "        out = out.view(out.size(0), -1)  # reshape\n",
    "        out = F.relu(self.fc1(out))\n",
    "        out = F.relu(self.fc2(out))\n",
    "        out = F.softmax(self.fc3(out))\n",
    "        return out\n",
    "\n",
    "    def train_model(self, x, y):\n",
    "        self.train()\n",
    "        self.optimizer.zero_grad()\n",
    "        y_pred = self.forward(x)\n",
    "        loss = self.criterion(y_pred, y)\n",
    "        loss.backward()\n",
    "        self.optimizer.step()\n",
    "        return loss\n",
    "\n",
    "    def get_accuracy(self):\n",
    "        self.eval()\n",
    "        self.accuracy = 0.0\n",
    "        for _ in xrange(len(test_loader)):\n",
    "            batch_images, batch_labels = test_loader.__iter__().next()\n",
    "            if GPU_FLAG:\n",
    "                batch_images = Variable(batch_images).cuda()\n",
    "                batch_labels = Variable(batch_labels).cuda()\n",
    "            else:\n",
    "                batch_images = Variable(batch_images)\n",
    "                batch_labels = Variable(batch_labels)\n",
    "            pred = self.forward(batch_images)\n",
    "            self.accuracy += (torch.max(pred, 1)[-1] == batch_labels).float().mean()\n",
    "        return float(self.accuracy / len(test_loader))\n",
    "\n",
    "\n",
    "convNet = ConvNet()\n",
    "if GPU_FLAG:\n",
    "    convNet.cuda()\n",
    "else:\n",
    "    pass\n",
    "print(convNet)"
   ]
  },
  {
   "cell_type": "markdown",
   "metadata": {},
   "source": [
    "训练"
   ]
  },
  {
   "cell_type": "code",
   "execution_count": 6,
   "metadata": {},
   "outputs": [
    {
     "name": "stderr",
     "output_type": "stream",
     "text": [
      "/usr/local/lib/python3.5/dist-packages/ipykernel_launcher.py:46: UserWarning: Implicit dimension choice for softmax has been deprecated. Change the call to include dim=X as an argument.\n"
     ]
    },
    {
     "name": "stdout",
     "output_type": "stream",
     "text": [
      "Epoch 1 / 10, training cost: 0.02870197780430317, accuracy: 0.7386000156402588\n",
      "Epoch 2 / 10, training cost: 0.027701640501618385, accuracy: 0.8445000648498535\n",
      "Epoch 3 / 10, training cost: 0.026608150452375412, accuracy: 0.883899986743927\n",
      "Epoch 4 / 10, training cost: 0.02685076929628849, accuracy: 0.8939999938011169\n",
      "Epoch 5 / 10, training cost: 0.026745686307549477, accuracy: 0.8923999667167664\n",
      "Epoch 6 / 10, training cost: 0.026469416916370392, accuracy: 0.8905999064445496\n",
      "Epoch 7 / 10, training cost: 0.02655244991183281, accuracy: 0.8948999643325806\n",
      "Epoch 8 / 10, training cost: 0.02636571414768696, accuracy: 0.8989999890327454\n",
      "Epoch 9 / 10, training cost: 0.026466432958841324, accuracy: 0.901199996471405\n",
      "Epoch 10 / 10, training cost: 0.026307562366127968, accuracy: 0.9014999270439148\n"
     ]
    }
   ],
   "source": [
    "for i in xrange(1, 1 + EPISODES):\n",
    "    cost = 0.0\n",
    "    for _ in xrange(len(train_loader)):\n",
    "        images, labels = train_loader.__iter__().next()\n",
    "        if GPU_FLAG:\n",
    "            x_data = Variable(images).cuda()\n",
    "            y_data = Variable(labels).cuda()\n",
    "        else:\n",
    "            x_data = Variable(images)\n",
    "            y_data = Variable(labels)\n",
    "        loss = convNet.train_model(x=x_data, y=y_data)\n",
    "        cost += loss\n",
    "        cost /= len(train_loader)\n",
    "    print('Epoch %s / %s, training cost: %s, accuracy: %s' % (i, EPISODES, float(cost), convNet.get_accuracy()))"
   ]
  },
  {
   "cell_type": "code",
   "execution_count": 7,
   "metadata": {},
   "outputs": [
    {
     "name": "stderr",
     "output_type": "stream",
     "text": [
      "/usr/local/lib/python3.5/dist-packages/ipykernel_launcher.py:46: UserWarning: Implicit dimension choice for softmax has been deprecated. Change the call to include dim=X as an argument.\n"
     ]
    },
    {
     "name": "stdout",
     "output_type": "stream",
     "text": [
      "Final test accuracy: %s 0.8991999626159668\n"
     ]
    }
   ],
   "source": [
    "correct = 0\n",
    "for images, labels in test_loader:\n",
    "    if GPU_FLAG:\n",
    "        images = Variable(images.view(-1, 1, 28, 28)).cuda()\n",
    "        labels = labels.cuda()\n",
    "    else:\n",
    "        pass\n",
    "    outputs = convNet(images)\n",
    "    _, predicted = torch.max(outputs.data, 1)\n",
    "    correct += (predicted == labels).float().mean()\n",
    "print('Final test accuracy: %s', float(correct / len(test_loader)))"
   ]
  }
 ],
 "metadata": {
  "kernelspec": {
   "display_name": "Python 3",
   "language": "python",
   "name": "python3"
  },
  "language_info": {
   "codemirror_mode": {
    "name": "ipython",
    "version": 3
   },
   "file_extension": ".py",
   "mimetype": "text/x-python",
   "name": "python",
   "nbconvert_exporter": "python",
   "pygments_lexer": "ipython3",
   "version": "3.5.2"
  }
 },
 "nbformat": 4,
 "nbformat_minor": 1
}
