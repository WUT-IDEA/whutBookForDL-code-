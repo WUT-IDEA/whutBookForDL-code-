{
 "cells": [
  {
   "cell_type": "code",
   "execution_count": 1,
   "metadata": {},
   "outputs": [],
   "source": [
    "%matplotlib inline"
   ]
  },
  {
   "cell_type": "markdown",
   "metadata": {},
   "source": [
    "递归神经网络 - Recurrent Neural Network\n",
    "====\n"
   ]
  },
  {
   "cell_type": "markdown",
   "metadata": {},
   "source": [
    "本节主要参考：\n",
    "http://pytorch.org/tutorials/beginner/nlp/word_embeddings_tutorial.html#sphx-glr-beginner-nlp-word-embeddings-tutorial-py"
   ]
  },
  {
   "cell_type": "code",
   "execution_count": 2,
   "metadata": {},
   "outputs": [],
   "source": [
    "# -*- coding: utf-8 -*-\n",
    "\n",
    "from __future__ import absolute_import\n",
    "from __future__ import division\n",
    "from __future__ import print_function\n",
    "from six.moves import xrange"
   ]
  },
  {
   "cell_type": "code",
   "execution_count": 3,
   "metadata": {
    "scrolled": true
   },
   "outputs": [
    {
     "data": {
      "text/plain": [
       "<torch._C.Generator at 0x7f9b341e0110>"
      ]
     },
     "execution_count": 3,
     "metadata": {},
     "output_type": "execute_result"
    }
   ],
   "source": [
    "import torch\n",
    "import torch.nn as nn\n",
    "from torch.autograd import Variable\n",
    "import torch.nn.functional as F\n",
    "\n",
    "torch.manual_seed(1)"
   ]
  },
  {
   "cell_type": "markdown",
   "metadata": {},
   "source": [
    "1.N-Gram Language Modeling <br>\n",
    "probability{ x_(i-N),x_(i-N+1),x_(i-N+2),...,x_(i-1) -> x_(i) }"
   ]
  },
  {
   "cell_type": "markdown",
   "metadata": {},
   "source": [
    "based on word embedding"
   ]
  },
  {
   "cell_type": "code",
   "execution_count": 4,
   "metadata": {},
   "outputs": [],
   "source": [
    "# hyper-parameter\n",
    "training_epoch = 10000\n",
    "learning_rate = 1e-3\n",
    "CONTEXT_SIZE = 2\n",
    "EMBEDDING_DIM = 10"
   ]
  },
  {
   "cell_type": "code",
   "execution_count": 5,
   "metadata": {},
   "outputs": [],
   "source": [
    "# We will use Shakespeare Sonnet 2\n",
    "test_sentence = \"\"\"\n",
    "Deep learning (also known as deep structured learning or hierarchical learning)\n",
    "is part of a broader family of machine learning methods based on learning data\n",
    "representations, as opposed to task-specific algorithms. Learning can be supervised,\n",
    "semi-supervised or unsupervised. Deep learning models are loosely related to information\n",
    "processing and communication patterns in a biological nervous system, such as neural\n",
    "coding that attempts to define a relationship between various stimuli and associated\n",
    "neuronal responses in the brain. Deep learning architectures such as deep neural\n",
    "networks, deep belief networks and recurrent neural networks have been applied to\n",
    "fields including computer vision, speech recognition, natural language processing,\n",
    "audio recognition, social network filtering, machine translation, bioinformatics\n",
    "and drug design, where they have produced results comparable to and in some\n",
    "cases superior to human experts.\n",
    "\"\"\".split()\n",
    "\n",
    "vocab = set(test_sentence)\n",
    "word2ind = {word: i for i, word in enumerate(vocab)}\n",
    "ind2word = dict(zip(word2ind.values(), word2ind.keys()))\n",
    "\n",
    "data_num = len(test_sentence) - CONTEXT_SIZE\n",
    "x = [[word2ind[test_sentence[i]], word2ind[test_sentence[i + 1]]]\n",
    "          for i in range(len(test_sentence) - CONTEXT_SIZE)]\n",
    "y = [[word2ind[test_sentence[i]]] for i in range(CONTEXT_SIZE, len(test_sentence))]"
   ]
  },
  {
   "cell_type": "code",
   "execution_count": 6,
   "metadata": {
    "scrolled": true
   },
   "outputs": [
    {
     "name": "stdout",
     "output_type": "stream",
     "text": [
      "CUDA available? True\n",
      "NGramLanguageModeler(\n",
      "  (embeddings): Embedding(95, 10)\n",
      "  (BiLSTM): LSTM(10, 32, num_layers=2, batch_first=True, bidirectional=True)\n",
      "  (fc): Linear(in_features=128, out_features=95, bias=True)\n",
      ")\n"
     ]
    }
   ],
   "source": [
    "class NGramLanguageModeler(nn.Module):\n",
    "    def __init__(self, vocab_size, embedding_dim, context_size):\n",
    "        super(NGramLanguageModeler, self).__init__()\n",
    "        self.embeddings = nn.Embedding(vocab_size, embedding_dim)\n",
    "\n",
    "        self.hidden_size = 32\n",
    "        self.num_layers = 2\n",
    "        self.BiLSTM = nn.LSTM(input_size=embedding_dim, hidden_size=self.hidden_size,\n",
    "                              num_layers=self.num_layers, batch_first=True, bidirectional=True)\n",
    "\n",
    "        self.fc = nn.Linear(context_size * self.hidden_size * 2, vocab_size)\n",
    "\n",
    "    def forward(self, x):\n",
    "        embeds = self.embeddings(x)\n",
    "        out, _ = self.BiLSTM(embeds)\n",
    "        out = out.contiguous().view(embeds.size(0), -1)\n",
    "        out = self.fc(out)\n",
    "        return out\n",
    "\n",
    "# 查看Pytorch是否支持GPU\n",
    "GPU_FLAG = torch.cuda.is_available()\n",
    "print('CUDA available?', GPU_FLAG)\n",
    "\n",
    "model = NGramLanguageModeler(len(vocab), EMBEDDING_DIM, CONTEXT_SIZE)\n",
    "if GPU_FLAG:\n",
    "    model.cuda()\n",
    "else:\n",
    "    pass\n",
    "print(model)\n",
    "criterion = nn.CrossEntropyLoss()\n",
    "optimizer = torch.optim.Adagrad(model.parameters(), lr=learning_rate)"
   ]
  },
  {
   "cell_type": "code",
   "execution_count": 7,
   "metadata": {},
   "outputs": [
    {
     "name": "stdout",
     "output_type": "stream",
     "text": [
      "Epoch 1000 / 10000, training cost: 2.837620735168457\n",
      "Epoch 2000 / 10000, training cost: 1.5012502670288086\n",
      "Epoch 3000 / 10000, training cost: 0.8125035762786865\n",
      "Epoch 4000 / 10000, training cost: 0.486420214176178\n",
      "Epoch 5000 / 10000, training cost: 0.32615959644317627\n",
      "Epoch 6000 / 10000, training cost: 0.24045604467391968\n",
      "Epoch 7000 / 10000, training cost: 0.1903339922428131\n",
      "Epoch 8000 / 10000, training cost: 0.15868350863456726\n",
      "Epoch 9000 / 10000, training cost: 0.1373818963766098\n",
      "Epoch 10000 / 10000, training cost: 0.12229006737470627\n"
     ]
    }
   ],
   "source": [
    "if GPU_FLAG:\n",
    "    x = Variable(torch.LongTensor(x)).cuda()\n",
    "    y = Variable(torch.LongTensor(y)).cuda()\n",
    "else:\n",
    "    x = Variable(torch.LongTensor(x))\n",
    "    y = Variable(torch.LongTensor(y))\n",
    "\n",
    "for epoch in range(1, 1 + training_epoch):\n",
    "    model.zero_grad()\n",
    "    y_ = model(x)\n",
    "    loss = criterion(y_, y.view(-1))\n",
    "    loss.backward()\n",
    "    optimizer.step()\n",
    "\n",
    "    # 因为cost value不太明显，显示cost之和\n",
    "    if epoch % 1000 == 0:\n",
    "        print('Epoch %s / %s, training cost: %s' % (epoch, training_epoch, float(loss)))\n"
   ]
  },
  {
   "cell_type": "code",
   "execution_count": 8,
   "metadata": {},
   "outputs": [],
   "source": [
    "# generating text\n",
    "model.eval()\n",
    "context_idxs = [word2ind['Deep'], word2ind['Learning']]\n",
    "logue = context_idxs\n",
    "for i in xrange(data_num):\n",
    "    if GPU_FLAG:\n",
    "        context_var = Variable(torch.LongTensor(context_idxs).view(1, -1)).cuda().cuda()\n",
    "        context_idxs = model(context_var).topk(1)[1].cpu().numpy()[0, 0]\n",
    "    else:\n",
    "        context_var = Variable(torch.LongTensor(context_idxs).view(1, -1)).cuda()\n",
    "        context_idxs = model(context_var).topk(1)[1].numpy()[0, 0]\n",
    "\n",
    "    logue.append(context_idxs)\n",
    "    context_idxs = logue[-2:]\n",
    "\n",
    "pred_sentence = ' '.join([ind2word[i] for i in logue])"
   ]
  },
  {
   "cell_type": "code",
   "execution_count": 9,
   "metadata": {},
   "outputs": [
    {
     "name": "stdout",
     "output_type": "stream",
     "text": [
      "Distance between these two sentences is 583\n",
      "\u001b[1;31;40m Deep learning (also known as deep structured learning or hierarchical learning) is part of a broader family of machine learning methods based on learning data representations, as opposed to task-specific algorithms. Learning can be supervised, semi-supervised or unsupervised. Deep learning models are loosely related to information processing and communication patterns in a biological nervous system, such as neural coding that attempts to define a relationship between various stimuli and associated neuronal responses in the brain. Deep learning architectures such as deep neural networks, deep belief networks and recurrent neural networks have been applied to fields including computer vision, speech recognition, natural language processing, audio recognition, social network filtering, machine translation, bioinformatics and drug design, where they have produced results comparable to and in some cases superior to human experts. \u001b[0m\n",
      "Deep Learning models are loosely related to information processing and communication patterns in a biological nervous system, such as deep structured learning or hierarchical learning) is part of a broader family of machine learning methods based on learning data representations, as opposed to task-specific algorithms. Learning can be supervised, semi-supervised or unsupervised. Deep learning (also known as deep structured learning or hierarchical learning) is part of a broader family of machine learning methods based on learning data representations, as opposed to task-specific algorithms. Learning can be supervised, semi-supervised or unsupervised. Deep learning (also known as deep structured learning or hierarchical learning) is part of a broader family of machine learning methods based on learning data representations, as opposed to task-specific algorithms. Learning can be supervised, semi-supervised or unsupervised. Deep\n"
     ]
    }
   ],
   "source": [
    "import editdistance\n",
    "\n",
    "print('Distance between these two sentences is %s' % (editdistance.eval(' '.join(test_sentence), pred_sentence)))\n",
    "print(\"\\033[1;31;40m %s \\033[0m\" % (' '.join(test_sentence)))\n",
    "print(pred_sentence)"
   ]
  }
 ],
 "metadata": {
  "kernelspec": {
   "display_name": "Python 3",
   "language": "python",
   "name": "python3"
  },
  "language_info": {
   "codemirror_mode": {
    "name": "ipython",
    "version": 3
   },
   "file_extension": ".py",
   "mimetype": "text/x-python",
   "name": "python",
   "nbconvert_exporter": "python",
   "pygments_lexer": "ipython3",
   "version": "3.5.2"
  }
 },
 "nbformat": 4,
 "nbformat_minor": 1
}
