{
 "cells": [
  {
   "cell_type": "markdown",
   "metadata": {},
   "source": [
    "# 指定GPU"
   ]
  },
  {
   "cell_type": "markdown",
   "metadata": {},
   "source": [
    "## 方式1：指定若干个GPU合并为一个GPU使用\n",
    "这种方式与多GPU加速不一样，不能加速模型训练，只是为了“扩张”环境的显存。<br>\n",
    "``\n",
    "import os\n",
    "os.environ[\"CUDA_VISIBLE_DEVICES\"]='1,2'\n",
    "``<br>\n",
    "或者在终端中运行<br>\n",
    "`CUDA_VISIBLE_DEVICES=2 python script.py`"
   ]
  },
  {
   "cell_type": "markdown",
   "metadata": {},
   "source": [
    "## 方式2：指定网络在不同的GPU中\n",
    "该方式能够指定不同变量在不同的GPU中，同样地不能加速模型训练，只是为了“扩张”环境的显存。与方式一不同的是，该方式能够对每个变量指定GPU位置。<br>\n",
    "`tf.device('/GPU:1')`"
   ]
  },
  {
   "cell_type": "markdown",
   "metadata": {},
   "source": [
    "# 显存控制"
   ]
  },
  {
   "cell_type": "markdown",
   "metadata": {},
   "source": [
    "## 方式1：GPU 显存自动调用\n",
    "程序根据自身需要自动申请显存空间<br>\n",
    "``\n",
    "import tensorflow as tf\n",
    "import keras.backend.tensorflow_backend as KTB\n",
    "config = tf.ConfigProto()\n",
    "config.gpu_options.allow_growth = True\n",
    "session = tf.Session(config=config)\n",
    "KTB.set_session(session)\n",
    "``"
   ]
  },
  {
   "cell_type": "markdown",
   "metadata": {},
   "source": [
    "## 方式2：设置程序最大GPU 显存空间\n",
    "程序只能占据部分GPU显存空间<br>\n",
    "``\n",
    "import tensorflow as tf\n",
    "import keras.backend.tensorflow_backend as KTB\n",
    "config = tf.ConfigProto()\n",
    "config.gpu_options.per_process_gpu_memory_fraction = 0.5\n",
    "session = tf.Session(config=config)\n",
    "KTB.set_session(session)\n",
    "``"
   ]
  },
  {
   "cell_type": "markdown",
   "metadata": {},
   "source": [
    "# 多GPU控制"
   ]
  },
  {
   "cell_type": "markdown",
   "metadata": {},
   "source": [
    "最高支持在8片GPU上并行，需要建立一个原始的模型model，然后生成multi_gpu_model，compile后运行<br>\n",
    "``\n",
    "from keras.utils.multi_gpu_utils import multi_gpu_model\n",
    "mgpu_model = multi_gpu_model(model, gpus=gpu_num)\n",
    "mgpu_model.compile(...)\n",
    "``\n",
    "<br>\n",
    "该脚本在服务器上运行，终端无法执行ipynb文件。因此，只能讲结果写入log.out中。"
   ]
  },
  {
   "cell_type": "code",
   "execution_count": null,
   "metadata": {},
   "outputs": [],
   "source": [
    "# -*- coding: utf-8 -*-\n",
    "\n",
    "from __future__ import absolute_import\n",
    "from __future__ import division\n",
    "from __future__ import print_function\n",
    "from six.moves import xrange\n",
    "\n",
    "import keras\n",
    "from keras.datasets import mnist\n",
    "\n",
    "(x_train, y_train), (x_test, y_test) = mnist.load_data()\n",
    "\n",
    "print('训练集大小: x =', x_train.shape, ', y =', y_train.shape)\n",
    "print('测试集大小: x =', x_test.shape, ', y =', y_test.shape)\n",
    "\n",
    "x_train = x_train.reshape(x_train.shape[0], -1).astype('float32') / 255\n",
    "x_test = x_test.reshape(x_test.shape[0], -1).astype('float32') / 255\n",
    "\n",
    "# hyper-parameter\n",
    "image_size = x_train.shape[-1]\n",
    "training_epoch = 50\n",
    "num_classes = 10\n",
    "batch_size = 1000\n",
    "gpu_num = 4\n",
    "\n",
    "# convert class vectors to binary class matrices\n",
    "y_train = keras.utils.to_categorical(y_train, num_classes)\n",
    "y_test = keras.utils.to_categorical(y_test, num_classes)\n",
    "\n",
    "print('training data: x =', x_train.shape, ', y =', y_train.shape)\n",
    "print('test data: x =', x_test.shape, ', y =', y_test.shape)\n",
    "\n",
    "from keras.models import Model\n",
    "from keras.layers import *\n",
    "from keras.optimizers import *\n",
    "from keras.activations import *\n",
    "\n",
    "input_tensor = Input(shape=(image_size,))\n",
    "fc1 = Dense(units=128, activation=relu)(input_tensor)\n",
    "output_tensor = Dense(units=num_classes, activation=softmax)(fc1)\n",
    "model = Model(inputs=input_tensor, outputs=output_tensor)\n",
    "model.summary()\n",
    "\n",
    "from keras.utils.multi_gpu_utils import multi_gpu_model\n",
    "\n",
    "# 最高支持在8片GPU上并行\n",
    "mgpu_model = multi_gpu_model(model, gpus=gpu_num)\n",
    "mgpu_model.compile(loss='categorical_crossentropy',\n",
    "                   optimizer=Adam(1e-3),\n",
    "                   metrics=['accuracy'])\n",
    "\n",
    "mgpu_model.fit(x=x_train, y=y_train, batch_size=batch_size, epochs=50)\n",
    "\n",
    "result = mgpu_model.evaluate(x=x_test, y=y_test)\n",
    "print(result)"
   ]
  }
 ],
 "metadata": {
  "kernelspec": {
   "display_name": "Python 3",
   "language": "python",
   "name": "python3"
  },
  "language_info": {
   "codemirror_mode": {
    "name": "ipython",
    "version": 3
   },
   "file_extension": ".py",
   "mimetype": "text/x-python",
   "name": "python",
   "nbconvert_exporter": "python",
   "pygments_lexer": "ipython3",
   "version": "3.5.2"
  }
 },
 "nbformat": 4,
 "nbformat_minor": 2
}
