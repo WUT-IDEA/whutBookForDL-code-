{
 "cells": [
  {
   "cell_type": "markdown",
   "metadata": {},
   "source": [
    "# Begining in Keras\n",
    "\n",
    "Keras 2.2.0"
   ]
  },
  {
   "cell_type": "markdown",
   "metadata": {},
   "source": [
    "Keras是基于TensorFlow(Google)/Theano(Montréal，已停止更新)/CNTK(Microsoft)为后台实现的第三方库，具有入门简单，构建速度快，代码简介等特点。现已被正式纳入TensorFlow。<br>\n",
    "Keras无需使用这三个库中Tensor变量，可直接使用Python和Numpy元素作为网络的参数。<br>"
   ]
  },
  {
   "cell_type": "markdown",
   "metadata": {},
   "source": [
    "## Keras创建模型方法\n",
    "### 1.Keras的序贯(Sequential)模型\n",
    "\n",
    "推荐作为：定义网络的复杂内部"
   ]
  },
  {
   "cell_type": "code",
   "execution_count": null,
   "metadata": {},
   "outputs": [],
   "source": [
    "from keras.datasets import mnist\n",
    "\n",
    "(x_train, y_train), (x_test, y_test) = mnist.load_data()\n",
    "\n",
    "from keras.models import Sequential\n",
    "from keras.layers import Dense\n",
    "\n",
    "model = Sequential()\n",
    "model.add(Dense(units=64, activation='relu', input_dim=100))\n",
    "model.add(Dense(units=10, activation='softmax'))\n",
    "\n",
    "# ----------\n",
    "# compile method 1\n",
    "model.compile(loss='categorical_crossentropy',\n",
    "              optimizer='sgd',\n",
    "              metrics=['accuracy'])\n",
    "# compile method 2\n",
    "# model.compile(loss=keras.losses.categorical_crossentropy,\n",
    "#               optimizer=keras.optimizers.SGD(lr=0.01, momentum=0.9, nesterov=True))\n",
    "\n",
    "# ----------\n",
    "# train on all data\n",
    "model.fit(x_train, y_train, epochs=5, batch_size=32)\n",
    "\n",
    "# train on batch data\n",
    "model.train_on_batch(x_batch, y_batch)\n",
    "\n",
    "# train on generator\n",
    "model.fit_generator(generator(),\n",
    "                    batch_size=128,\n",
    "                    epochs=1000,\n",
    "                    verbose=1)\n",
    "\n",
    "# ----------\n",
    "# evaluate model's performance\n",
    "loss_and_metrics = model.evaluate(x_test, y_test, batch_size=128)\n",
    "\n",
    "# predict new(test) data\n",
    "model.predict(x_test, batch_size=128)"
   ]
  },
  {
   "cell_type": "markdown",
   "metadata": {},
   "source": [
    "### 2.Keras的函数式(Functional)模型\n",
    "\n",
    "推荐作为：定义复杂网络/多输入输出"
   ]
  },
  {
   "cell_type": "code",
   "execution_count": null,
   "metadata": {},
   "outputs": [],
   "source": [
    "from keras.models import Sequential\n",
    "from keras.layers import Input, Dense\n",
    "out\n",
    "inputs = Input(shape=(100,))\n",
    "out = Dense(units=64, activation='relu', input_dim=100)(inputs)\n",
    "out = Dense(units=10, activation='softmax')(inputs)\n",
    "model = Model(inputs=inputs, outputs=out)\n",
    "\n",
    "# ----------\n",
    "# compile method 1\n",
    "model.compile(loss='categorical_crossentropy',\n",
    "              optimizer='sgd',\n",
    "              metrics=['accuracy'])"
   ]
  },
  {
   "cell_type": "markdown",
   "metadata": {},
   "source": [
    "Keras后台可以选用TensorFlow（推荐）, Theano（不推荐）, CNTK（暂时不推荐）"
   ]
  }
 ],
 "metadata": {
  "kernelspec": {
   "display_name": "Python 3",
   "language": "python",
   "name": "python3"
  },
  "language_info": {
   "codemirror_mode": {
    "name": "ipython",
    "version": 3
   },
   "file_extension": ".py",
   "mimetype": "text/x-python",
   "name": "python",
   "nbconvert_exporter": "python",
   "pygments_lexer": "ipython3",
   "version": "3.5.2"
  }
 },
 "nbformat": 4,
 "nbformat_minor": 1
}
