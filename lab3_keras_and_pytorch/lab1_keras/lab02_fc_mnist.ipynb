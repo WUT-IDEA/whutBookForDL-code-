{
 "cells": [
  {
   "cell_type": "code",
   "execution_count": 1,
   "metadata": {},
   "outputs": [],
   "source": [
    "%matplotlib inline"
   ]
  },
  {
   "cell_type": "markdown",
   "metadata": {},
   "source": [
    "# Keras 全相连网络(Full Connected Network)"
   ]
  },
  {
   "cell_type": "code",
   "execution_count": 2,
   "metadata": {},
   "outputs": [],
   "source": [
    "# -*- coding: utf-8 -*-\n",
    "\n",
    "from __future__ import absolute_import\n",
    "from __future__ import division\n",
    "from __future__ import print_function\n",
    "from six.moves import xrange"
   ]
  },
  {
   "cell_type": "markdown",
   "metadata": {},
   "source": [
    "导入MNIST数据集"
   ]
  },
  {
   "cell_type": "code",
   "execution_count": 3,
   "metadata": {},
   "outputs": [
    {
     "name": "stderr",
     "output_type": "stream",
     "text": [
      "/usr/local/lib/python3.5/dist-packages/h5py/__init__.py:36: FutureWarning: Conversion of the second argument of issubdtype from `float` to `np.floating` is deprecated. In future, it will be treated as `np.float64 == np.dtype(float).type`.\n",
      "  from ._conv import register_converters as _register_converters\n",
      "Using TensorFlow backend.\n"
     ]
    },
    {
     "name": "stdout",
     "output_type": "stream",
     "text": [
      "训练集大小: x = (60000, 28, 28) , y = (60000,)\n",
      "测试集大小: x = (10000, 28, 28) , y = (10000,)\n"
     ]
    }
   ],
   "source": [
    "from keras.datasets import mnist\n",
    "\n",
    "(x_train, y_train), (x_test, y_test) = mnist.load_data()\n",
    "\n",
    "print('训练集大小: x =', x_train.shape, ', y =', y_train.shape)\n",
    "print('测试集大小: x =', x_test.shape, ', y =', y_test.shape)"
   ]
  },
  {
   "cell_type": "markdown",
   "metadata": {},
   "source": [
    "数据展示"
   ]
  },
  {
   "cell_type": "code",
   "execution_count": 4,
   "metadata": {
    "scrolled": true
   },
   "outputs": [
    {
     "data": {
      "image/png": "[encoded data removed]",
      "text/plain": [
       "<PIL.Image.Image image mode=L size=28x28 at 0x7F69929681D0>"
      ]
     },
     "execution_count": 4,
     "metadata": {},
     "output_type": "execute_result"
    }
   ],
   "source": [
    "from PIL import Image\n",
    "\n",
    "Image.fromarray(x_train[0])"
   ]
  },
  {
   "cell_type": "code",
   "execution_count": 5,
   "metadata": {},
   "outputs": [
    {
     "data": {
      "text/plain": [
       "5"
      ]
     },
     "execution_count": 5,
     "metadata": {},
     "output_type": "execute_result"
    }
   ],
   "source": [
    "y_train[0]"
   ]
  },
  {
   "cell_type": "markdown",
   "metadata": {},
   "source": [
    "reshape/flatten: image from 2D (28*28) to 1D (784)"
   ]
  },
  {
   "cell_type": "code",
   "execution_count": 6,
   "metadata": {},
   "outputs": [
    {
     "name": "stdout",
     "output_type": "stream",
     "text": [
      "training data: x = (60000, 784) , y = (60000, 10)\n",
      "test data: x = (10000, 784) , y = (10000, 10)\n"
     ]
    }
   ],
   "source": [
    "import keras\n",
    "\n",
    "# hyper-parameter\n",
    "training_epoch=50\n",
    "num_classes = 10\n",
    "learning_rate=1e-3\n",
    "\n",
    "x_train = x_train.reshape(x_train.shape[0], -1).astype('float32') / 255\n",
    "x_test = x_test.reshape(x_test.shape[0], -1).astype('float32') / 255\n",
    "\n",
    "# convert class vectors to binary class matrices\n",
    "y_train = keras.utils.to_categorical(y_train, num_classes)\n",
    "y_test = keras.utils.to_categorical(y_test, num_classes)\n",
    "\n",
    "print('training data: x =', x_train.shape, ', y =', y_train.shape)\n",
    "print('test data: x =', x_test.shape, ', y =', y_test.shape)"
   ]
  },
  {
   "cell_type": "markdown",
   "metadata": {},
   "source": [
    "one-hot encoding"
   ]
  },
  {
   "cell_type": "code",
   "execution_count": 7,
   "metadata": {},
   "outputs": [
    {
     "data": {
      "text/plain": [
       "(784,)"
      ]
     },
     "execution_count": 7,
     "metadata": {},
     "output_type": "execute_result"
    }
   ],
   "source": [
    "x_train[0].shape"
   ]
  },
  {
   "cell_type": "code",
   "execution_count": 8,
   "metadata": {},
   "outputs": [
    {
     "data": {
      "text/plain": [
       "array([0., 0., 0., 0., 0., 1., 0., 0., 0., 0.], dtype=float32)"
      ]
     },
     "execution_count": 8,
     "metadata": {},
     "output_type": "execute_result"
    }
   ],
   "source": [
    "y_train[0]"
   ]
  },
  {
   "cell_type": "markdown",
   "metadata": {},
   "source": [
    "## 正则化实现(regularization)\n",
    "\n",
    "### 正则化(l1, l2, l1_l2)\n",
    "``\n",
    "from keras import regularizers\n",
    "from keras.layers import Dense\n",
    "``<br>\n",
    "``\n",
    "Dense(kernel_regularizer=regularizers.l2(1e-3),\n",
    "      bias_regularizer=regularizers.l2(1e-3))\n",
    "``\n",
    "\n",
    "### 自定义正则化\n",
    "``\n",
    "from keras import backend as K\n",
    "def l1_reg(weight_matrix):\n",
    "    return 0.01 * K.sum(K.abs(weight_matrix))\n",
    "Dense(64, input_dim=64, kernel_regularizer=l1_reg)\n",
    "``"
   ]
  },
  {
   "cell_type": "markdown",
   "metadata": {},
   "source": [
    "## Batch Norm\n",
    "``\n",
    "from keras.layers import BatchNormalization\n",
    "BatchNormalization()(input_tensor)\n",
    "``"
   ]
  },
  {
   "cell_type": "code",
   "execution_count": 9,
   "metadata": {},
   "outputs": [
    {
     "name": "stdout",
     "output_type": "stream",
     "text": [
      "_________________________________________________________________\n",
      "Layer (type)                 Output Shape              Param #   \n",
      "=================================================================\n",
      "dense_1 (Dense)              (None, 512)               401920    \n",
      "_________________________________________________________________\n",
      "dropout_1 (Dropout)          (None, 512)               0         \n",
      "_________________________________________________________________\n",
      "dense_2 (Dense)              (None, 128)               65664     \n",
      "_________________________________________________________________\n",
      "dropout_2 (Dropout)          (None, 128)               0         \n",
      "_________________________________________________________________\n",
      "dense_3 (Dense)              (None, 10)                1290      \n",
      "=================================================================\n",
      "Total params: 468,874\n",
      "Trainable params: 468,874\n",
      "Non-trainable params: 0\n",
      "_________________________________________________________________\n"
     ]
    }
   ],
   "source": [
    "image_size = x_train.shape[-1]\n",
    "\n",
    "from keras.models import Sequential\n",
    "from keras.layers import Dense, Dropout\n",
    "\n",
    "model = Sequential()\n",
    "model.add(Dense(512, activation='relu', input_shape=(image_size,)))\n",
    "model.add(Dropout(0.2))\n",
    "model.add(Dense(128, activation='relu'))\n",
    "model.add(Dropout(0.2))\n",
    "model.add(Dense(10, activation='softmax'))\n",
    "\n",
    "model.summary()"
   ]
  },
  {
   "cell_type": "code",
   "execution_count": 10,
   "metadata": {},
   "outputs": [],
   "source": [
    "from keras.optimizers import *\n",
    "\n",
    "model.compile(loss='categorical_crossentropy',\n",
    "              optimizer=Adam(learning_rate),\n",
    "              metrics=['accuracy'])"
   ]
  },
  {
   "cell_type": "markdown",
   "metadata": {},
   "source": [
    "训连 training"
   ]
  },
  {
   "cell_type": "markdown",
   "metadata": {},
   "source": [
    "`model.fit`函数接口\n",
    "```\n",
    "fit(self, x, y, batch_size=32, epochs=10, verbose=1, callbacks=None,\n",
    "            validation_split=0., validation_data=None, shuffle=True,\n",
    "            class_weight=None, sample_weight=None, initial_epoch=0, **kwargs)\n",
    "```\n",
    "其中`x,y`表示全部数据集；callbacks是高级控制接口；`verbose`为1表示输出每一次batch的训练结果，为0表示不做任何输出；`validation_split`在0~1，是将训练集按照一定比例划分为验证集；`validation_data`是验证集，训练时加入验证集有助有模型的训练过程，会使得模型着重学习验证集，可能会导致模型性能突发提升；`initial_epoch`是模型的出事训练周期数，这对于一些自适应优化器和加载模型参数非常重要。"
   ]
  },
  {
   "cell_type": "code",
   "execution_count": 11,
   "metadata": {
    "scrolled": true
   },
   "outputs": [
    {
     "name": "stdout",
     "output_type": "stream",
     "text": [
      "Epoch 1/50\n",
      "60000/60000 [==============================] - 1s 23us/step - loss: 0.6194 - acc: 0.8158\n",
      "Epoch 2/50\n",
      "60000/60000 [==============================] - 0s 8us/step - loss: 0.2164 - acc: 0.9361\n",
      "Epoch 3/50\n",
      "60000/60000 [==============================] - 0s 8us/step - loss: 0.1537 - acc: 0.9551\n",
      "Epoch 4/50\n",
      "60000/60000 [==============================] - 0s 7us/step - loss: 0.1189 - acc: 0.9654\n",
      "Epoch 5/50\n",
      "60000/60000 [==============================] - 0s 8us/step - loss: 0.0969 - acc: 0.9714\n",
      "Epoch 6/50\n",
      "60000/60000 [==============================] - 0s 8us/step - loss: 0.0806 - acc: 0.9760\n",
      "Epoch 7/50\n",
      "60000/60000 [==============================] - 0s 7us/step - loss: 0.0687 - acc: 0.9795\n",
      "Epoch 8/50\n",
      "60000/60000 [==============================] - 0s 7us/step - loss: 0.0592 - acc: 0.9819\n",
      "Epoch 9/50\n",
      "60000/60000 [==============================] - 0s 7us/step - loss: 0.0509 - acc: 0.9843\n",
      "Epoch 10/50\n",
      "60000/60000 [==============================] - 0s 8us/step - loss: 0.0467 - acc: 0.9855\n",
      "Epoch 11/50\n",
      "60000/60000 [==============================] - 0s 8us/step - loss: 0.0409 - acc: 0.9871\n",
      "Epoch 12/50\n",
      "60000/60000 [==============================] - 0s 7us/step - loss: 0.0361 - acc: 0.9889\n",
      "Epoch 13/50\n",
      "60000/60000 [==============================] - 0s 8us/step - loss: 0.0317 - acc: 0.9902\n",
      "Epoch 14/50\n",
      "60000/60000 [==============================] - 0s 8us/step - loss: 0.0294 - acc: 0.9904\n",
      "Epoch 15/50\n",
      "60000/60000 [==============================] - 0s 8us/step - loss: 0.0252 - acc: 0.9921\n",
      "Epoch 16/50\n",
      "60000/60000 [==============================] - 0s 7us/step - loss: 0.0235 - acc: 0.9930\n",
      "Epoch 17/50\n",
      "60000/60000 [==============================] - 0s 7us/step - loss: 0.0210 - acc: 0.9938\n",
      "Epoch 18/50\n",
      "60000/60000 [==============================] - 0s 8us/step - loss: 0.0192 - acc: 0.9944\n",
      "Epoch 19/50\n",
      "60000/60000 [==============================] - 0s 8us/step - loss: 0.0181 - acc: 0.9941\n",
      "Epoch 20/50\n",
      "60000/60000 [==============================] - 0s 8us/step - loss: 0.0158 - acc: 0.9953\n",
      "Epoch 21/50\n",
      "60000/60000 [==============================] - 0s 8us/step - loss: 0.0141 - acc: 0.9959\n",
      "Epoch 22/50\n",
      "60000/60000 [==============================] - 0s 8us/step - loss: 0.0138 - acc: 0.9957\n",
      "Epoch 23/50\n",
      "60000/60000 [==============================] - 0s 8us/step - loss: 0.0131 - acc: 0.9959\n",
      "Epoch 24/50\n",
      "60000/60000 [==============================] - 0s 8us/step - loss: 0.0125 - acc: 0.9962\n",
      "Epoch 25/50\n",
      "60000/60000 [==============================] - 0s 8us/step - loss: 0.0114 - acc: 0.9969\n",
      "Epoch 26/50\n",
      "60000/60000 [==============================] - 0s 8us/step - loss: 0.0110 - acc: 0.9968\n",
      "Epoch 27/50\n",
      "60000/60000 [==============================] - 0s 8us/step - loss: 0.0106 - acc: 0.9967\n",
      "Epoch 28/50\n",
      "60000/60000 [==============================] - 0s 8us/step - loss: 0.0090 - acc: 0.9972\n",
      "Epoch 29/50\n",
      "60000/60000 [==============================] - 0s 8us/step - loss: 0.0093 - acc: 0.9972\n",
      "Epoch 30/50\n",
      "60000/60000 [==============================] - 0s 8us/step - loss: 0.0089 - acc: 0.9973\n",
      "Epoch 31/50\n",
      "60000/60000 [==============================] - 0s 8us/step - loss: 0.0080 - acc: 0.9977\n",
      "Epoch 32/50\n",
      "60000/60000 [==============================] - 1s 9us/step - loss: 0.0080 - acc: 0.9976\n",
      "Epoch 33/50\n",
      "60000/60000 [==============================] - 0s 8us/step - loss: 0.0070 - acc: 0.9978\n",
      "Epoch 34/50\n",
      "60000/60000 [==============================] - 0s 8us/step - loss: 0.0076 - acc: 0.9975\n",
      "Epoch 35/50\n",
      "60000/60000 [==============================] - 1s 9us/step - loss: 0.0063 - acc: 0.9983\n",
      "Epoch 36/50\n",
      "60000/60000 [==============================] - 1s 10us/step - loss: 0.0074 - acc: 0.9976\n",
      "Epoch 37/50\n",
      "60000/60000 [==============================] - 1s 9us/step - loss: 0.0072 - acc: 0.9977\n",
      "Epoch 38/50\n",
      "60000/60000 [==============================] - 1s 9us/step - loss: 0.0067 - acc: 0.9980\n",
      "Epoch 39/50\n",
      "60000/60000 [==============================] - 1s 9us/step - loss: 0.0064 - acc: 0.9979\n",
      "Epoch 40/50\n",
      "60000/60000 [==============================] - 0s 8us/step - loss: 0.0059 - acc: 0.9981\n",
      "Epoch 41/50\n",
      "60000/60000 [==============================] - 0s 7us/step - loss: 0.0065 - acc: 0.9980\n",
      "Epoch 42/50\n",
      "60000/60000 [==============================] - 0s 7us/step - loss: 0.0058 - acc: 0.9981\n",
      "Epoch 43/50\n",
      "60000/60000 [==============================] - 1s 9us/step - loss: 0.0064 - acc: 0.9980\n",
      "Epoch 44/50\n",
      "60000/60000 [==============================] - 0s 8us/step - loss: 0.0058 - acc: 0.9983\n",
      "Epoch 45/50\n",
      "60000/60000 [==============================] - 0s 8us/step - loss: 0.0056 - acc: 0.9983\n",
      "Epoch 46/50\n",
      "60000/60000 [==============================] - 0s 8us/step - loss: 0.0047 - acc: 0.9987\n",
      "Epoch 47/50\n",
      "60000/60000 [==============================] - 0s 8us/step - loss: 0.0046 - acc: 0.9986\n",
      "Epoch 48/50\n",
      "60000/60000 [==============================] - 0s 8us/step - loss: 0.0044 - acc: 0.9986\n",
      "Epoch 49/50\n",
      "60000/60000 [==============================] - 0s 8us/step - loss: 0.0045 - acc: 0.9988\n",
      "Epoch 50/50\n",
      "60000/60000 [==============================] - 0s 7us/step - loss: 0.0056 - acc: 0.9980\n"
     ]
    },
    {
     "data": {
      "text/plain": [
       "<keras.callbacks.History at 0x7f698f49c9e8>"
      ]
     },
     "execution_count": 11,
     "metadata": {},
     "output_type": "execute_result"
    }
   ],
   "source": [
    "model.fit(x_train, y_train,\n",
    "          batch_size=1000,\n",
    "          epochs=training_epoch,\n",
    "          verbose=1)"
   ]
  },
  {
   "cell_type": "markdown",
   "metadata": {},
   "source": [
    "检验 estimaton"
   ]
  },
  {
   "cell_type": "code",
   "execution_count": 12,
   "metadata": {},
   "outputs": [
    {
     "name": "stdout",
     "output_type": "stream",
     "text": [
      "test loss: 0.07331758836482286, test accuracy: 0.983\n"
     ]
    }
   ],
   "source": [
    "loss, acc = model.evaluate(x_test, y_test, verbose=0)\n",
    "print('test loss: %s, test accuracy: %s' % (loss, acc))"
   ]
  },
  {
   "cell_type": "code",
   "execution_count": 13,
   "metadata": {},
   "outputs": [
    {
     "data": {
      "image/png": "[encoded data removed]",
      "text/plain": [
       "<PIL.Image.Image image mode=I size=28x28 at 0x7F6978013C50>"
      ]
     },
     "execution_count": 13,
     "metadata": {},
     "output_type": "execute_result"
    }
   ],
   "source": [
    "test = x_test[0]\n",
    "Image.fromarray(test.reshape(28, 28), 'I')"
   ]
  },
  {
   "cell_type": "code",
   "execution_count": 14,
   "metadata": {},
   "outputs": [
    {
     "data": {
      "text/plain": [
       "7"
      ]
     },
     "execution_count": 14,
     "metadata": {},
     "output_type": "execute_result"
    }
   ],
   "source": [
    "import numpy as np\n",
    "\n",
    "test = test[None, :]\n",
    "# 模型预测\n",
    "x_predicted = model.predict(test)\n",
    "np.argmax(x_predicted)"
   ]
  }
 ],
 "metadata": {
  "kernelspec": {
   "display_name": "Python 3",
   "language": "python",
   "name": "python3"
  },
  "language_info": {
   "codemirror_mode": {
    "name": "ipython",
    "version": 3
   },
   "file_extension": ".py",
   "mimetype": "text/x-python",
   "name": "python",
   "nbconvert_exporter": "python",
   "pygments_lexer": "ipython3",
   "version": "3.5.2"
  }
 },
 "nbformat": 4,
 "nbformat_minor": 1
}
