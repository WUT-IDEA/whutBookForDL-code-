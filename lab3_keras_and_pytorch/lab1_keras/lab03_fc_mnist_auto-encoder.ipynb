{
 "cells": [
  {
   "cell_type": "code",
   "execution_count": 1,
   "metadata": {},
   "outputs": [],
   "source": [
    "%matplotlib inline"
   ]
  },
  {
   "cell_type": "markdown",
   "metadata": {},
   "source": [
    "# Keras 自动编码器(auto-encoder)"
   ]
  },
  {
   "cell_type": "code",
   "execution_count": 2,
   "metadata": {},
   "outputs": [],
   "source": [
    "# -*- coding: utf-8 -*-\n",
    "\n",
    "from __future__ import absolute_import\n",
    "from __future__ import division\n",
    "from __future__ import print_function\n",
    "from six.moves import xrange\n"
   ]
  },
  {
   "cell_type": "code",
   "execution_count": 3,
   "metadata": {},
   "outputs": [
    {
     "name": "stderr",
     "output_type": "stream",
     "text": [
      "Using TensorFlow backend.\n"
     ]
    },
    {
     "name": "stdout",
     "output_type": "stream",
     "text": [
      "training data: x = (60000, 784)\n"
     ]
    }
   ],
   "source": [
    "import keras\n",
    "from keras.datasets import mnist\n",
    "\n",
    "num_classes = 10\n",
    "\n",
    "(x_train, _), (_, _) = mnist.load_data()\n",
    "x_train = x_train.reshape(x_train.shape[0], -1).astype('float32') / 255\n",
    "\n",
    "print('training data: x =', x_train.shape)\n"
   ]
  },
  {
   "cell_type": "code",
   "execution_count": 4,
   "metadata": {},
   "outputs": [
    {
     "name": "stdout",
     "output_type": "stream",
     "text": [
      "_________________________________________________________________\n",
      "Layer (type)                 Output Shape              Param #   \n",
      "=================================================================\n",
      "input_1 (InputLayer)         (None, 784)               0         \n",
      "_________________________________________________________________\n",
      "encoder (Sequential)         (None, 5)                 234501    \n",
      "_________________________________________________________________\n",
      "decoder (Sequential)         (None, 784)               235280    \n",
      "=================================================================\n",
      "Total params: 469,781\n",
      "Trainable params: 469,781\n",
      "Non-trainable params: 0\n",
      "_________________________________________________________________\n"
     ]
    }
   ],
   "source": [
    "# hyper-parameter\n",
    "training_epoch = 100\n",
    "learning_rate = 1e-3\n",
    "batch_size = 100\n",
    "image_size = x_train.shape[-1]\n",
    "\n",
    "from keras.models import Model, Sequential\n",
    "from keras.layers import Input, Dense, Dropout\n",
    "\n",
    "img_input = Input(shape=(image_size,))\n",
    "\n",
    "# # method 1: use MODEL API\n",
    "# encoder = Dense(256, activation='relu')(img_input)\n",
    "# encoder = Dropout(0.2)(encoder)\n",
    "# encoder = Dense(128, activation='relu')(encoder)\n",
    "# encoder = Dropout(0.2)(encoder)\n",
    "# encoder = Dense(5, activation='relu')(encoder)\n",
    "#\n",
    "# decoder = Dense(128, activation='relu')(encoder)\n",
    "# decoder = Dropout(0.2)(decoder)\n",
    "# decoder = Dense(256, activation='relu')(decoder)\n",
    "# decoder = Dropout(0.2)(decoder)\n",
    "# decoder = Dense(image_size, activation='sigmoid')(decoder)\n",
    "#\n",
    "# img_output = decoder\n",
    "\n",
    "\n",
    "# method 2: use FUNCTION API\n",
    "encoder = Sequential(name='encoder')\n",
    "encoder.add(Dense(256, activation='relu', input_shape=(image_size,)))\n",
    "encoder.add(Dropout(0.2))\n",
    "encoder.add(Dense(128, activation='relu'))\n",
    "encoder.add(Dropout(0.2))\n",
    "encoder.add(Dense(5, activation='relu'))\n",
    "\n",
    "decoder = Sequential(name='decoder')\n",
    "decoder.add(Dense(128, activation='relu', input_shape=(5,)))\n",
    "decoder.add(Dropout(0.2))\n",
    "decoder.add(Dense(256, activation='relu'))\n",
    "decoder.add(Dropout(0.2))\n",
    "decoder.add(Dense(image_size, activation='sigmoid'))\n",
    "\n",
    "inner = encoder(img_input)\n",
    "inner = decoder(inner)\n",
    "\n",
    "img_output = inner\n",
    "\n",
    "model = Model(inputs=img_input, outputs=img_output)\n",
    "model.summary()\n",
    "\n",
    "model.compile(optimizer=keras.optimizers.Adam(),\n",
    "              loss=keras.losses.MSE)\n"
   ]
  },
  {
   "cell_type": "code",
   "execution_count": 5,
   "metadata": {},
   "outputs": [
    {
     "data": {
      "text/plain": [
       "<matplotlib.image.AxesImage at 0x7eff639290d0>"
      ]
     },
     "execution_count": 5,
     "metadata": {},
     "output_type": "execute_result"
    },
    {
     "data": {
      "image/png": "[encoded data removed]",
      "text/plain": [
       "<matplotlib.figure.Figure at 0x7eff63e28910>"
      ]
     },
     "metadata": {},
     "output_type": "display_data"
    }
   ],
   "source": [
    "import numpy as np\n",
    "import matplotlib.pylab as plt\n",
    "from PIL import Image\n",
    "\n",
    "# plot original\n",
    "original_image = np.reshape(a=x_train[0], newshape=(28, 28))\n",
    "plt.imshow(original_image * 255)\n"
   ]
  },
  {
   "cell_type": "code",
   "execution_count": 6,
   "metadata": {},
   "outputs": [
    {
     "name": "stdout",
     "output_type": "stream",
     "text": [
      "Training epoch 10 / 100 ...\n",
      "Training epoch 20 / 100 ...\n",
      "Training epoch 30 / 100 ...\n",
      "Training epoch 40 / 100 ...\n",
      "Training epoch 50 / 100 ...\n",
      "Training epoch 60 / 100 ...\n",
      "Training epoch 70 / 100 ...\n",
      "Training epoch 80 / 100 ...\n",
      "Training epoch 90 / 100 ...\n",
      "Training epoch 100 / 100 ...\n"
     ]
    },
    {
     "data": {
      "text/plain": [
       "<matplotlib.image.AxesImage at 0x7eff612c7ed0>"
      ]
     },
     "execution_count": 6,
     "metadata": {},
     "output_type": "execute_result"
    },
    {
     "data": {
      "image/png": "[encoded data removed]",
      "text/plain": [
       "<matplotlib.figure.Figure at 0x7eff639b2d50>"
      ]
     },
     "metadata": {},
     "output_type": "display_data"
    }
   ],
   "source": [
    "# visualization\n",
    "img = original_image\n",
    "blank = np.ones(shape=(28, 1))\n",
    "img = np.concatenate((img, blank), axis=-1)\n",
    "\n",
    "iteration_per_epoch = 10\n",
    "for i in xrange(1, 1 + training_epoch / iteration_per_epoch):\n",
    "    print('Training epoch %s / %s ...' % (i * iteration_per_epoch, training_epoch))\n",
    "    model.fit(x=x_train, y=x_train,\n",
    "              epochs=iteration_per_epoch,\n",
    "              batch_size=500,\n",
    "              verbose=0)\n",
    "\n",
    "    img_pred = model.predict(x_train[:1])\n",
    "    img = np.concatenate((img, blank, np.reshape(a=img_pred, newshape=(28, 28))), axis=-1)\n",
    "plt.imshow(img * 255)\n"
   ]
  },
  {
   "cell_type": "code",
   "execution_count": 7,
   "metadata": {},
   "outputs": [
    {
     "data": {
      "image/png": "[encoded data removed]",
      "text/plain": [
       "<PIL.Image.Image image mode=L size=319x28 at 0x7EFF94A76190>"
      ]
     },
     "execution_count": 7,
     "metadata": {},
     "output_type": "execute_result"
    }
   ],
   "source": [
    "Image.fromarray(img * 255).convert('L')\n"
   ]
  }
 ],
 "metadata": {
  "kernelspec": {
   "display_name": "Python 3",
   "language": "python",
   "name": "python3"
  },
  "language_info": {
   "codemirror_mode": {
    "name": "ipython",
    "version": 3
   },
   "file_extension": ".py",
   "mimetype": "text/x-python",
   "name": "python",
   "nbconvert_exporter": "python",
   "pygments_lexer": "ipython3",
   "version": "3.5.2"
  }
 },
 "nbformat": 4,
 "nbformat_minor": 1
}
