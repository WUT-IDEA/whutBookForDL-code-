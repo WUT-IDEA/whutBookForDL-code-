{
 "cells": [
  {
   "cell_type": "markdown",
   "metadata": {},
   "source": [
    "# Keras Self-Define自定义"
   ]
  },
  {
   "cell_type": "markdown",
   "metadata": {},
   "source": [
    "## 自定义loss函数\n",
    "一定要写成`y_true, y_pred`"
   ]
  },
  {
   "cell_type": "code",
   "execution_count": 1,
   "metadata": {},
   "outputs": [
    {
     "name": "stderr",
     "output_type": "stream",
     "text": [
      "Using TensorFlow backend.\n"
     ]
    }
   ],
   "source": [
    "from keras import backend as K\n",
    "\n",
    "def MSE_loss(y_true, y_pred):\n",
    "    return K.mean(K.square(y_pred - y_true), axis=-1)"
   ]
  },
  {
   "cell_type": "markdown",
   "metadata": {},
   "source": [
    "## 自定义metrics指标\n",
    "与定义loss函数相似，一定要写成`y_true, y_pred`"
   ]
  },
  {
   "cell_type": "code",
   "execution_count": 2,
   "metadata": {},
   "outputs": [],
   "source": [
    "from keras import backend as K\n",
    "\n",
    "def categorical_accuracy(y_true, y_pred):\n",
    "    return K.cast(K.equal(K.argmax(y_true, axis=-1),\n",
    "                          K.argmax(y_pred, axis=-1)),\n",
    "                  K.floatx())"
   ]
  },
  {
   "cell_type": "markdown",
   "metadata": {},
   "source": [
    "## 自定义layer\n",
    "以全相连网络为例。<br>\n",
    "以下的是一些基础参数，必须要有，其他的可以自行添加。<br>\n",
    "`bias`中的`shape`一定要写成这样`shape=(self.output_dim,)`。这是一个迭代器。"
   ]
  },
  {
   "cell_type": "code",
   "execution_count": 3,
   "metadata": {},
   "outputs": [],
   "source": [
    "from keras import backend as K\n",
    "from keras.engine.topology import Layer\n",
    "\n",
    "class Linear(Layer):\n",
    "    def __init__(self, output_dim,\n",
    "                 **kwargs):\n",
    "        super(Linear, self).__init__(**kwargs)\n",
    "        self.output_dim = output_dim\n",
    "\n",
    "    def build(self, input_shape):\n",
    "        assert len(input_shape) >= 2\n",
    "        input_dim = input_shape[-1]\n",
    "\n",
    "        self.kernel = self.add_weight(\n",
    "            name='weights',\n",
    "            shape=(input_dim, self.output_dim),\n",
    "            initializer='uniform',\n",
    "            trainable=True)\n",
    "        self.bias = self.add_weight(\n",
    "            name='bias',\n",
    "            shape=(self.output_dim,),\n",
    "            initializer='uniform',\n",
    "            trainable=True)\n",
    "\n",
    "    def call(self, x):\n",
    "        out = K.dot(x, self.kernel)\n",
    "        out = K.bias_add(out, self.bias)\n",
    "        return out\n",
    "\n",
    "    def compute_output_shape(self, input_shape):\n",
    "        return (input_shape[0], self.output_dim)"
   ]
  },
  {
   "cell_type": "markdown",
   "metadata": {},
   "source": [
    "## 自定义 optimizer"
   ]
  },
  {
   "cell_type": "code",
   "execution_count": 4,
   "metadata": {},
   "outputs": [],
   "source": [
    "from keras import backend as K\n",
    "from keras.optimizers import Optimizer\n",
    "\n",
    "\n",
    "class toy_SGD(Optimizer):\n",
    "    def __init__(self, lr=0.01, **kwargs):\n",
    "        super(toy_SGD, self).__init__(**kwargs)\n",
    "        with K.name_scope(self.__class__.__name__):\n",
    "            self.iterations = K.variable(0, dtype='int64', name='iterations')\n",
    "            self.lr = K.variable(lr, name='lr')\n",
    "\n",
    "    def get_updates(self, loss, params):\n",
    "        grads = self.get_gradients(loss, params)\n",
    "        self.updates = [K.update_add(self.iterations, 1)]\n",
    "        lr = self.lr\n",
    "        for p, g in zip(params, grads):\n",
    "            v = - lr * g  # velocity\n",
    "            new_p = p + v\n",
    "            self.updates.append(K.update(p, new_p))\n",
    "        return self.updates"
   ]
  }
 ],
 "metadata": {
  "kernelspec": {
   "display_name": "Python 3",
   "language": "python",
   "name": "python3"
  },
  "language_info": {
   "codemirror_mode": {
    "name": "ipython",
    "version": 3
   },
   "file_extension": ".py",
   "mimetype": "text/x-python",
   "name": "python",
   "nbconvert_exporter": "python",
   "pygments_lexer": "ipython3",
   "version": "3.5.2"
  }
 },
 "nbformat": 4,
 "nbformat_minor": 2
}
