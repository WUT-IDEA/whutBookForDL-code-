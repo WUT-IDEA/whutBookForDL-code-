{
 "cells": [
  {
   "cell_type": "code",
   "execution_count": 1,
   "metadata": {},
   "outputs": [],
   "source": [
    "# -*- coding: utf-8 -*-\n",
    "\n",
    "from __future__ import absolute_import\n",
    "from __future__ import division\n",
    "from __future__ import print_function\n",
    "from six.moves import xrange\n",
    "\n",
    "\n",
    "import numpy as np\n",
    "import os"
   ]
  },
  {
   "cell_type": "code",
   "execution_count": 2,
   "metadata": {},
   "outputs": [],
   "source": [
    "image_shape = [10, 10]\n",
    "\n",
    "\n",
    "def fake_data_generator(num=4):\n",
    "    # define make direction func\n",
    "    def mkdir(name=None):\n",
    "        if os.path.exists(name):\n",
    "            pass\n",
    "        else:\n",
    "            os.mkdir(name)\n",
    "\n",
    "    # generate images\n",
    "    mkdir(name='images')\n",
    "    for i in xrange(num):\n",
    "        new_array = np.zeros(shape=(image_shape), dtype=np.float32) * num\n",
    "        np.save(file='images/%s.npy' % i, arr=new_array)\n",
    "    # generate text\n",
    "    mkdir(name='text')\n",
    "    for i in xrange(num):\n",
    "        new_text = str(i)\n",
    "        with open('text/%s.txt' % i, mode='w') as text_buffer:\n",
    "            text_buffer.write(new_text)\n",
    "\n",
    "\n",
    "fake_data_generator()"
   ]
  },
  {
   "cell_type": "markdown",
   "metadata": {},
   "source": [
    "keras中对于内存或者显存不足的情况、存储空间充足的情况，都可以采用生成器的方式实现（如下）。"
   ]
  },
  {
   "cell_type": "code",
   "execution_count": 3,
   "metadata": {},
   "outputs": [
    {
     "name": "stdout",
     "output_type": "stream",
     "text": [
      "[array([[0., 0., 0., 0., 0., 0., 0., 0., 0., 0.],\n",
      "       [0., 0., 0., 0., 0., 0., 0., 0., 0., 0.],\n",
      "       [0., 0., 0., 0., 0., 0., 0., 0., 0., 0.],\n",
      "       [0., 0., 0., 0., 0., 0., 0., 0., 0., 0.],\n",
      "       [0., 0., 0., 0., 0., 0., 0., 0., 0., 0.],\n",
      "       [0., 0., 0., 0., 0., 0., 0., 0., 0., 0.],\n",
      "       [0., 0., 0., 0., 0., 0., 0., 0., 0., 0.],\n",
      "       [0., 0., 0., 0., 0., 0., 0., 0., 0., 0.],\n",
      "       [0., 0., 0., 0., 0., 0., 0., 0., 0., 0.],\n",
      "       [0., 0., 0., 0., 0., 0., 0., 0., 0., 0.]], dtype=float32), array([[0., 0., 0., 0., 0., 0., 0., 0., 0., 0.],\n",
      "       [0., 0., 0., 0., 0., 0., 0., 0., 0., 0.],\n",
      "       [0., 0., 0., 0., 0., 0., 0., 0., 0., 0.],\n",
      "       [0., 0., 0., 0., 0., 0., 0., 0., 0., 0.],\n",
      "       [0., 0., 0., 0., 0., 0., 0., 0., 0., 0.],\n",
      "       [0., 0., 0., 0., 0., 0., 0., 0., 0., 0.],\n",
      "       [0., 0., 0., 0., 0., 0., 0., 0., 0., 0.],\n",
      "       [0., 0., 0., 0., 0., 0., 0., 0., 0., 0.],\n",
      "       [0., 0., 0., 0., 0., 0., 0., 0., 0., 0.],\n",
      "       [0., 0., 0., 0., 0., 0., 0., 0., 0., 0.]], dtype=float32)] ['0', '1']\n",
      "[array([[0., 0., 0., 0., 0., 0., 0., 0., 0., 0.],\n",
      "       [0., 0., 0., 0., 0., 0., 0., 0., 0., 0.],\n",
      "       [0., 0., 0., 0., 0., 0., 0., 0., 0., 0.],\n",
      "       [0., 0., 0., 0., 0., 0., 0., 0., 0., 0.],\n",
      "       [0., 0., 0., 0., 0., 0., 0., 0., 0., 0.],\n",
      "       [0., 0., 0., 0., 0., 0., 0., 0., 0., 0.],\n",
      "       [0., 0., 0., 0., 0., 0., 0., 0., 0., 0.],\n",
      "       [0., 0., 0., 0., 0., 0., 0., 0., 0., 0.],\n",
      "       [0., 0., 0., 0., 0., 0., 0., 0., 0., 0.],\n",
      "       [0., 0., 0., 0., 0., 0., 0., 0., 0., 0.]], dtype=float32), array([[0., 0., 0., 0., 0., 0., 0., 0., 0., 0.],\n",
      "       [0., 0., 0., 0., 0., 0., 0., 0., 0., 0.],\n",
      "       [0., 0., 0., 0., 0., 0., 0., 0., 0., 0.],\n",
      "       [0., 0., 0., 0., 0., 0., 0., 0., 0., 0.],\n",
      "       [0., 0., 0., 0., 0., 0., 0., 0., 0., 0.],\n",
      "       [0., 0., 0., 0., 0., 0., 0., 0., 0., 0.],\n",
      "       [0., 0., 0., 0., 0., 0., 0., 0., 0., 0.],\n",
      "       [0., 0., 0., 0., 0., 0., 0., 0., 0., 0.],\n",
      "       [0., 0., 0., 0., 0., 0., 0., 0., 0., 0.],\n",
      "       [0., 0., 0., 0., 0., 0., 0., 0., 0., 0.]], dtype=float32)] ['2', '3']\n"
     ]
    }
   ],
   "source": [
    "class Generator():\n",
    "    def __init__(self, img_dir, text_dir, batch_size=2):\n",
    "        self.img_dir = img_dir\n",
    "        self.text_dir = text_dir\n",
    "\n",
    "        self.images = [os.path.join(self.img_dir, fl) for fl in sorted(os.listdir(self.img_dir))]\n",
    "        self.texts = [os.path.join(self.text_dir, fl) for fl in sorted(os.listdir(self.text_dir))]\n",
    "\n",
    "        self.batch_size = batch_size\n",
    "        assert len(os.listdir(self.text_dir)) == len(os.listdir(self.text_dir))\n",
    "        self.NUM = len(os.listdir(self.text_dir))\n",
    "\n",
    "    def next(self):\n",
    "        batch_index = 0\n",
    "        for _ in xrange(self.__len__()):\n",
    "            batch_img = self.images[batch_index:batch_index + self.batch_size]\n",
    "            batch_text = self.texts[batch_index:batch_index + self.batch_size]\n",
    "            batch_index = (batch_index + self.batch_size) % self.NUM\n",
    "            yield (self.load_npy(batch_img), self.load_txt(batch_text))\n",
    "\n",
    "    def load_npy(self, files):\n",
    "        return [np.load(fl) for fl in files]\n",
    "\n",
    "    def load_txt(self, files):\n",
    "        txt = []\n",
    "        for fl in files:\n",
    "            with open(fl, 'r') as stream:\n",
    "                txt.append(stream.read())\n",
    "        return txt\n",
    "\n",
    "    def __len__(self):\n",
    "        return self.NUM // self.batch_size\n",
    "\n",
    "\n",
    "gen = Generator(img_dir='images', text_dir='text')\n",
    "\n",
    "for batch_img, batch_text in gen.next():\n",
    "    print(batch_img, batch_text)"
   ]
  }
 ],
 "metadata": {
  "kernelspec": {
   "display_name": "Python 3",
   "language": "python",
   "name": "python3"
  },
  "language_info": {
   "codemirror_mode": {
    "name": "ipython",
    "version": 3
   },
   "file_extension": ".py",
   "mimetype": "text/x-python",
   "name": "python",
   "nbconvert_exporter": "python",
   "pygments_lexer": "ipython3",
   "version": "3.5.2"
  }
 },
 "nbformat": 4,
 "nbformat_minor": 2
}
