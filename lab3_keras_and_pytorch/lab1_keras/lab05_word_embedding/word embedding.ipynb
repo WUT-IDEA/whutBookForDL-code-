{
 "cells": [
  {
   "cell_type": "markdown",
   "metadata": {},
   "source": [
    "# keras使用Embedding层\n",
    "此书使用之前tensorflow教程中训练好的gensim模型，用户结合自身情况使用"
   ]
  },
  {
   "cell_type": "code",
   "execution_count": 5,
   "metadata": {},
   "outputs": [
    {
     "name": "stderr",
     "output_type": "stream",
     "text": [
      "Using TensorFlow backend.\n",
      "INFO : loading Word2Vec object from brown_skipgram.model\n",
      "INFO : loading wv recursively from brown_skipgram.model.wv.* with mmap=None\n",
      "INFO : setting ignored attribute vectors_norm to None\n",
      "INFO : loading vocabulary recursively from brown_skipgram.model.vocabulary.* with mmap=None\n",
      "INFO : loading trainables recursively from brown_skipgram.model.trainables.* with mmap=None\n",
      "INFO : setting ignored attribute cum_table to None\n",
      "INFO : loaded brown_skipgram.model\n",
      "/usr/local/lib/python3.5/dist-packages/ipykernel_launcher.py:21: DeprecationWarning: Call to deprecated `syn0` (Attribute will be removed in 4.0.0, use self.wv.vectors instead).\n"
     ]
    }
   ],
   "source": [
    "# -*- coding: utf-8 -*-\n",
    "\n",
    "from __future__ import absolute_import\n",
    "from __future__ import division\n",
    "from __future__ import print_function\n",
    "from six.moves import xrange\n",
    "\n",
    "import gensim\n",
    "import numpy as np\n",
    "from keras.layers import Embedding\n",
    "\n",
    "emb_weights = gensim.models.Word2Vec.load('brown_skipgram.model')\n",
    "\n",
    "word_list = \"woman women man girl boy green blue did\".split()\n",
    "word2ind = {word: ind for ind, word in enumerate(word_list)}\n",
    "vocab_size = len(word_list)\n",
    "embedding_dim = emb_weights.wv.vector_size\n",
    "\n",
    "embedding_matrix = np.zeros(shape=(vocab_size, embedding_dim))\n",
    "for ind, word in enumerate(word_list):\n",
    "    embedding_matrix[ind, :] = emb_weights.wv.syn0[emb_weights.wv.vocab[word].index]\n",
    "\n",
    "embedding_layer = Embedding(input_dim=vocab_size,\n",
    "                            output_dim=embedding_dim,\n",
    "                            input_length=None,\n",
    "                            weights=[emb_weights],\n",
    "                            trainable=False)\n"
   ]
  }
 ],
 "metadata": {
  "kernelspec": {
   "display_name": "Python 3",
   "language": "python",
   "name": "python3"
  },
  "language_info": {
   "codemirror_mode": {
    "name": "ipython",
    "version": 3
   },
   "file_extension": ".py",
   "mimetype": "text/x-python",
   "name": "python",
   "nbconvert_exporter": "python",
   "pygments_lexer": "ipython3",
   "version": "3.5.2"
  }
 },
 "nbformat": 4,
 "nbformat_minor": 2
}
