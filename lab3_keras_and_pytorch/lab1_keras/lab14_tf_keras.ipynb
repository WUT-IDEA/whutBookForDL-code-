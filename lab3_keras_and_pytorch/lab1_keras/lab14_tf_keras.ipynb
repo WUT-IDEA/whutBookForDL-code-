{
 "cells": [
  {
   "cell_type": "markdown",
   "metadata": {},
   "source": [
    "# TensorFlow和Keras混合编程"
   ]
  },
  {
   "cell_type": "code",
   "execution_count": 1,
   "metadata": {},
   "outputs": [],
   "source": [
    "# -*- coding: utf-8 -*-\n",
    "\n",
    "from __future__ import absolute_import\n",
    "from __future__ import division\n",
    "from __future__ import print_function\n",
    "from six.moves import xrange"
   ]
  },
  {
   "cell_type": "markdown",
   "metadata": {},
   "source": [
    "## 方式1：使用tf.keras的Sequential和Functional建模"
   ]
  },
  {
   "cell_type": "code",
   "execution_count": 3,
   "metadata": {},
   "outputs": [
    {
     "name": "stdout",
     "output_type": "stream",
     "text": [
      "Epoch 1/1\n",
      "60000/60000 [==============================] - 1s 19us/step - loss: 2.0045 - acc: 0.3821\n",
      "10000/10000 [==============================] - 0s 42us/step\n",
      "[1.57093619556427, 0.6804]\n"
     ]
    }
   ],
   "source": [
    "import tensorflow as tf\n",
    "\n",
    "(x_train, y_train), (x_test, y_test) = tf.keras.datasets.mnist.load_data()\n",
    "x_train, x_test = x_train / 255.0, x_test / 255.0\n",
    "\n",
    "# Sequential\n",
    "model = tf.keras.models.Sequential([\n",
    "    tf.keras.layers.Flatten(),\n",
    "    tf.keras.layers.Dense(128, activation=tf.nn.relu),\n",
    "    tf.keras.layers.Dense(10, activation=tf.nn.softmax),\n",
    "])\n",
    "\n",
    "# Functional\n",
    "# input_tensor = tf.keras.layers.Input(shape=(28, 28,))\n",
    "# inner = tf.keras.layers.Flatten()(input_tensor)\n",
    "# inner = tf.keras.layers.Dense(128, activation=tf.nn.relu)(inner)\n",
    "# output_tensor = tf.keras.layers.Dense(10, activation=tf.nn.softmax)(inner)\n",
    "# model = tf.keras.models.Model(input_tensor, output_tensor)\n",
    "\n",
    "model.compile(optimizer=tf.train.AdamOptimizer(),\n",
    "              loss=tf.keras.losses.sparse_categorical_crossentropy,\n",
    "              metrics=['accuracy'])\n",
    "\n",
    "model.fit(x_train, y_train, batch_size=10000, epochs=1)\n",
    "result = model.evaluate(x_test, y_test)\n",
    "print(result)"
   ]
  },
  {
   "cell_type": "markdown",
   "metadata": {},
   "source": [
    "## 方式2：使用tf.keras.layers和Functional代码代替tf.nn.layers"
   ]
  },
  {
   "cell_type": "code",
   "execution_count": 4,
   "metadata": {},
   "outputs": [
    {
     "name": "stdout",
     "output_type": "stream",
     "text": [
      "loss: 2.35689, acc: 0.12800\n",
      "loss: 2.19394, acc: 0.22910\n",
      "loss: 2.04874, acc: 0.36950\n",
      "loss: 1.94520, acc: 0.45700\n",
      "loss: 1.82590, acc: 0.54090\n",
      "loss: 1.68981, acc: 0.62480\n"
     ]
    }
   ],
   "source": [
    "x = tf.placeholder(dtype=tf.float32, shape=[None, 28, 28], name='placeholder_x')\n",
    "y = tf.placeholder(dtype=tf.int64, shape=[None, ], name='placeholder_y')\n",
    "\n",
    "# Functional\n",
    "inner = tf.keras.layers.Flatten()(x)\n",
    "inner = tf.keras.layers.Dense(128, activation=tf.nn.relu)(inner)\n",
    "output_tensor = tf.keras.layers.Dense(10)(inner)\n",
    "\n",
    "loss_op = tf.reduce_mean(tf.nn.sparse_softmax_cross_entropy_with_logits(labels=y, logits=output_tensor))\n",
    "optimizer_op = tf.train.AdamOptimizer().minimize(loss_op)\n",
    "accuracy_op = tf.reduce_mean(tf.cast(tf.equal(y, tf.argmax(output_tensor, axis=-1)), dtype=tf.float32))\n",
    "\n",
    "batch_size = 10000\n",
    "sess = tf.Session()\n",
    "sess.run(tf.global_variables_initializer())\n",
    "for _ in xrange(1):\n",
    "    for i in xrange(len(x_train) // batch_size):\n",
    "        batch_x, batch_y = x_train[i * batch_size:(i + 1) * batch_size], y_train[i * batch_size:(i + 1) * batch_size]\n",
    "        _, batch_loss, batch_acc = sess.run([optimizer_op, loss_op, accuracy_op], feed_dict={x: batch_x, y: batch_y})\n",
    "        print('loss: %-.5f, acc: %-.5f' % (batch_loss, batch_acc))"
   ]
  }
 ],
 "metadata": {
  "kernelspec": {
   "display_name": "Python 3",
   "language": "python",
   "name": "python3"
  },
  "language_info": {
   "codemirror_mode": {
    "name": "ipython",
    "version": 3
   },
   "file_extension": ".py",
   "mimetype": "text/x-python",
   "name": "python",
   "nbconvert_exporter": "python",
   "pygments_lexer": "ipython3",
   "version": "3.5.2"
  }
 },
 "nbformat": 4,
 "nbformat_minor": 2
}
