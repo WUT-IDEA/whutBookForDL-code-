{
 "cells": [
  {
   "cell_type": "code",
   "execution_count": 1,
   "metadata": {},
   "outputs": [],
   "source": [
    "%matplotlib inline"
   ]
  },
  {
   "cell_type": "markdown",
   "metadata": {},
   "source": [
    "递归神经网络 - Recurrent Neural Network\n",
    "====\n",
    ">Python2.7 + Pytorch 1.2.0 backened\n",
    ">\n",
    ">text"
   ]
  },
  {
   "cell_type": "code",
   "execution_count": 2,
   "metadata": {},
   "outputs": [],
   "source": [
    "# -*- coding: utf-8 -*-\n",
    "\n",
    "from __future__ import absolute_import\n",
    "from __future__ import division\n",
    "from __future__ import print_function\n",
    "from six.moves import xrange\n"
   ]
  },
  {
   "cell_type": "code",
   "execution_count": 3,
   "metadata": {},
   "outputs": [],
   "source": [
    "test_sentence = \"\"\"\n",
    "Deep learning (also known as deep structured learning or hierarchical learning)\n",
    "is part of a broader family of machine learning methods based on learning data\n",
    "representations, as opposed to task-specific algorithms. Learning can be supervised,\n",
    "semi-supervised or unsupervised. Deep learning models are loosely related to information\n",
    "processing and communication patterns in a biological nervous system, such as neural\n",
    "coding that attempts to define a relationship between various stimuli and associated\n",
    "neuronal responses in the brain. Deep learning architectures such as deep neural\n",
    "networks, deep belief networks and recurrent neural networks have been applied to\n",
    "fields including computer vision, speech recognition, natural language processing,\n",
    "audio recognition, social network filtering, machine translation, bioinformatics\n",
    "and drug design,[5] where they have produced results comparable to and in some\n",
    "cases superior[6] to human experts.\n",
    "\"\"\".split()\n",
    "# from wikipedia https://en.wikipedia.org/wiki/Deep_learning\n",
    "\n",
    "vocab = set(test_sentence)\n",
    "word2ind = {word: i for i, word in enumerate(vocab)}\n",
    "ind2word = {i: word for i, word in enumerate(vocab)}\n",
    "\n",
    "x_length = 2\n",
    "num_classes = len(vocab)\n"
   ]
  },
  {
   "cell_type": "code",
   "execution_count": 4,
   "metadata": {},
   "outputs": [
    {
     "name": "stderr",
     "output_type": "stream",
     "text": [
      "Using TensorFlow backend.\n"
     ]
    }
   ],
   "source": [
    "data_num = len(test_sentence) - x_length\n",
    "x = [[word2ind[ch] for ch in test_sentence[i:i + x_length]]\n",
    "     for i in xrange(len(test_sentence) - x_length)]\n",
    "y = [[word2ind[test_sentence[i]]] for i in xrange(x_length, len(test_sentence))]\n",
    "\n",
    "import keras\n",
    "import numpy as np\n",
    "\n",
    "y = keras.utils.to_categorical(y, num_classes)\n"
   ]
  },
  {
   "cell_type": "code",
   "execution_count": 5,
   "metadata": {},
   "outputs": [],
   "source": [
    "# parameter\n",
    "hidden_size = 32\n",
    "num_layers = 2\n",
    "image_size = (x_length,)\n",
    "EMBEDDING_DIM = 10"
   ]
  },
  {
   "cell_type": "code",
   "execution_count": 6,
   "metadata": {},
   "outputs": [
    {
     "name": "stdout",
     "output_type": "stream",
     "text": [
      "__________________________________________________________________________________________________\n",
      "Layer (type)                    Output Shape         Param #     Connected to                     \n",
      "==================================================================================================\n",
      "input_1 (InputLayer)            (None, 2)            0                                            \n",
      "__________________________________________________________________________________________________\n",
      "embedding_1 (Embedding)         (None, 2, 10)        950         input_1[0][0]                    \n",
      "__________________________________________________________________________________________________\n",
      "lstm_1 (LSTM)                   (None, 2, 32)        5504        embedding_1[0][0]                \n",
      "__________________________________________________________________________________________________\n",
      "lstm_2 (LSTM)                   (None, 2, 32)        5504        embedding_1[0][0]                \n",
      "__________________________________________________________________________________________________\n",
      "concatenate_1 (Concatenate)     (None, 2, 64)        0           lstm_1[0][0]                     \n",
      "                                                                 lstm_2[0][0]                     \n",
      "__________________________________________________________________________________________________\n",
      "lstm_3 (LSTM)                   (None, 2, 32)        12416       concatenate_1[0][0]              \n",
      "__________________________________________________________________________________________________\n",
      "lstm_4 (LSTM)                   (None, 2, 32)        12416       concatenate_1[0][0]              \n",
      "__________________________________________________________________________________________________\n",
      "concatenate_2 (Concatenate)     (None, 2, 64)        0           lstm_3[0][0]                     \n",
      "                                                                 lstm_4[0][0]                     \n",
      "__________________________________________________________________________________________________\n",
      "flatten_1 (Flatten)             (None, 128)          0           concatenate_2[0][0]              \n",
      "__________________________________________________________________________________________________\n",
      "dense_1 (Dense)                 (None, 95)           12255       flatten_1[0][0]                  \n",
      "==================================================================================================\n",
      "Total params: 49,045\n",
      "Trainable params: 49,045\n",
      "Non-trainable params: 0\n",
      "__________________________________________________________________________________________________\n"
     ]
    }
   ],
   "source": [
    "from keras.models import Model\n",
    "from keras.layers import Input, Dense, Flatten, SimpleRNN, GRU, LSTM, concatenate, Embedding\n",
    "\n",
    "# basic RNN/GRU\n",
    "input_tensor = Input(shape=image_size)\n",
    "inner = input_tensor\n",
    "inner = Embedding(input_dim=num_classes, output_dim=EMBEDDING_DIM, input_shape=image_size)(inner)\n",
    "for _ in xrange(num_layers):\n",
    "    # # RNN\n",
    "    # inner = SimpleRNN(units=hidden_size, input_shape=image_size, return_sequences=True)(inner)\n",
    "\n",
    "    # # GRU\n",
    "    # inner = GRU(units=hidden_size, input_shape=image_size, return_sequences=True)(inner)\n",
    "\n",
    "    # # LSTM\n",
    "    # inner = LSTM(units=hidden_size, input_shape=image_size, return_sequences=True)(inner)\n",
    "\n",
    "    # BiLSTM\n",
    "    inner_f = LSTM(units=hidden_size, return_sequences=True)(inner)\n",
    "    inner_b = LSTM(units=hidden_size, return_sequences=True, go_backwards=True)(inner)\n",
    "    inner = concatenate([inner_f, inner_b], axis=-1)\n",
    "inner = Flatten()(inner)\n",
    "inner = Dense(units=num_classes, activation='softmax')(inner)\n",
    "model = Model(inputs=input_tensor, outputs=inner)\n",
    "\n",
    "model.summary()\n"
   ]
  },
  {
   "cell_type": "code",
   "execution_count": 7,
   "metadata": {},
   "outputs": [
    {
     "name": "stdout",
     "output_type": "stream",
     "text": [
      "Epoch 1000 / 10000, training cost: 0.0540225990117, accuracy: 0.968503952026\n",
      "Epoch 2000 / 10000, training cost: 0.0502658747137, accuracy: 0.968503952026\n",
      "Epoch 3000 / 10000, training cost: 0.0492859184742, accuracy: 0.968503952026\n",
      "Epoch 4000 / 10000, training cost: 0.0488480292261, accuracy: 0.968503952026\n",
      "Epoch 5000 / 10000, training cost: 0.0486021824181, accuracy: 0.968503952026\n",
      "Epoch 6000 / 10000, training cost: 0.0484455749393, accuracy: 0.968503952026\n",
      "Epoch 7000 / 10000, training cost: 0.0483370982111, accuracy: 0.968503952026\n",
      "Epoch 8000 / 10000, training cost: 0.0482578650117, accuracy: 0.968503952026\n",
      "Epoch 9000 / 10000, training cost: 0.0481976792216, accuracy: 0.968503952026\n",
      "Epoch 10000 / 10000, training cost: 0.0481498874724, accuracy: 0.968503952026\n"
     ]
    }
   ],
   "source": [
    "from keras.optimizers import *\n",
    "\n",
    "model.compile(loss='categorical_crossentropy',\n",
    "              optimizer=Adagrad(),\n",
    "              metrics=['accuracy'])\n",
    "\n",
    "training_epoch = 10000\n",
    "history = model.fit(x, y,\n",
    "                    batch_size=len(x),\n",
    "                    epochs=training_epoch,\n",
    "                    verbose=0)\n",
    "\n",
    "for epoch in xrange(1, 1 + training_epoch):\n",
    "    if epoch % 1000 == 0:\n",
    "        print('Epoch %s / %s, training cost: %s, accuracy: %s' % \\\n",
    "              (epoch, training_epoch, history.history['loss'][epoch - 1], history.history['acc'][epoch - 1]))\n"
   ]
  },
  {
   "cell_type": "code",
   "execution_count": 8,
   "metadata": {},
   "outputs": [
    {
     "name": "stdout",
     "output_type": "stream",
     "text": [
      "Distance between these two sentences is 513\n",
      "\u001b[1;31;40m Deep learning (also known as deep structured learning or hierarchical learning) is part of a broader family of machine learning methods based on learning data representations, as opposed to task-specific algorithms. Learning can be supervised, semi-supervised or unsupervised. Deep learning models are loosely related to information processing and communication patterns in a biological nervous system, such as neural coding that attempts to define a relationship between various stimuli and associated neuronal responses in the brain. Deep learning architectures such as deep neural networks, deep belief networks and recurrent neural networks have been applied to fields including computer vision, speech recognition, natural language processing, audio recognition, social network filtering, machine translation, bioinformatics and drug design,[5] where they have produced results comparable to and in some cases superior[6] to human experts. \u001b[0m\n",
      "Deep learning models are loosely related to information processing and communication patterns in a biological nervous system, such as neural coding that attempts to define a relationship between various stimuli and associated neuronal responses in the brain. Deep learning models are loosely related to information processing and communication patterns in a biological nervous system, such as neural coding that attempts to define a relationship between various stimuli and associated neuronal responses in the brain. Deep learning models are loosely related to information processing and communication patterns in a biological nervous system, such as neural coding that attempts to define a relationship between various stimuli and associated neuronal responses in the brain. Deep learning models are loosely related to information processing and communication patterns in a biological nervous system, such\n"
     ]
    }
   ],
   "source": [
    "# generating text\n",
    "context_idxs = [word2ind['Deep'], word2ind['learning']]\n",
    "logue = context_idxs\n",
    "for i in xrange(data_num):\n",
    "    context_var = np.asarray(context_idxs).reshape(1, x_length)\n",
    "    context_idxs = np.argmax(model.predict(context_var))\n",
    "    logue.append(context_idxs)\n",
    "    context_idxs = logue[-2:]\n",
    "\n",
    "pred_sentence = ' '.join([ind2word[i] for i in logue])\n",
    "\n",
    "import editdistance\n",
    "\n",
    "print('Distance between these two sentences is %s' % \\\n",
    "      (editdistance.eval(' '.join(test_sentence), pred_sentence)))\n",
    "print(\"\\033[1;31;40m %s \\033[0m\" % (' '.join(test_sentence)))\n",
    "print(pred_sentence)\n"
   ]
  }
 ],
 "metadata": {
  "kernelspec": {
   "display_name": "Python 3",
   "language": "python",
   "name": "python3"
  },
  "language_info": {
   "codemirror_mode": {
    "name": "ipython",
    "version": 3
   },
   "file_extension": ".py",
   "mimetype": "text/x-python",
   "name": "python",
   "nbconvert_exporter": "python",
   "pygments_lexer": "ipython3",
   "version": "3.5.2"
  }
 },
 "nbformat": 4,
 "nbformat_minor": 1
}
