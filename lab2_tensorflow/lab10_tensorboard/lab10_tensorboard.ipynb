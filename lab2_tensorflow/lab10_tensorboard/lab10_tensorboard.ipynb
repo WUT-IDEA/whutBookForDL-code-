{
 "cells": [
  {
   "cell_type": "markdown",
   "metadata": {},
   "source": [
    "#### 1.run this code in interminal first<br>\n",
    "#### 2.then run \"tensorboard --logdir history\" or \"tensorboard --logdir=history\" in interminal"
   ]
  },
  {
   "cell_type": "code",
   "execution_count": null,
   "metadata": {},
   "outputs": [],
   "source": [
    "# -*- coding: utf-8 -*-\n",
    "from __future__ import absolute_import\n",
    "from __future__ import division\n",
    "from __future__ import print_function\n",
    "from six.moves import xrange\n",
    "\n",
    "# dataset\n",
    "from tensorflow.examples.tutorials.mnist import input_data\n",
    "\n",
    "mnist = input_data.read_data_sets(\"../MNIST_data/\")\n",
    "\n",
    "import tensorflow as tf\n",
    "\n",
    "# hyper parameters\n",
    "input_size = 784\n",
    "hidden_size = 64\n",
    "num_classes = 10\n",
    "\n",
    "# placeholder\n",
    "graph = tf.Graph()\n",
    "with graph.as_default():\n",
    "    with tf.name_scope('placehold'):\n",
    "        x = tf.placeholder(dtype=tf.float32, shape=[None, input_size], name='x')\n",
    "        y = tf.placeholder(dtype=tf.int64, shape=[None, ], name='y')\n",
    "\n",
    "    with tf.variable_scope('linear1'):\n",
    "        # hidden layer\n",
    "        weights = tf.Variable(tf.random_normal([input_size, hidden_size]), name='linear1_kernel')\n",
    "        bias = tf.Variable(tf.random_normal([hidden_size]), name='linear1_bias')\n",
    "        linear1 = tf.matmul(x, weights) + bias\n",
    "\n",
    "        tf.summary.histogram(\"linear1_kernel\", weights)\n",
    "        tf.summary.histogram(\"linear1_bias\", bias)\n",
    "        tf.summary.histogram(\"linear1_output\", linear1)\n",
    "\n",
    "    with tf.name_scope('linear2'):\n",
    "        linear2 = tf.layers.dense(inputs=linear1, units=num_classes, name='linear2')\n",
    "\n",
    "        tf.summary.histogram(\"linear2_output\", linear2)\n",
    "\n",
    "    y_ = linear2\n",
    "\n",
    "    with tf.name_scope('loss_op'):\n",
    "        loss_op = tf.reduce_mean(tf.nn.sparse_softmax_cross_entropy_with_logits(logits=y_, labels=y))\n",
    "        tf.summary.scalar(\"loss\", loss_op)\n",
    "\n",
    "    with tf.name_scope('train_op'):\n",
    "        train_op = tf.train.AdamOptimizer(learning_rate=1e-5).minimize(loss_op)\n",
    "\n",
    "    with tf.name_scope('accuracy_op'):\n",
    "        accuracy_op = tf.reduce_mean(tf.cast(tf.equal(y, tf.argmax(y_, 1)), dtype=tf.float32))\n",
    "        tf.summary.scalar(\"accuracy_op\", accuracy_op)\n",
    "\n",
    "    summary = tf.summary.merge_all()\n",
    "\n",
    "# initialize\n",
    "with tf.Session(graph=graph) as sess:\n",
    "    sess.run(tf.global_variables_initializer())\n",
    "\n",
    "    # Create summary writer\n",
    "    writer = tf.summary.FileWriter('history', sess.graph)\n",
    "    writer.add_graph(sess.graph)\n",
    "    global_step = 0\n",
    "\n",
    "    # training\n",
    "    for i in range(100):\n",
    "        batch_size = 100\n",
    "        batch_episodes = len(mnist.train.images) // batch_size\n",
    "        for _ in xrange(batch_episodes):\n",
    "            batch_xs, batch_ys = mnist.train.next_batch(batch_size)\n",
    "            feed_dict = {x: batch_xs, y: batch_ys}\n",
    "            s, _ = sess.run([summary, train_op], feed_dict=feed_dict)\n",
    "            writer.add_summary(s, global_step=global_step)\n",
    "            global_step += 1\n",
    "\n",
    "        # evaluate\n",
    "        # print(accuracy_op.eval({x: mnist.test.images, y: mnist.test.labels}))"
   ]
  },
  {
   "cell_type": "markdown",
   "metadata": {},
   "source": [
    "结果展示\n",
    "![avatar](scalars.png)\n",
    "![avatar](graphs.png)\n",
    "![avatar](histograms.png)"
   ]
  },
  {
   "cell_type": "code",
   "execution_count": null,
   "metadata": {},
   "outputs": [],
   "source": []
  }
 ],
 "metadata": {
  "kernelspec": {
   "display_name": "Python 3",
   "language": "python",
   "name": "python3"
  },
  "language_info": {
   "codemirror_mode": {
    "name": "ipython",
    "version": 3
   },
   "file_extension": ".py",
   "mimetype": "text/x-python",
   "name": "python",
   "nbconvert_exporter": "python",
   "pygments_lexer": "ipython3",
   "version": "3.5.2"
  }
 },
 "nbformat": 4,
 "nbformat_minor": 2
}
