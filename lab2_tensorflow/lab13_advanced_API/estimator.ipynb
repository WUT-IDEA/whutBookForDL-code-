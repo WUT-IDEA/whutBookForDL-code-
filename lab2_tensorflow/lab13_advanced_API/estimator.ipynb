{
 "cells": [
  {
   "cell_type": "markdown",
   "metadata": {},
   "source": [
    "# TF高级API - estimator\n",
    "\n",
    "更多高级API参考\n",
    "https://github.com/GoogleCloudPlatform/tf-estimator-tutorials"
   ]
  },
  {
   "cell_type": "code",
   "execution_count": 1,
   "metadata": {},
   "outputs": [],
   "source": [
    "# -*- coding: utf-8 -*-\n",
    "\n",
    "from __future__ import absolute_import\n",
    "from __future__ import division\n",
    "from __future__ import print_function\n",
    "from six.moves import xrange"
   ]
  },
  {
   "cell_type": "code",
   "execution_count": 2,
   "metadata": {},
   "outputs": [
    {
     "name": "stderr",
     "output_type": "stream",
     "text": [
      "/usr/local/lib/python3.5/dist-packages/h5py/__init__.py:36: FutureWarning: Conversion of the second argument of issubdtype from `float` to `np.floating` is deprecated. In future, it will be treated as `np.float64 == np.dtype(float).type`.\n",
      "  from ._conv import register_converters as _register_converters\n"
     ]
    },
    {
     "name": "stdout",
     "output_type": "stream",
     "text": [
      "WARNING:tensorflow:From <ipython-input-2-09f82e43e445>:5: read_data_sets (from tensorflow.contrib.learn.python.learn.datasets.mnist) is deprecated and will be removed in a future version.\n",
      "Instructions for updating:\n",
      "Please use alternatives such as official/mnist/dataset.py from tensorflow/models.\n",
      "WARNING:tensorflow:From /usr/local/lib/python3.5/dist-packages/tensorflow/contrib/learn/python/learn/datasets/mnist.py:260: maybe_download (from tensorflow.contrib.learn.python.learn.datasets.base) is deprecated and will be removed in a future version.\n",
      "Instructions for updating:\n",
      "Please write your own downloading logic.\n",
      "WARNING:tensorflow:From /usr/local/lib/python3.5/dist-packages/tensorflow/contrib/learn/python/learn/datasets/mnist.py:262: extract_images (from tensorflow.contrib.learn.python.learn.datasets.mnist) is deprecated and will be removed in a future version.\n",
      "Instructions for updating:\n",
      "Please use tf.data to implement this functionality.\n",
      "Extracting ../MNIST_data/train-images-idx3-ubyte.gz\n",
      "WARNING:tensorflow:From /usr/local/lib/python3.5/dist-packages/tensorflow/contrib/learn/python/learn/datasets/mnist.py:267: extract_labels (from tensorflow.contrib.learn.python.learn.datasets.mnist) is deprecated and will be removed in a future version.\n",
      "Instructions for updating:\n",
      "Please use tf.data to implement this functionality.\n",
      "Extracting ../MNIST_data/train-labels-idx1-ubyte.gz\n",
      "Extracting ../MNIST_data/t10k-images-idx3-ubyte.gz\n",
      "Extracting ../MNIST_data/t10k-labels-idx1-ubyte.gz\n",
      "WARNING:tensorflow:From /usr/local/lib/python3.5/dist-packages/tensorflow/contrib/learn/python/learn/datasets/mnist.py:290: DataSet.__init__ (from tensorflow.contrib.learn.python.learn.datasets.mnist) is deprecated and will be removed in a future version.\n",
      "Instructions for updating:\n",
      "Please use alternatives such as official/mnist/dataset.py from tensorflow/models.\n"
     ]
    }
   ],
   "source": [
    "import tensorflow as tf\n",
    "\n",
    "from tensorflow.examples.tutorials.mnist import input_data\n",
    "\n",
    "mnist = input_data.read_data_sets('../MNIST_data', one_hot=False)\n",
    "\n",
    "classes_num = 10"
   ]
  },
  {
   "cell_type": "code",
   "execution_count": 3,
   "metadata": {},
   "outputs": [],
   "source": [
    "def model_fn(features, labels, mode):\n",
    "    features = features['images']\n",
    "    with tf.name_scope('dense1'):\n",
    "        dense1 = tf.layers.dense(features, 128, activation=tf.nn.relu)\n",
    "        dense1_do = tf.nn.dropout(dense1, keep_prob=0.9)\n",
    "    with tf.name_scope('dense2'):\n",
    "        dense2 = tf.layers.dense(dense1_do, classes_num, activation=tf.nn.relu)\n",
    "        dense2_do = tf.nn.dropout(dense2, keep_prob=0.9)\n",
    "\n",
    "    predictions = tf.argmax(tf.nn.softmax(dense2_do), axis=-1)\n",
    "\n",
    "    if mode == tf.estimator.ModeKeys.PREDICT:\n",
    "        return tf.estimator.EstimatorSpec(mode, predictions=predictions)\n",
    "\n",
    "    labels = tf.cast(labels, dtype=tf.int32)\n",
    "    loss_op = tf.reduce_mean(tf.nn.sparse_softmax_cross_entropy_with_logits(logits=dense2_do, labels=labels))\n",
    "    optimizer_op = tf.train.AdamOptimizer(1e-3).minimize(loss_op, global_step=tf.train.get_global_step())\n",
    "    accuracy_op = tf.metrics.accuracy(labels=labels, predictions=predictions)\n",
    "\n",
    "    esimator_spec = tf.estimator.EstimatorSpec(\n",
    "        mode=mode,\n",
    "        predictions=predictions,\n",
    "        loss=loss_op,\n",
    "        train_op=optimizer_op,\n",
    "        eval_metric_ops={'accuracy': accuracy_op})\n",
    "    return esimator_spec"
   ]
  },
  {
   "cell_type": "code",
   "execution_count": 4,
   "metadata": {},
   "outputs": [
    {
     "name": "stdout",
     "output_type": "stream",
     "text": [
      "INFO:tensorflow:Using default config.\n",
      "INFO:tensorflow:Using config: {'_save_checkpoints_steps': None, '_train_distribute': None, '_cluster_spec': <tensorflow.python.training.server_lib.ClusterSpec object at 0x7f4edec8f390>, '_keep_checkpoint_every_n_hours': 10000, '_log_step_count_steps': 100, '_session_config': None, '_is_chief': True, '_tf_random_seed': None, '_num_ps_replicas': 0, '_master': '', '_save_summary_steps': 100, '_evaluation_master': '', '_model_dir': './model', '_task_id': 0, '_save_checkpoints_secs': 600, '_service': None, '_num_worker_replicas': 1, '_keep_checkpoint_max': 5, '_global_id_in_cluster': 0, '_task_type': 'worker'}\n",
      "INFO:tensorflow:Calling model_fn.\n",
      "INFO:tensorflow:Done calling model_fn.\n",
      "INFO:tensorflow:Create CheckpointSaverHook.\n",
      "INFO:tensorflow:Graph was finalized.\n",
      "INFO:tensorflow:Restoring parameters from ./model/model.ckpt-20\n",
      "INFO:tensorflow:Running local_init_op.\n",
      "INFO:tensorflow:Done running local_init_op.\n",
      "INFO:tensorflow:Saving checkpoints for 21 into ./model/model.ckpt.\n",
      "INFO:tensorflow:step = 20, loss = 1.0139079\n",
      "INFO:tensorflow:Saving checkpoints for 35 into ./model/model.ckpt.\n",
      "INFO:tensorflow:Loss for final step: 0.82481986.\n",
      "INFO:tensorflow:Calling model_fn.\n",
      "INFO:tensorflow:Done calling model_fn.\n",
      "INFO:tensorflow:Starting evaluation at 2018-07-20-08:50:38\n",
      "INFO:tensorflow:Graph was finalized.\n",
      "INFO:tensorflow:Restoring parameters from ./model/model.ckpt-35\n",
      "INFO:tensorflow:Running local_init_op.\n",
      "INFO:tensorflow:Done running local_init_op.\n",
      "INFO:tensorflow:Evaluation [1/5]\n",
      "INFO:tensorflow:Evaluation [2/5]\n",
      "INFO:tensorflow:Evaluation [3/5]\n",
      "INFO:tensorflow:Evaluation [4/5]\n",
      "INFO:tensorflow:Evaluation [5/5]\n",
      "INFO:tensorflow:Finished evaluation at 2018-07-20-08:50:39\n",
      "INFO:tensorflow:Saving dict for global step 35: accuracy = 0.755, global_step = 35, loss = 0.8682882\n",
      "accuracy 0.755\n",
      "global_step 35\n",
      "loss 0.8682882\n"
     ]
    }
   ],
   "source": [
    "# model_dir: Directory to save model parameters, graph and etc. This can\n",
    "#            also be used to load checkpoints from the directory into a estimator to\n",
    "#            continue training a previously saved model.\n",
    "model = tf.estimator.Estimator(model_fn, model_dir='./model')\n",
    "tf.logging.set_verbosity(tf.logging.INFO)\n",
    "\n",
    "# train\n",
    "input_fn = tf.estimator.inputs.numpy_input_fn(x={'images': mnist.train.images}, y=mnist.train.labels,\n",
    "                                              batch_size=1000, num_epochs=None, shuffle=True)\n",
    "model.train(input_fn, steps=15)\n",
    "\n",
    "# evaluate\n",
    "test_fn = tf.estimator.inputs.numpy_input_fn(x={'images': mnist.test.images}, y=mnist.test.labels,\n",
    "                                             batch_size=1000, num_epochs=None, shuffle=False)\n",
    "eva = model.evaluate(test_fn, steps=5)\n",
    "for key, value in eva.items():\n",
    "    print(key, value)"
   ]
  }
 ],
 "metadata": {
  "kernelspec": {
   "display_name": "Python 3",
   "language": "python",
   "name": "python3"
  },
  "language_info": {
   "codemirror_mode": {
    "name": "ipython",
    "version": 3
   },
   "file_extension": ".py",
   "mimetype": "text/x-python",
   "name": "python",
   "nbconvert_exporter": "python",
   "pygments_lexer": "ipython3",
   "version": "3.5.2"
  }
 },
 "nbformat": 4,
 "nbformat_minor": 2
}
