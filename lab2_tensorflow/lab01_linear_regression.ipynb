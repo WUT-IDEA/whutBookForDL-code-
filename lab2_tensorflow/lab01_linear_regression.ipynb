{
 "cells": [
  {
   "cell_type": "code",
   "execution_count": 1,
   "metadata": {},
   "outputs": [],
   "source": [
    "% matplotlib inline\n",
    "# 如若要在jupyter  notebook中使用matplotlib，运行的第一行代码必须为\n",
    "# 可以解决一些画图不兼容问题"
   ]
  },
  {
   "cell_type": "markdown",
   "metadata": {},
   "source": [
    "# TensorFlow 线性回归"
   ]
  },
  {
   "cell_type": "code",
   "execution_count": 2,
   "metadata": {},
   "outputs": [],
   "source": [
    "# -*- coding: utf-8 -*-\n",
    "\n",
    "from __future__ import absolute_import\n",
    "from __future__ import division\n",
    "from __future__ import print_function\n",
    "from six.moves import xrange"
   ]
  },
  {
   "cell_type": "markdown",
   "metadata": {},
   "source": [
    "拟合y = 2*x + 0.1<br>"
   ]
  },
  {
   "cell_type": "code",
   "execution_count": 3,
   "metadata": {},
   "outputs": [],
   "source": [
    "# 生成数据\n",
    "import numpy as np\n",
    "\n",
    "x_data = np.linspace(start=-1, stop=1, num=50)\n",
    "\n",
    "# x表示输入，y表示输出，y_表示y(hat)预测值\n",
    "# 噪声～正态分布，服从均值为0，方差为0.2\n",
    "y_data = 2 * x_data + 0.1\n",
    "y_data_noise = y_data + np.random.normal(loc=0, scale=0.2, size=x_data.shape)"
   ]
  },
  {
   "cell_type": "code",
   "execution_count": 4,
   "metadata": {},
   "outputs": [
    {
     "data": {
      "image/png": "[encoded data removed]",
      "text/plain": [
       "<matplotlib.figure.Figure at 0x7f41cde12150>"
      ]
     },
     "metadata": {},
     "output_type": "display_data"
    }
   ],
   "source": [
    "import matplotlib.pyplot as plt\n",
    "\n",
    "plt.plot(x_data, y_data, 'b-.')\n",
    "plt.plot(x_data, y_data_noise, 'ro')\n",
    "plt.show()"
   ]
  },
  {
   "cell_type": "markdown",
   "metadata": {},
   "source": [
    "利用tensorflow完成拟合"
   ]
  },
  {
   "cell_type": "code",
   "execution_count": 5,
   "metadata": {},
   "outputs": [
    {
     "name": "stdout",
     "output_type": "stream",
     "text": [
      "Epoch 1000 / 10000: loss = 0.392973, y = 0.91406 * x + 0.0748149\n",
      "Epoch 2000 / 10000: loss = 0.122547, y = 1.42364 * x + 0.0849197\n",
      "Epoch 3000 / 10000: loss = 0.0551023, y = 1.67818 * x + 0.0862845\n",
      "Epoch 4000 / 10000: loss = 0.0382746, y = 1.80532 * x + 0.0864689\n",
      "Epoch 5000 / 10000: loss = 0.0340758, y = 1.86883 * x + 0.0864935\n",
      "Epoch 6000 / 10000: loss = 0.0330281, y = 1.90056 * x + 0.0864958\n",
      "Epoch 7000 / 10000: loss = 0.0327667, y = 1.91641 * x + 0.0864958\n",
      "Epoch 8000 / 10000: loss = 0.0327014, y = 1.92432 * x + 0.0864958\n",
      "Epoch 9000 / 10000: loss = 0.0326852, y = 1.92828 * x + 0.0864958\n",
      "Epoch 10000 / 10000: loss = 0.0326811, y = 1.93025 * x + 0.0864958\n"
     ]
    }
   ],
   "source": [
    "# 正式的tensorflow代码风格\n",
    "\n",
    "import tensorflow as tf\n",
    "\n",
    "# hyper-parameter\n",
    "training_episode = 10000\n",
    "train_size = 50\n",
    "test_size = 50\n",
    "learning_rate = 0.01\n",
    "\n",
    "# tensorflow是采用的graph（图结构）实现的——即一切计算在图内部完成。\n",
    "graph = tf.Graph()\n",
    "with graph.as_default():\n",
    "    # tf.name_scope可以帮助我们将图内部结构变得更加系统化\n",
    "    with tf.name_scope('placehold'):\n",
    "        # placehold - tensorflow中的占位符，用于表示从graph外部得到的数据\n",
    "        x = tf.placeholder(dtype=tf.float32, name='x')\n",
    "        y = tf.placeholder(dtype=tf.float32, name='y')\n",
    "\n",
    "    with tf.name_scope('weights'):\n",
    "        # 为拟合目标函数 y=a*x+b 定义变量a和b\n",
    "        weight_a = tf.Variable(tf.random_normal(shape=[1], mean=.0, stddev=.1), name='a')\n",
    "        weight_b = tf.Variable(tf.zeros(shape=[1]), name='b')\n",
    "\n",
    "    y_ = tf.multiply(x, weight_a) + weight_b\n",
    "\n",
    "    with tf.name_scope('loss_op'):\n",
    "        loss_op = tf.reduce_mean(tf.losses.mean_squared_error(y, y_))\n",
    "    with tf.name_scope('train_op'):\n",
    "        train_op = tf.train.GradientDescentOptimizer(learning_rate=0.001).minimize(loss_op)\n",
    "\n",
    "with tf.Session(graph=graph) as session:\n",
    "    session.run(tf.global_variables_initializer())\n",
    "\n",
    "    for i in xrange(1,1+training_episode):\n",
    "        feed = {\n",
    "            x: x_data,\n",
    "            y: y_data_noise\n",
    "        }\n",
    "        _, cost = session.run([train_op, loss_op], feed_dict=feed)\n",
    "\n",
    "        if i % 1000 == 0:\n",
    "            print('Epoch %s / %s: loss = %s, y = %s * x + %s' % (\n",
    "                i, training_episode, cost, session.run(weight_a)[0], session.run(weight_b)[0]))\n",
    "    a, b = session.run(weight_a)[0], session.run(weight_b)[0]"
   ]
  },
  {
   "cell_type": "code",
   "execution_count": 6,
   "metadata": {},
   "outputs": [
    {
     "data": {
      "image/png": "[encoded data removed]",
      "text/plain": [
       "<matplotlib.figure.Figure at 0x7f41cbdc1cd0>"
      ]
     },
     "metadata": {},
     "output_type": "display_data"
    }
   ],
   "source": [
    "plt.plot(x_data, y_data, 'b-.', label='real')\n",
    "plt.plot(x_data, a * x_data + b, 'r--', label='predict')\n",
    "# plt.plot(x_data, y_data_noise, 'ro')\n",
    "plt.legend()\n",
    "plt.show()"
   ]
  },
  {
   "cell_type": "markdown",
   "metadata": {},
   "source": [
    "推荐资料：<br>\n",
    "[回归--wikipedia](https://en.wikipedia.org/wiki/Regression_analysis)<br>\n",
    "[Stanford UFLDL课程，logistic回归（结合神经网络举例）](http://deeplearning.stanford.edu/wiki/index.php/Logistic_Regression_Vectorization_Example)<br>\n",
    "[Stanford UFLDL课程，softmax回归（结合神经网络举例）](http://deeplearning.stanford.edu/wiki/index.php/Logistic_Regression_Vectorization_Example)<br>\n",
    "[Stanford UFLDL课程，softmax回归例子（结合神经网络举例，matlab代码）](http://deeplearning.stanford.edu/wiki/index.php/Logistic_Regression_Vectorization_Example)<br>\n",
    "[sklearn库，regression](http://scikit-learn.org/stable/supervised_learning.html#supervised-learning)<br>"
   ]
  }
 ],
 "metadata": {
  "kernelspec": {
   "display_name": "Python 3",
   "language": "python",
   "name": "python3"
  },
  "language_info": {
   "codemirror_mode": {
    "name": "ipython",
    "version": 3
   },
   "file_extension": ".py",
   "mimetype": "text/x-python",
   "name": "python",
   "nbconvert_exporter": "python",
   "pygments_lexer": "ipython3",
   "version": "3.5.2"
  }
 },
 "nbformat": 4,
 "nbformat_minor": 1
}
